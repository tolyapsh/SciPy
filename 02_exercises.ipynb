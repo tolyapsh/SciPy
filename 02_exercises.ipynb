{
 "metadata": {
  "name": "",
  "signature": "sha256:54dacbbe006d08ac880dbab0907e65af53c54f80672e42d7cae83a84db59bec2"
 },
 "nbformat": 3,
 "nbformat_minor": 0,
 "worksheets": [
  {
   "cells": [
    {
     "cell_type": "heading",
     "level": 1,
     "metadata": {},
     "source": [
      "2.1 Make a Fahrenheit\u2013Celsius conversion table"
     ]
    },
    {
     "cell_type": "markdown",
     "metadata": {},
     "source": [
      "Write a program that prints out a table with Fahrenheit degrees $0, 10, 20,\\dots,100$ in the first column and the corresponding Celsius degrees in the second column. Hint: Modify the `c2f_table_while.py` program from Chapter 2.1.2. Name of program file: `f2c_table_while.py`."
     ]
    },
    {
     "cell_type": "code",
     "collapsed": false,
     "input": [
      "print '-------------'\n",
      "print '|  F  |  C  |'\n",
      "print '-------------'\n",
      "F = 0\n",
      "dF = 10\n",
      "while F <= 100:\n",
      "    C = (F - 32)/9.0*5\n",
      "    print '| %3d | %3.0f |' % (F, C)\n",
      "    F += dF\n",
      "print '-------------'"
     ],
     "language": "python",
     "metadata": {},
     "outputs": [
      {
       "output_type": "stream",
       "stream": "stdout",
       "text": [
        "-------------\n",
        "|  F  |  C  |\n",
        "-------------\n",
        "|   0 | -18 |\n",
        "|  10 | -12 |\n",
        "|  20 |  -7 |\n",
        "|  30 |  -1 |\n",
        "|  40 |   4 |\n",
        "|  50 |  10 |\n",
        "|  60 |  16 |\n",
        "|  70 |  21 |\n",
        "|  80 |  27 |\n",
        "|  90 |  32 |\n",
        "| 100 |  38 |\n",
        "-------------\n"
       ]
      }
     ],
     "prompt_number": 1
    },
    {
     "cell_type": "heading",
     "level": 1,
     "metadata": {},
     "source": [
      "2.2 Write an approximate Fahrenheit\u2013Celsius conversion table"
     ]
    },
    {
     "cell_type": "markdown",
     "metadata": {},
     "source": [
      "Many people use an approximate formula for quickly converting Fahrenheit ($F$) to Celsius ($C$) degrees:  \n",
      "\n",
      "$$C\\approx C_a = (F\u221230)/2$$  \n",
      "Modify the program from Exercise 2.1 so that it prints three columns: $F,\\ C,$ and the approximate value $C_a$. Name of program file: `f2c_approx_table.py`."
     ]
    },
    {
     "cell_type": "code",
     "collapsed": false,
     "input": [
      "print '-------------------------'\n",
      "print '|  F  |  C  |  Ca |  d  |'\n",
      "print '-------------------------'\n",
      "F = 0\n",
      "dF = 10\n",
      "while F <= 100:\n",
      "    C = (F - 32)/9.0*5\n",
      "    Ca = (F - 30)/2.0\n",
      "    d = abs(C - Ca) # error of approximation\n",
      "    print '| %3d | %3.0f | %3.0f | %1.1f |' % (F, C, Ca, d)\n",
      "    F += dF\n",
      "print '-------------------------'"
     ],
     "language": "python",
     "metadata": {},
     "outputs": [
      {
       "output_type": "stream",
       "stream": "stdout",
       "text": [
        "-------------------------\n",
        "|  F  |  C  |  Ca |  d  |\n",
        "-------------------------\n",
        "|   0 | -18 | -15 | 2.8 |\n",
        "|  10 | -12 | -10 | 2.2 |\n",
        "|  20 |  -7 |  -5 | 1.7 |\n",
        "|  30 |  -1 |   0 | 1.1 |\n",
        "|  40 |   4 |   5 | 0.6 |\n",
        "|  50 |  10 |  10 | 0.0 |\n",
        "|  60 |  16 |  15 | 0.6 |\n",
        "|  70 |  21 |  20 | 1.1 |\n",
        "|  80 |  27 |  25 | 1.7 |\n",
        "|  90 |  32 |  30 | 2.2 |\n",
        "| 100 |  38 |  35 | 2.8 |\n",
        "-------------------------\n"
       ]
      }
     ],
     "prompt_number": 2
    },
    {
     "cell_type": "heading",
     "level": 1,
     "metadata": {},
     "source": [
      "2.3 Generate odd numbers"
     ]
    },
    {
     "cell_type": "markdown",
     "metadata": {},
     "source": [
      "Write a program that generates all odd numbers from $1$ to $n$. Set n in the beginning of the program and use a `while` loop to compute the numbers. (Make sure that if n is an even number, the largest generated odd number is $n-1$.) Name of program file: `odd.py`."
     ]
    },
    {
     "cell_type": "code",
     "collapsed": false,
     "input": [
      "n = 38\n",
      "\n",
      "# while loop\n",
      "nn = (n + 1)/2 # exactly integer division\n",
      "i = 1\n",
      "while i <= nn:\n",
      "    print 2*i - 1,\n",
      "    i += 1\n",
      "\n",
      "print\n",
      "\n",
      "# for loop\n",
      "for i in range(1, n+1, 2):\n",
      "    print i,"
     ],
     "language": "python",
     "metadata": {},
     "outputs": [
      {
       "output_type": "stream",
       "stream": "stdout",
       "text": [
        "1 3 5 7 9 11 13 15 17 19 21 23 25 27 29 31 33 35 37\n",
        "1 3 5 7 9 11 13 15 17 19 21 23 25 27 29 31 33 35 37\n"
       ]
      }
     ],
     "prompt_number": 3
    },
    {
     "cell_type": "heading",
     "level": 1,
     "metadata": {},
     "source": [
      "2.4 Store odd numbers in a list"
     ]
    },
    {
     "cell_type": "markdown",
     "metadata": {},
     "source": [
      "Modify the program from Exercise 2.3 to store the generated odd numbers in a list. Start with an empty list and use a `while` loop where you in each pass of the loop append a new element to the list. Finally, print the list elements to the screen. Name of program file: `odd_list1.py`."
     ]
    },
    {
     "cell_type": "code",
     "collapsed": false,
     "input": [
      "n = 38\n",
      "odd = []\n",
      "\n",
      "# while loop\n",
      "num_odd = (n + 1)/2 # exactly integer division\n",
      "i = 1\n",
      "while i <= num_odd:\n",
      "    next_odd = 2*i - 1\n",
      "    odd.append(next_odd)\n",
      "    i += 1\n",
      "print odd"
     ],
     "language": "python",
     "metadata": {},
     "outputs": [
      {
       "output_type": "stream",
       "stream": "stdout",
       "text": [
        "[1, 3, 5, 7, 9, 11, 13, 15, 17, 19, 21, 23, 25, 27, 29, 31, 33, 35, 37]\n"
       ]
      }
     ],
     "prompt_number": 4
    },
    {
     "cell_type": "heading",
     "level": 1,
     "metadata": {},
     "source": [
      "2.5 Generate odd numbers by a list comprehension"
     ]
    },
    {
     "cell_type": "markdown",
     "metadata": {},
     "source": [
      "Solve Exercise 2.4 using a list comprehension (with `for` and `range`). Name of program file: `odd_list2.py`."
     ]
    },
    {
     "cell_type": "code",
     "collapsed": false,
     "input": [
      "n = 38\n",
      "odd = [i for i in range(1, n+1, 2)]\n",
      "print odd"
     ],
     "language": "python",
     "metadata": {},
     "outputs": [
      {
       "output_type": "stream",
       "stream": "stdout",
       "text": [
        "[1, 3, 5, 7, 9, 11, 13, 15, 17, 19, 21, 23, 25, 27, 29, 31, 33, 35, 37]\n"
       ]
      }
     ],
     "prompt_number": 5
    },
    {
     "cell_type": "heading",
     "level": 1,
     "metadata": {},
     "source": [
      "2.6 Make a table of values from a formula"
     ]
    },
    {
     "cell_type": "markdown",
     "metadata": {},
     "source": [
      "Write a program that prints a nicely formatted table of $t$ and $y(t)$ values, where\n",
      "$$y(t)=v_0t\u2212\\frac{1}{2}{gt^2}.$$ Use $n$ uniformly spaced $t$ values throughout the interval $[0,\\ {2v_0}/{g}]$. Set $v_0=1$ and $n=11$. Name of program file: `ball_table1.py`."
     ]
    },
    {
     "cell_type": "code",
     "collapsed": false,
     "input": [
      "v0 = 1\n",
      "g = 9.81\n",
      "n = 11\n",
      "interval = 2*v0/g\n",
      "step = interval/n\n",
      "t = 0\n",
      "print '  t     y(t)'\n",
      "print '------------'\n",
      "while t <= interval:\n",
      "    y = v0*t - 0.5*g*t**2\n",
      "    t += step\n",
      "    print '%1.3f  %1.3f' % (t, y)"
     ],
     "language": "python",
     "metadata": {},
     "outputs": [
      {
       "output_type": "stream",
       "stream": "stdout",
       "text": [
        "  t     y(t)\n",
        "------------\n",
        "0.019  0.000\n",
        "0.037  0.017\n",
        "0.056  0.030\n",
        "0.074  0.040\n",
        "0.093  0.047\n",
        "0.111  0.051\n",
        "0.130  0.051\n",
        "0.148  0.047\n",
        "0.167  0.040\n",
        "0.185  0.030\n",
        "0.204  0.017\n"
       ]
      }
     ],
     "prompt_number": 6
    },
    {
     "cell_type": "heading",
     "level": 1,
     "metadata": {},
     "source": [
      "2.7 Store values from a formula in lists"
     ]
    },
    {
     "cell_type": "markdown",
     "metadata": {},
     "source": [
      "Modify the program from Exercise 2.6 so that the $t$ and $y$ values are stored in two lists $t$ and $y$. Thereafter, transverse the lists with a `for` loop and write out a nicely formatted table of $t$ and $y$ values (using either a `zip` or `range` construction). Set $v_0=10$ and $n=81$. Name of program file: `ball_table2.py`."
     ]
    },
    {
     "cell_type": "code",
     "collapsed": false,
     "input": [
      "v0 = 10\n",
      "g = 9.81\n",
      "n = 81\n",
      "interval = 2*v0/g\n",
      "step = interval/n\n",
      "\n",
      "t_list = []\n",
      "y_list = []\n",
      "t = 0\n",
      "while t <= interval:\n",
      "    y = v0*t - 0.5*g*t**2\n",
      "    t_list.append(t)\n",
      "    y_list.append(y)\n",
      "    t += step\n",
      "\n",
      "print ' t    y(t)'\n",
      "print '----------'\n",
      "for t, y in zip(t_list, y_list):\n",
      "    print '%1.2f  %1.2f' % (t, y)"
     ],
     "language": "python",
     "metadata": {},
     "outputs": [
      {
       "output_type": "stream",
       "stream": "stdout",
       "text": [
        " t    y(t)\n",
        "----------\n",
        "0.00  0.00\n",
        "0.03  0.25\n",
        "0.05  0.49\n",
        "0.08  0.73\n",
        "0.10  0.96\n",
        "0.13  1.18\n",
        "0.15  1.40\n",
        "0.18  1.61\n",
        "0.20  1.81\n",
        "0.23  2.01\n",
        "0.25  2.21\n",
        "0.28  2.39\n",
        "0.30  2.57\n",
        "0.33  2.75\n",
        "0.35  2.91\n",
        "0.38  3.08\n",
        "0.40  3.23\n",
        "0.43  3.38\n",
        "0.45  3.52\n",
        "0.48  3.66\n",
        "0.50  3.79\n",
        "0.53  3.92\n",
        "0.55  4.03\n",
        "0.58  4.15\n",
        "0.60  4.25\n",
        "0.63  4.35\n",
        "0.65  4.44\n",
        "0.68  4.53\n",
        "0.70  4.61\n",
        "0.73  4.69\n",
        "0.76  4.75\n",
        "0.78  4.82\n",
        "0.81  4.87\n",
        "0.83  4.92\n",
        "0.86  4.97\n",
        "0.88  5.00\n",
        "0.91  5.03\n",
        "0.93  5.06\n",
        "0.96  5.08\n",
        "0.98  5.09\n",
        "1.01  5.10\n",
        "1.03  5.10\n",
        "1.06  5.09\n",
        "1.08  5.08\n",
        "1.11  5.06\n",
        "1.13  5.03\n",
        "1.16  5.00\n",
        "1.18  4.97\n",
        "1.21  4.92\n",
        "1.23  4.87\n",
        "1.26  4.82\n",
        "1.28  4.75\n",
        "1.31  4.69\n",
        "1.33  4.61\n",
        "1.36  4.53\n",
        "1.38  4.44\n",
        "1.41  4.35\n",
        "1.43  4.25\n",
        "1.46  4.15\n",
        "1.49  4.03\n",
        "1.51  3.92\n",
        "1.54  3.79\n",
        "1.56  3.66\n",
        "1.59  3.52\n",
        "1.61  3.38\n",
        "1.64  3.23\n",
        "1.66  3.08\n",
        "1.69  2.91\n",
        "1.71  2.75\n",
        "1.74  2.57\n",
        "1.76  2.39\n",
        "1.79  2.21\n",
        "1.81  2.01\n",
        "1.84  1.81\n",
        "1.86  1.61\n",
        "1.89  1.40\n",
        "1.91  1.18\n",
        "1.94  0.96\n",
        "1.96  0.73\n",
        "1.99  0.49\n",
        "2.01  0.25\n",
        "2.04  0.00\n"
       ]
      }
     ],
     "prompt_number": 7
    },
    {
     "cell_type": "heading",
     "level": 1,
     "metadata": {},
     "source": [
      "2.8 Work with a list"
     ]
    },
    {
     "cell_type": "markdown",
     "metadata": {},
     "source": [
      "Set a variable `primes` to a list containing the numbers $2,\\ 3,\\ 5,\\ 7,\\ 11$ and $13$. Write out each list element in a `for` loop. Assign $17$ to a variable $p$ and add $p$ to the end of the list. Print out the whole new list. Name of program file: `primes.py`."
     ]
    },
    {
     "cell_type": "code",
     "collapsed": false,
     "input": [
      "primes = [2, 3, 5, 7, 11, 13]\n",
      "for prime in primes:\n",
      "    print prime\n",
      "p = 17\n",
      "primes.append(p)\n",
      "print primes"
     ],
     "language": "python",
     "metadata": {},
     "outputs": [
      {
       "output_type": "stream",
       "stream": "stdout",
       "text": [
        "2\n",
        "3\n",
        "5\n",
        "7\n",
        "11\n",
        "13\n",
        "[2, 3, 5, 7, 11, 13, 17]\n"
       ]
      }
     ],
     "prompt_number": 8
    },
    {
     "cell_type": "heading",
     "level": 1,
     "metadata": {},
     "source": [
      "2.9 Simulate operations on lists by hand"
     ]
    },
    {
     "cell_type": "markdown",
     "metadata": {},
     "source": [
      "You are given the following program. Go through each statement and explain what is printed by the program."
     ]
    },
    {
     "cell_type": "code",
     "collapsed": false,
     "input": [
      "a = [1, 3, 5, 7, 11]\n",
      "b = [13, 17]\n",
      "c = a + b\n",
      "print c\n",
      "b[0] = -1\n",
      "d = [e+1 for e in a]\n",
      "print d\n",
      "d.append(b[0] + 1)\n",
      "d.append(b[-1] + 1)\n",
      "print d[-2:]"
     ],
     "language": "python",
     "metadata": {},
     "outputs": [
      {
       "output_type": "stream",
       "stream": "stdout",
       "text": [
        "[1, 3, 5, 7, 11, 13, 17]\n",
        "[2, 4, 6, 8, 12]\n",
        "[0, 18]\n"
       ]
      }
     ],
     "prompt_number": 9
    },
    {
     "cell_type": "raw",
     "metadata": {},
     "source": [
      "\u0421\u0442\u0440\u043e\u043a\u0430 4: \u0441\u043f\u0438\u0441\u043e\u043a c - \u043e\u0431\u044a\u0435\u0434\u0438\u043d\u0435\u043d\u0438\u0435 \u0441\u043f\u0438\u0441\u043a\u043e\u0432 a \u0438 b.\n",
      "\u0421\u0442\u0440\u043e\u043a\u0430 7: \u0441\u043f\u0438\u0441\u043e\u043a d, \u044d\u043b\u0435\u043c\u0435\u043d\u0442\u044b \u043a\u043e\u0442\u043e\u0440\u043e\u0433\u043e \u043d\u0430 1 \u0431\u043e\u043b\u044c\u0448\u0435 \u044d\u043b\u0435\u043c\u0435\u043d\u0442\u043e\u0432 \u0441\u043f\u0438\u0441\u043a\u0430 a.\n",
      "\u0421\u0442\u0440\u043e\u043a\u0430 10: \u043f\u043e\u0441\u043b\u0435\u0434\u043d\u0438\u0435 2 \u044d\u043b\u0435\u043c\u0435\u043d\u0442\u0430 \u043c\u043e\u0434\u0438\u0444\u0438\u0446\u0438\u0440\u043e\u0432\u0430\u043d\u043d\u043e\u0433\u043e \u0441\u043f\u0438\u0441\u043a\u0430 d (\u043f\u0440\u0435\u0434\u043f\u043e\u0441\u043b\u0435\u0434\u043d\u0438\u0439 \u044d\u043b\u0435\u043c\u0435\u043d\u0442 - \u044d\u0442\u043e \u0437\u0430\u043c\u0435\u043d\u0435\u043d\u043d\u044b\u0439 \u043d\u0430 -1 \u043f\u0435\u0440\u0432\u044b\u0439 \u044d\u043b\u0435\u043c\u0435\u043d\u0442 \u0441\u043f\u0438\u0441\u043a\u0430 b, \u0443\u0432\u0435\u043b\u0438\u0447\u0435\u043d\u043d\u044b\u0439 \u0437\u0430\u0442\u0435\u043c \u043d\u0430 1; \u043f\u043e\u0441\u043b\u0435\u0434\u043d\u0438\u0439 \u044d\u043b\u0435\u043c\u0435\u043d\u0442 - \u044d\u0442\u043e \u043f\u043e\u0441\u043b\u0435\u0434\u043d\u0438\u0439 \u044d\u043b\u0435\u043c\u0435\u043d\u0442 \u0441\u043f\u0438\u0441\u043a\u0430 b, \u0443\u0432\u0435\u043b\u0438\u0447\u0435\u043d\u043d\u044b\u0439 \u043d\u0430 1)."
     ]
    },
    {
     "cell_type": "heading",
     "level": 1,
     "metadata": {},
     "source": [
      "2.10 Generate equally spaced coordinates"
     ]
    },
    {
     "cell_type": "markdown",
     "metadata": {},
     "source": [
      "We want to generate $x$ coordinates between $1$ and $2$ with spacing $0.01$. The coordinates are given by the formula $x_i=1+ih$, where $h=0.01$ and $i$ runs over integers $0,1,\\dots,100$. Compute the $x_i$ values and store them in a list (use a `for` loop, and append each new $x_i$ value to a list, which is empty initially). Name of program file: `coor1.py`."
     ]
    },
    {
     "cell_type": "code",
     "collapsed": false,
     "input": [
      "x = []\n",
      "h = 0.01\n",
      "imax = 100\n",
      "for i in range(0, imax + 1):\n",
      "    x.append(1 + i*h)\n",
      "print x"
     ],
     "language": "python",
     "metadata": {},
     "outputs": [
      {
       "output_type": "stream",
       "stream": "stdout",
       "text": [
        "[1.0, 1.01, 1.02, 1.03, 1.04, 1.05, 1.06, 1.07, 1.08, 1.09, 1.1, 1.11, 1.12, 1.13, 1.1400000000000001, 1.15, 1.16, 1.17, 1.18, 1.19, 1.2, 1.21, 1.22, 1.23, 1.24, 1.25, 1.26, 1.27, 1.28, 1.29, 1.3, 1.31, 1.32, 1.33, 1.34, 1.35, 1.3599999999999999, 1.37, 1.38, 1.3900000000000001, 1.4, 1.4100000000000001, 1.42, 1.43, 1.44, 1.45, 1.46, 1.47, 1.48, 1.49, 1.5, 1.51, 1.52, 1.53, 1.54, 1.55, 1.56, 1.57, 1.58, 1.5899999999999999, 1.6, 1.6099999999999999, 1.62, 1.63, 1.6400000000000001, 1.65, 1.6600000000000001, 1.67, 1.6800000000000002, 1.69, 1.7000000000000002, 1.71, 1.72, 1.73, 1.74, 1.75, 1.76, 1.77, 1.78, 1.79, 1.8, 1.81, 1.82, 1.83, 1.8399999999999999, 1.85, 1.8599999999999999, 1.87, 1.88, 1.8900000000000001, 1.9, 1.9100000000000001, 1.92, 1.9300000000000002, 1.94, 1.9500000000000002, 1.96, 1.97, 1.98, 1.99, 2.0]\n"
       ]
      }
     ],
     "prompt_number": 10
    },
    {
     "cell_type": "heading",
     "level": 1,
     "metadata": {},
     "source": [
      "2.11 Use a list comprehension to solve 2.10"
     ]
    },
    {
     "cell_type": "markdown",
     "metadata": {},
     "source": [
      "The problem is the same as in Exercise 2.10, but now we want the $x_i$ values to be stored in a list using a list comprehension construct (see Chapter 2.3.5). Name of program file: `coor2.py`."
     ]
    },
    {
     "cell_type": "code",
     "collapsed": false,
     "input": [
      "h = 0.01\n",
      "imax = 100\n",
      "x = [1 + i*h for i in range(0, imax+1)]\n",
      "print x"
     ],
     "language": "python",
     "metadata": {},
     "outputs": [
      {
       "output_type": "stream",
       "stream": "stdout",
       "text": [
        "[1.0, 1.01, 1.02, 1.03, 1.04, 1.05, 1.06, 1.07, 1.08, 1.09, 1.1, 1.11, 1.12, 1.13, 1.1400000000000001, 1.15, 1.16, 1.17, 1.18, 1.19, 1.2, 1.21, 1.22, 1.23, 1.24, 1.25, 1.26, 1.27, 1.28, 1.29, 1.3, 1.31, 1.32, 1.33, 1.34, 1.35, 1.3599999999999999, 1.37, 1.38, 1.3900000000000001, 1.4, 1.4100000000000001, 1.42, 1.43, 1.44, 1.45, 1.46, 1.47, 1.48, 1.49, 1.5, 1.51, 1.52, 1.53, 1.54, 1.55, 1.56, 1.57, 1.58, 1.5899999999999999, 1.6, 1.6099999999999999, 1.62, 1.63, 1.6400000000000001, 1.65, 1.6600000000000001, 1.67, 1.6800000000000002, 1.69, 1.7000000000000002, 1.71, 1.72, 1.73, 1.74, 1.75, 1.76, 1.77, 1.78, 1.79, 1.8, 1.81, 1.82, 1.83, 1.8399999999999999, 1.85, 1.8599999999999999, 1.87, 1.88, 1.8900000000000001, 1.9, 1.9100000000000001, 1.92, 1.9300000000000002, 1.94, 1.9500000000000002, 1.96, 1.97, 1.98, 1.99, 2.0]\n"
       ]
      }
     ],
     "prompt_number": 11
    },
    {
     "cell_type": "heading",
     "level": 1,
     "metadata": {},
     "source": [
      "2.12 Compute a mathematical sum"
     ]
    },
    {
     "cell_type": "markdown",
     "metadata": {},
     "source": [
      "The following code is supposed to compute the sum $s=\\sum_{k=1}^M\\frac{1}{k}$. This program does not work correctly. What are the three errors? (If you try to run the program, nothing will happen on the screen. Type `Ctrl-C`, i.e., hold down the Control (`Ctrl`) key and then type the `c` key, to stop a program.) Write a correct program. Name of program file: `sum_while.py`.\n",
      "There are two basic ways to find errors in a program: (i) read the program carefully and think about the consequences of each statement, and (ii) print out intermediate results and compare with hand calculations. First, try method (i) and find as many errors as you can. Then, try method (ii) for $M=3$ and compare the evolution of $s$ with your own hand calculations."
     ]
    },
    {
     "cell_type": "code",
     "collapsed": false,
     "input": [
      "s = 0; k = 1; M = 100\n",
      "while k < M:\n",
      "    s += 1/k\n",
      "print s"
     ],
     "language": "python",
     "metadata": {},
     "outputs": [
      {
       "ename": "KeyboardInterrupt",
       "evalue": "",
       "output_type": "pyerr",
       "traceback": [
        "\u001b[1;31m---------------------------------------------------------------------------\u001b[0m\n\u001b[1;31mKeyboardInterrupt\u001b[0m                         Traceback (most recent call last)",
        "\u001b[1;32m<ipython-input-12-efb4166c4314>\u001b[0m in \u001b[0;36m<module>\u001b[1;34m()\u001b[0m\n\u001b[0;32m      1\u001b[0m \u001b[0ms\u001b[0m \u001b[1;33m=\u001b[0m \u001b[1;36m0\u001b[0m\u001b[1;33m;\u001b[0m \u001b[0mk\u001b[0m \u001b[1;33m=\u001b[0m \u001b[1;36m1\u001b[0m\u001b[1;33m;\u001b[0m \u001b[0mM\u001b[0m \u001b[1;33m=\u001b[0m \u001b[1;36m100\u001b[0m\u001b[1;33m\u001b[0m\u001b[0m\n\u001b[0;32m      2\u001b[0m \u001b[1;32mwhile\u001b[0m \u001b[0mk\u001b[0m \u001b[1;33m<\u001b[0m \u001b[0mM\u001b[0m\u001b[1;33m:\u001b[0m\u001b[1;33m\u001b[0m\u001b[0m\n\u001b[1;32m----> 3\u001b[1;33m     \u001b[0ms\u001b[0m \u001b[1;33m+=\u001b[0m \u001b[1;36m1\u001b[0m\u001b[1;33m/\u001b[0m\u001b[0mk\u001b[0m\u001b[1;33m\u001b[0m\u001b[0m\n\u001b[0m\u001b[0;32m      4\u001b[0m \u001b[1;32mprint\u001b[0m \u001b[0ms\u001b[0m\u001b[1;33m\u001b[0m\u001b[0m\n",
        "\u001b[1;31mKeyboardInterrupt\u001b[0m: "
       ]
      }
     ],
     "prompt_number": 12
    },
    {
     "cell_type": "raw",
     "metadata": {},
     "source": [
      "Error 1: k is always the same. Loop is eternal. Must add k += 1 into the loop\n",
      "Error 2: integer division in line 3. Must be 1.0/k\n",
      "Error 3: loop will finish at M=99, not 100. Must be k <= M in line 2"
     ]
    },
    {
     "cell_type": "code",
     "collapsed": false,
     "input": [
      "s = 0; k = 1; M = 100\n",
      "while k <= M:\n",
      "    s += 1.0/k\n",
      "    k += 1\n",
      "print s"
     ],
     "language": "python",
     "metadata": {},
     "outputs": [
      {
       "output_type": "stream",
       "stream": "stdout",
       "text": [
        "5.18737751764\n"
       ]
      }
     ],
     "prompt_number": 14
    },
    {
     "cell_type": "heading",
     "level": 1,
     "metadata": {},
     "source": [
      "2.13 Use a for loop in 2.12"
     ]
    },
    {
     "cell_type": "markdown",
     "metadata": {},
     "source": [
      "Rewrite the corrected version of the program in Exercise 2.12 using a `for` loop over $k$ values instead of a `while` loop. Name of program file: `sum_for.py`."
     ]
    },
    {
     "cell_type": "code",
     "collapsed": false,
     "input": [
      "s = 0; M = 100\n",
      "for k in range(1, M+1):\n",
      "    s += 1.0/k\n",
      "print s"
     ],
     "language": "python",
     "metadata": {},
     "outputs": [
      {
       "output_type": "stream",
       "stream": "stdout",
       "text": [
        "5.18737751764\n"
       ]
      }
     ],
     "prompt_number": 15
    },
    {
     "cell_type": "heading",
     "level": 1,
     "metadata": {},
     "source": [
      "2.15 Explore the Python Library Reference"
     ]
    },
    {
     "cell_type": "markdown",
     "metadata": {},
     "source": [
      "Suppose you want to compute the inverse sine function: $\\sin^{-1}x$. The `math` module has a function for computing $\\sin^{-1}x$, but what is the right name of this function? Read Chapter 2.6.3 and use the `math` entry in the index of the Python Library Reference to find out how to compute $\\sin^{-1}x$. Make a program where you compute $\\sin^{-1}x$ for $n$ $x$ values uniformly distributed between $0$ and $1$, and write out the results in a nicely formatted table. For each $x$ value, check that the sine of $\\sin^{-1}x$ equals $x$. Name of program file: `inverse_sine.py`."
     ]
    },
    {
     "cell_type": "code",
     "collapsed": false,
     "input": [
      "from math import sin, asin\n",
      "x0 = 0\n",
      "x1 = 1\n",
      "n = 11\n",
      "step = (x1 - x0)/(n - 1.0)\n",
      "\n",
      "print '  x  arcsin(x)   x '\n",
      "print '-------------------'\n",
      "for i in range(0, n):\n",
      "    x = x0 + i*step\n",
      "    y = asin(x)\n",
      "    z = sin(y)\n",
      "    print '%1.2f   %1.3f   %1.2f' % (x, y, z)"
     ],
     "language": "python",
     "metadata": {},
     "outputs": [
      {
       "output_type": "stream",
       "stream": "stdout",
       "text": [
        "  x  arcsin(x)   x \n",
        "-------------------\n",
        "0.00   0.000   0.00\n",
        "0.10   0.100   0.10\n",
        "0.20   0.201   0.20\n",
        "0.30   0.305   0.30\n",
        "0.40   0.412   0.40\n",
        "0.50   0.524   0.50\n",
        "0.60   0.644   0.60\n",
        "0.70   0.775   0.70\n",
        "0.80   0.927   0.80\n",
        "0.90   1.120   0.90\n",
        "1.00   1.571   1.00\n"
       ]
      }
     ],
     "prompt_number": 16
    },
    {
     "cell_type": "heading",
     "level": 1,
     "metadata": {},
     "source": [
      "2.16 Index a nested lists"
     ]
    },
    {
     "cell_type": "markdown",
     "metadata": {},
     "source": [
      "We define the following nested list: `q = [['a', 'b', 'c'], ['d', 'e', 'f'], ['g', 'h']]`. Index this list to extract 1) the letter $a$; 2) the list `['d', 'e', 'f']`; 3) the last elementh; 4) the $d$ element. Explain why `q[-1][-2]` has the value $g$. Name of program file: `index_nested_list.py`."
     ]
    },
    {
     "cell_type": "code",
     "collapsed": false,
     "input": [
      "q = [['a','b','c'],['d','e','f'],['g','h']]\n",
      "print q[0][0]\n",
      "print q[1]\n",
      "print q[-1][-1]\n",
      "print q[1][0]"
     ],
     "language": "python",
     "metadata": {},
     "outputs": [
      {
       "output_type": "stream",
       "stream": "stdout",
       "text": [
        "a\n",
        "['d', 'e', 'f']\n",
        "h\n",
        "d\n"
       ]
      }
     ],
     "prompt_number": 17
    },
    {
     "cell_type": "markdown",
     "metadata": {},
     "source": [
      "`q[-1][-2]` is the second last element of last element of $q$ list.  \n",
      "Last element of $q$ list is `['g','h']` list. It's second last element is `'g'`."
     ]
    },
    {
     "cell_type": "heading",
     "level": 1,
     "metadata": {},
     "source": [
      "2.17 Double for loop over a nested list"
     ]
    },
    {
     "cell_type": "markdown",
     "metadata": {},
     "source": [
      "Consider the list from Exercise 2.16. We can visit all elements of $q$ using this nested `for` loop:\n",
      "\n",
      "    for i in q:\n",
      "        for j in range(len(i)):\n",
      "            print i[j]\n",
      "            \n",
      "What type of objects are $i$ and $j$? Name of program file: `nested_list_iter.py`."
     ]
    },
    {
     "cell_type": "code",
     "collapsed": false,
     "input": [
      "q = [['a','b','c'],['d','e','f'],['g','h']]\n",
      "for i in q:\n",
      "    for j in range(len(i)):\n",
      "        print i[j],\n",
      "print\n",
      "print type(i)\n",
      "print type(j)\n",
      "print type(i[j])"
     ],
     "language": "python",
     "metadata": {},
     "outputs": [
      {
       "output_type": "stream",
       "stream": "stdout",
       "text": [
        "a b c d e f g h\n",
        "<type 'list'>\n",
        "<type 'int'>\n",
        "<type 'str'>\n"
       ]
      }
     ],
     "prompt_number": 18
    },
    {
     "cell_type": "raw",
     "metadata": {},
     "source": [
      "i is a list, j is an integer"
     ]
    },
    {
     "cell_type": "heading",
     "level": 1,
     "metadata": {},
     "source": [
      "2.18 Store data in lists in 2.2"
     ]
    },
    {
     "cell_type": "markdown",
     "metadata": {},
     "source": [
      "Modify the program from Exercise 2.2 so that all the $F,\\ C$, and $C_a$ values are stored in separate lists `F`, `C`, and `Ca`, respectively. Then make a nested list `conversion` so that `conversion[i]` holds a row in the table: `[F[i], C[i], Ca[i]]`. Finally, let the program traverse the `conversion` list and write out the same table as in Exercise 2.2. Name of program file: `f2c_approx_lists.py`."
     ]
    },
    {
     "cell_type": "code",
     "collapsed": false,
     "input": [
      "conversion = []; F_list = []; C_list = []; Ca_list = []; F = 0; F_step = 10\n",
      "while F <= 100:\n",
      "    F_list.append(F)\n",
      "    C = (F - 32)/9.0*5\n",
      "    C_list.append(C)\n",
      "    Ca = (F - 30)/2.0\n",
      "    Ca_list.append(Ca)\n",
      "    conversion.append([F, C, Ca])\n",
      "    F += F_step\n",
      "print '-------------------'\n",
      "print '|  F  |  C  |  Ca |'\n",
      "print '-------------------'\n",
      "for i in conversion:\n",
      "    print '| %3d | %3.0f | %3.0f |' % (i[0], i[1], i[2])\n",
      "print '-------------------'"
     ],
     "language": "python",
     "metadata": {},
     "outputs": [
      {
       "output_type": "stream",
       "stream": "stdout",
       "text": [
        "-------------------\n",
        "|  F  |  C  |  Ca |\n",
        "-------------------\n",
        "|   0 | -18 | -15 |\n",
        "|  10 | -12 | -10 |\n",
        "|  20 |  -7 |  -5 |\n",
        "|  30 |  -1 |   0 |\n",
        "|  40 |   4 |   5 |\n",
        "|  50 |  10 |  10 |\n",
        "|  60 |  16 |  15 |\n",
        "|  70 |  21 |  20 |\n",
        "|  80 |  27 |  25 |\n",
        "|  90 |  32 |  30 |\n",
        "| 100 |  38 |  35 |\n",
        "-------------------\n"
       ]
      }
     ],
     "prompt_number": 19
    },
    {
     "cell_type": "heading",
     "level": 1,
     "metadata": {},
     "source": [
      "2.19 Store data from 2.7 in a nested list"
     ]
    },
    {
     "cell_type": "markdown",
     "metadata": {},
     "source": [
      "After having computed the two lists of $t$ and $y$ values in the program from Exercise 2.7, store the two lists in a new list `ty1`. Write out a table of $t$ and $y$ values by traversing the data in the `ty1` list. Thereafter, make a list `ty2` which holds each row in the table of $t$ and $y$ values (`ty1` is a list of table columns while `ty2` is a list of table rows, as explained in Chapter 2.4). Write out the table by traversing the `ty2` list. Name of program file: `ball_table3.py`."
     ]
    },
    {
     "cell_type": "code",
     "collapsed": false,
     "input": [
      "v0 = 10\n",
      "g = 9.81\n",
      "n = 9\n",
      "t_max = 2*v0/g\n",
      "t_step = t_max/n\n",
      "\n",
      "t_list = []\n",
      "y_list = []\n",
      "ty2 = []\n",
      "t = 0\n",
      "while t <= t_max:\n",
      "    y = v0*t - g*t**2/2.0\n",
      "    t_list.append(t)\n",
      "    y_list.append(y)\n",
      "    ty2.append([t, y])\n",
      "    t += t_step\n",
      "\n",
      "ty1 = [t_list, y_list]\n",
      "\n",
      "print ' t    y(t)'\n",
      "print '----------'\n",
      "for i in range(len(t_list)):\n",
      "    print '%1.2f  %1.2f' % (ty1[0][i], ty1[1][i])\n",
      "print\n",
      "print ' t    y(t)'\n",
      "print '----------'\n",
      "for i in ty2:\n",
      "    print '%1.2f  %1.2f' % (i[0], i[1])"
     ],
     "language": "python",
     "metadata": {},
     "outputs": [
      {
       "output_type": "stream",
       "stream": "stdout",
       "text": [
        " t    y(t)\n",
        "----------\n",
        "0.00  0.00\n",
        "0.23  2.01\n",
        "0.45  3.52\n",
        "0.68  4.53\n",
        "0.91  5.03\n",
        "1.13  5.03\n",
        "1.36  4.53\n",
        "1.59  3.52\n",
        "1.81  2.01\n",
        "2.04  0.00\n",
        "\n",
        " t    y(t)\n",
        "----------\n",
        "0.00  0.00\n",
        "0.23  2.01\n",
        "0.45  3.52\n",
        "0.68  4.53\n",
        "0.91  5.03\n",
        "1.13  5.03\n",
        "1.36  4.53\n",
        "1.59  3.52\n",
        "1.81  2.01\n",
        "2.04  0.00\n"
       ]
      }
     ],
     "prompt_number": 20
    },
    {
     "cell_type": "heading",
     "level": 1,
     "metadata": {},
     "source": [
      "2.20 Convert nested list comprehensions to nested standard loops"
     ]
    },
    {
     "cell_type": "markdown",
     "metadata": {},
     "source": [
      "Rewrite the generation of the nested list `q`,\n",
      "\n",
      "    q = [r**2 for r in [10**i for i in range(5)]]\n",
      "\n",
      "by using standard `for` loops instead of list comprehensions. Name of program file: `listcomp2for.py`."
     ]
    },
    {
     "cell_type": "code",
     "collapsed": false,
     "input": [
      "q = [r**2 for r in [10**i for i in range(5)]]\n",
      "print q"
     ],
     "language": "python",
     "metadata": {},
     "outputs": [
      {
       "output_type": "stream",
       "stream": "stdout",
       "text": [
        "[1, 100, 10000, 1000000, 100000000]\n"
       ]
      }
     ],
     "prompt_number": 1
    },
    {
     "cell_type": "code",
     "collapsed": false,
     "input": [
      "r = []\n",
      "q = []\n",
      "for i in range(5):\n",
      "    r.append(10**i)\n",
      "for i in r:\n",
      "    q.append(i**2)\n",
      "print q"
     ],
     "language": "python",
     "metadata": {},
     "outputs": [
      {
       "output_type": "stream",
       "stream": "stdout",
       "text": [
        "[1, 100, 10000, 1000000, 100000000]\n"
       ]
      }
     ],
     "prompt_number": 6
    },
    {
     "cell_type": "heading",
     "level": 1,
     "metadata": {},
     "source": [
      "2.21 Values of boolean expressions"
     ]
    },
    {
     "cell_type": "markdown",
     "metadata": {},
     "source": [
      "Explain the outcome of each of the following boolean expressions:\n",
      "\n",
      "    C = 41\n",
      "    C == 40\n",
      "    C != 40 and C < 41\n",
      "    C != 40 or C < 41\n",
      "    not C == 40\n",
      "    not C > 40\n",
      "    C <= 41\n",
      "    not False\n",
      "    True and False\n",
      "    False or True\n",
      "    False or False or False\n",
      "    True and True and False\n",
      "    False == 0\n",
      "    True == 0\n",
      "    True == 1\n",
      "\n",
      "Note: It makes sense to compare `True` and `False` to the integers $0$ and $1$, but not other integers (e.g., `True == 12` is `False` although the *integer* $12$ evaluates to `True` in a boolean context, as in `bool(12)` or `if 12`)."
     ]
    },
    {
     "cell_type": "code",
     "collapsed": false,
     "input": [
      "C = 41\n",
      "C == 40"
     ],
     "language": "python",
     "metadata": {},
     "outputs": [
      {
       "metadata": {},
       "output_type": "pyout",
       "prompt_number": 12,
       "text": [
        "False"
       ]
      }
     ],
     "prompt_number": 12
    },
    {
     "cell_type": "markdown",
     "metadata": {},
     "source": [
      "C is equal to 41, and 41 is not equal to 40."
     ]
    },
    {
     "cell_type": "code",
     "collapsed": false,
     "input": [
      "C != 40 and C < 41"
     ],
     "language": "python",
     "metadata": {},
     "outputs": [
      {
       "metadata": {},
       "output_type": "pyout",
       "prompt_number": 11,
       "text": [
        "False"
       ]
      }
     ],
     "prompt_number": 11
    },
    {
     "cell_type": "markdown",
     "metadata": {},
     "source": [
      "41 is not equal to 40 - its True.\n",
      "41 is not lesser than 41 - its False.\n",
      "True and False is False."
     ]
    },
    {
     "cell_type": "code",
     "collapsed": false,
     "input": [
      "C != 40 or C < 41"
     ],
     "language": "python",
     "metadata": {},
     "outputs": [
      {
       "metadata": {},
       "output_type": "pyout",
       "prompt_number": 13,
       "text": [
        "True"
       ]
      }
     ],
     "prompt_number": 13
    },
    {
     "cell_type": "markdown",
     "metadata": {},
     "source": [
      "41 is not equal to 40 - its True.\n",
      "41 is not lesser than 41 - its False.\n",
      "True or False is True."
     ]
    },
    {
     "cell_type": "code",
     "collapsed": false,
     "input": [
      "not C == 40"
     ],
     "language": "python",
     "metadata": {},
     "outputs": [
      {
       "metadata": {},
       "output_type": "pyout",
       "prompt_number": 14,
       "text": [
        "True"
       ]
      }
     ],
     "prompt_number": 14
    },
    {
     "cell_type": "markdown",
     "metadata": {},
     "source": [
      "41 is not equal to 40 - its False. Not False is True."
     ]
    },
    {
     "cell_type": "code",
     "collapsed": false,
     "input": [
      "not C > 40"
     ],
     "language": "python",
     "metadata": {},
     "outputs": [
      {
       "metadata": {},
       "output_type": "pyout",
       "prompt_number": 15,
       "text": [
        "False"
       ]
      }
     ],
     "prompt_number": 15
    },
    {
     "cell_type": "markdown",
     "metadata": {},
     "source": [
      "41 is greater than 40 - its True. Not True is False."
     ]
    },
    {
     "cell_type": "code",
     "collapsed": false,
     "input": [
      "C <= 41"
     ],
     "language": "python",
     "metadata": {},
     "outputs": [
      {
       "metadata": {},
       "output_type": "pyout",
       "prompt_number": 16,
       "text": [
        "True"
       ]
      }
     ],
     "prompt_number": 16
    },
    {
     "cell_type": "markdown",
     "metadata": {},
     "source": [
      "41 is lesser or equal to 41 - its True."
     ]
    },
    {
     "cell_type": "code",
     "collapsed": false,
     "input": [
      "not False"
     ],
     "language": "python",
     "metadata": {},
     "outputs": [
      {
       "metadata": {},
       "output_type": "pyout",
       "prompt_number": 17,
       "text": [
        "True"
       ]
      }
     ],
     "prompt_number": 17
    },
    {
     "cell_type": "markdown",
     "metadata": {},
     "source": [
      "Not False is True."
     ]
    },
    {
     "cell_type": "code",
     "collapsed": false,
     "input": [
      "True and False"
     ],
     "language": "python",
     "metadata": {},
     "outputs": [
      {
       "metadata": {},
       "output_type": "pyout",
       "prompt_number": 19,
       "text": [
        "False"
       ]
      }
     ],
     "prompt_number": 19
    },
    {
     "cell_type": "markdown",
     "metadata": {},
     "source": [
      "True and False is False."
     ]
    },
    {
     "cell_type": "code",
     "collapsed": false,
     "input": [
      "False or True"
     ],
     "language": "python",
     "metadata": {},
     "outputs": [
      {
       "metadata": {},
       "output_type": "pyout",
       "prompt_number": 20,
       "text": [
        "True"
       ]
      }
     ],
     "prompt_number": 20
    },
    {
     "cell_type": "markdown",
     "metadata": {},
     "source": [
      "False or True is True."
     ]
    },
    {
     "cell_type": "code",
     "collapsed": false,
     "input": [
      "False or False or False"
     ],
     "language": "python",
     "metadata": {},
     "outputs": [
      {
       "metadata": {},
       "output_type": "pyout",
       "prompt_number": 22,
       "text": [
        "False"
       ]
      }
     ],
     "prompt_number": 22
    },
    {
     "cell_type": "markdown",
     "metadata": {},
     "source": [
      "False or False or False is False."
     ]
    },
    {
     "cell_type": "code",
     "collapsed": false,
     "input": [
      "True and True and False"
     ],
     "language": "python",
     "metadata": {},
     "outputs": [
      {
       "metadata": {},
       "output_type": "pyout",
       "prompt_number": 23,
       "text": [
        "False"
       ]
      }
     ],
     "prompt_number": 23
    },
    {
     "cell_type": "markdown",
     "metadata": {},
     "source": [
      "True and True and False is False."
     ]
    },
    {
     "cell_type": "code",
     "collapsed": false,
     "input": [
      "False == 0"
     ],
     "language": "python",
     "metadata": {},
     "outputs": [
      {
       "metadata": {},
       "output_type": "pyout",
       "prompt_number": 24,
       "text": [
        "True"
       ]
      }
     ],
     "prompt_number": 24
    },
    {
     "cell_type": "markdown",
     "metadata": {},
     "source": [
      "0 is equal to False - its True."
     ]
    },
    {
     "cell_type": "code",
     "collapsed": false,
     "input": [
      "True == 0"
     ],
     "language": "python",
     "metadata": {},
     "outputs": [
      {
       "metadata": {},
       "output_type": "pyout",
       "prompt_number": 25,
       "text": [
        "False"
       ]
      }
     ],
     "prompt_number": 25
    },
    {
     "cell_type": "markdown",
     "metadata": {},
     "source": [
      "0 is equal to False. True is not equal to False - its False."
     ]
    },
    {
     "cell_type": "code",
     "collapsed": false,
     "input": [
      "True == 1"
     ],
     "language": "python",
     "metadata": {},
     "outputs": [
      {
       "metadata": {},
       "output_type": "pyout",
       "prompt_number": 26,
       "text": [
        "True"
       ]
      }
     ],
     "prompt_number": 26
    },
    {
     "cell_type": "markdown",
     "metadata": {},
     "source": [
      "1 is equal to True - its True."
     ]
    },
    {
     "cell_type": "heading",
     "level": 1,
     "metadata": {},
     "source": [
      "2.22 Explore round-off errors from a large number of inverse operations"
     ]
    },
    {
     "cell_type": "markdown",
     "metadata": {},
     "source": [
      "Maybe you have tried to hit the square root key on a calculator multiple times and then squared the number again an equal number of times. These set of inverse mathematical operations should of course bring you back to the starting value for the computations, but this does not always happen. To avoid tedious pressing of calculator keys we can let a computer automate the process. Here is an appropriate program:\n",
      "\n",
      "    from math import sqrt\n",
      "    for n in range(1, 60):\n",
      "        r = 2.0\n",
      "        for i in range(n):\n",
      "            r = sqrt(r)\n",
      "        for i in range(n):\n",
      "            r = r**2\n",
      "        print '%d times sqrt and **2: %.16f' % (n, r)\n",
      "\n",
      "Explain with words what the program does. Then run the program. Round-off errors are here completely destroying the calculations when $n$ is large enough! Investigate the case when we come back to $1$ instead of $2$ by fixing the `n` value and printing out `r` in both `for` loops over `i`. Can you now explain why we come back to $1$ and not $2$? Name of program file: `repeated_sqrt.py`."
     ]
    },
    {
     "cell_type": "code",
     "collapsed": false,
     "input": [
      "from math import sqrt\n",
      "for n in range(1, 54):\n",
      "    r = 2.0\n",
      "    for i in range(n):\n",
      "        r = sqrt(r)\n",
      "    r1 = r # value after all square rooting\n",
      "    for i in range(n):\n",
      "        r = r**2\n",
      "    print '%2d times sqrt and **2: %.16f (%.16f)' % (n, r, r1)"
     ],
     "language": "python",
     "metadata": {},
     "outputs": [
      {
       "output_type": "stream",
       "stream": "stdout",
       "text": [
        " 1 times sqrt and **2: 2.0000000000000004 (1.4142135623730951)\n",
        " 2 times sqrt and **2: 1.9999999999999996 (1.1892071150027210)\n",
        " 3 times sqrt and **2: 1.9999999999999996 (1.0905077326652577)\n",
        " 4 times sqrt and **2: 1.9999999999999964 (1.0442737824274138)\n",
        " 5 times sqrt and **2: 1.9999999999999964 (1.0218971486541166)\n",
        " 6 times sqrt and **2: 1.9999999999999964 (1.0108892860517005)\n",
        " 7 times sqrt and **2: 1.9999999999999714 (1.0054299011128027)\n",
        " 8 times sqrt and **2: 2.0000000000000235 (1.0027112750502025)\n",
        " 9 times sqrt and **2: 2.0000000000000235 (1.0013547198921082)\n",
        "10 times sqrt and **2: 2.0000000000000235 (1.0006771306930664)\n",
        "11 times sqrt and **2: 2.0000000000000235 (1.0003385080526823)\n",
        "12 times sqrt and **2: 1.9999999999991336 (1.0001692397053021)\n",
        "13 times sqrt and **2: 1.9999999999973292 (1.0000846162726942)\n",
        "14 times sqrt and **2: 1.9999999999973292 (1.0000423072413958)\n",
        "15 times sqrt and **2: 1.9999999999973292 (1.0000211533969647)\n",
        "16 times sqrt and **2: 2.0000000000117746 (1.0000105766425498)\n",
        "17 times sqrt and **2: 2.0000000000408580 (1.0000052883072919)\n",
        "18 times sqrt and **2: 2.0000000000408580 (1.0000026441501502)\n",
        "19 times sqrt and **2: 2.0000000001573586 (1.0000013220742012)\n",
        "20 times sqrt and **2: 2.0000000001573586 (1.0000006610368821)\n",
        "21 times sqrt and **2: 2.0000000001573586 (1.0000003305183864)\n",
        "22 times sqrt and **2: 2.0000000010885857 (1.0000001652591797)\n",
        "23 times sqrt and **2: 2.0000000029511749 (1.0000000826295865)\n",
        "24 times sqrt and **2: 2.0000000066771721 (1.0000000413147925)\n",
        "25 times sqrt and **2: 2.0000000066771721 (1.0000000206573960)\n",
        "26 times sqrt and **2: 1.9999999917775542 (1.0000000103286979)\n",
        "27 times sqrt and **2: 1.9999999917775542 (1.0000000051643489)\n",
        "28 times sqrt and **2: 1.9999999917775542 (1.0000000025821745)\n",
        "29 times sqrt and **2: 1.9999999917775542 (1.0000000012910872)\n",
        "30 times sqrt and **2: 1.9999999917775542 (1.0000000006455436)\n",
        "31 times sqrt and **2: 1.9999999917775542 (1.0000000003227718)\n",
        "32 times sqrt and **2: 1.9999990380770896 (1.0000000001613858)\n",
        "33 times sqrt and **2: 1.9999971307544144 (1.0000000000806928)\n",
        "34 times sqrt and **2: 1.9999971307544144 (1.0000000000403464)\n",
        "35 times sqrt and **2: 1.9999971307544144 (1.0000000000201732)\n",
        "36 times sqrt and **2: 1.9999971307544144 (1.0000000000100866)\n",
        "37 times sqrt and **2: 1.9999971307544144 (1.0000000000050433)\n",
        "38 times sqrt and **2: 1.9999360966436217 (1.0000000000025215)\n",
        "39 times sqrt and **2: 1.9999360966436217 (1.0000000000012608)\n",
        "40 times sqrt and **2: 1.9999360966436217 (1.0000000000006304)\n",
        "41 times sqrt and **2: 1.9994478907329654 (1.0000000000003151)\n",
        "42 times sqrt and **2: 1.9984718365144798 (1.0000000000001574)\n",
        "43 times sqrt and **2: 1.9965211562778555 (1.0000000000000786)\n",
        "44 times sqrt and **2: 1.9965211562778555 (1.0000000000000393)\n",
        "45 times sqrt and **2: 1.9887374575497223 (1.0000000000000195)\n",
        "46 times sqrt and **2: 1.9887374575497223 (1.0000000000000098)\n",
        "47 times sqrt and **2: 1.9887374575497223 (1.0000000000000049)\n",
        "48 times sqrt and **2: 1.9887374575497223 (1.0000000000000024)\n",
        "49 times sqrt and **2: 1.8682459487159784 (1.0000000000000011)\n",
        "50 times sqrt and **2: 1.6487212645509468 (1.0000000000000004)\n",
        "51 times sqrt and **2: 1.6487212645509468 (1.0000000000000002)\n",
        "52 times sqrt and **2: 1.0000000000000000 (1.0000000000000000)\n",
        "53 times sqrt and **2: 1.0000000000000000 (1.0000000000000000)\n"
       ]
      }
     ],
     "prompt_number": 31
    },
    {
     "cell_type": "heading",
     "level": 1,
     "metadata": {},
     "source": [
      "2.23 Explore what zero can be on a computer"
     ]
    },
    {
     "cell_type": "markdown",
     "metadata": {},
     "source": [
      "Type in the following code and run it:\n",
      "\n",
      "    eps = 1.0\n",
      "    while 1.0 != 1.0 + eps:\n",
      "        print '...............', eps\n",
      "        eps = eps/2.0\n",
      "    print 'final eps:', eps\n",
      "\n",
      "Explain with words what the code is doing, line by line. Then examine the output. How can it be that the \"equation\" $1\\neq 1+eps$ is not true? Or in other words, that a number of approximately size $10^{\u221216}$ (the final `eps` value when the loop terminates) gives the same result as if `eps` were zero? Name of program file: `machine_zero.py`.\n",
      "If somebody shows you this interactive session\n",
      "\n",
      "    >>> 0.5 + 1.45E-22\n",
      "    0.5\n",
      "\n",
      "and claims that Python cannot add numbers correctly, what is your answer?"
     ]
    },
    {
     "cell_type": "code",
     "collapsed": false,
     "input": [
      "eps = 1.0\n",
      "while 1.0 != 1.0 + eps:\n",
      "    print '...............', eps\n",
      "    eps = eps/2.0\n",
      "print 'final eps:', eps"
     ],
     "language": "python",
     "metadata": {},
     "outputs": [
      {
       "output_type": "stream",
       "stream": "stdout",
       "text": [
        "............... 1.0\n",
        "............... 0.5\n",
        "............... 0.25\n",
        "............... 0.125\n",
        "............... 0.0625\n",
        "............... 0.03125\n",
        "............... 0.015625\n",
        "............... 0.0078125\n",
        "............... 0.00390625\n",
        "............... 0.001953125\n",
        "............... 0.0009765625\n",
        "............... 0.00048828125\n",
        "............... 0.000244140625\n",
        "............... 0.0001220703125\n",
        "............... 6.103515625e-05\n",
        "............... 3.0517578125e-05\n",
        "............... 1.52587890625e-05\n",
        "............... 7.62939453125e-06\n",
        "............... 3.81469726562e-06\n",
        "............... 1.90734863281e-06\n",
        "............... 9.53674316406e-07\n",
        "............... 4.76837158203e-07\n",
        "............... 2.38418579102e-07\n",
        "............... 1.19209289551e-07\n",
        "............... 5.96046447754e-08\n",
        "............... 2.98023223877e-08\n",
        "............... 1.49011611938e-08\n",
        "............... 7.45058059692e-09\n",
        "............... 3.72529029846e-09\n",
        "............... 1.86264514923e-09\n",
        "............... 9.31322574615e-10\n",
        "............... 4.65661287308e-10\n",
        "............... 2.32830643654e-10\n",
        "............... 1.16415321827e-10\n",
        "............... 5.82076609135e-11\n",
        "............... 2.91038304567e-11\n",
        "............... 1.45519152284e-11\n",
        "............... 7.27595761418e-12\n",
        "............... 3.63797880709e-12\n",
        "............... 1.81898940355e-12\n",
        "............... 9.09494701773e-13\n",
        "............... 4.54747350886e-13\n",
        "............... 2.27373675443e-13\n",
        "............... 1.13686837722e-13\n",
        "............... 5.68434188608e-14\n",
        "............... 2.84217094304e-14\n",
        "............... 1.42108547152e-14\n",
        "............... 7.1054273576e-15\n",
        "............... 3.5527136788e-15\n",
        "............... 1.7763568394e-15\n",
        "............... 8.881784197e-16\n",
        "............... 4.4408920985e-16\n",
        "............... 2.22044604925e-16\n",
        "final eps: 1.11022302463e-16\n"
       ]
      }
     ],
     "prompt_number": 32
    },
    {
     "cell_type": "heading",
     "level": 1,
     "metadata": {},
     "source": [
      "2.24 Compare two real numbers on a computer"
     ]
    },
    {
     "cell_type": "markdown",
     "metadata": {},
     "source": [
      "Consider the following simple program inspired by Chapter 1.4.3:\n",
      "\n",
      "    a = 1/947.0*947\n",
      "    b = 1\n",
      "    if a != b:\n",
      "        print 'Wrong result!'\n",
      "\n",
      "Try to run this example!\n",
      "One should never compare two floating-point objects directly using `==` or `!=`, because round-off errors quickly make two identical mathematical values different on a computer. A better result is to test if $|a\u2212b|$ is sufficiently small, i.e., if $a$ and $b$ are \"close enough\" to be considered equal. Modify the test according to this idea.\n",
      "Thereafter, read the documentation of the function `float_eq` from SciTools: `scitools.std.float_eq` (see page 78 for how to bring up the documentation of a module or a function in a module). Use this function to check whether two real numbers are equal within a tolerance. Name of program file: `compare_float.py`."
     ]
    },
    {
     "cell_type": "code",
     "collapsed": false,
     "input": [
      "a = 1/947.0*947\n",
      "b = 1\n",
      "eps = 1e-15\n",
      "if abs(a - b) <= eps:\n",
      "    print 'Right result!'"
     ],
     "language": "python",
     "metadata": {},
     "outputs": [
      {
       "output_type": "stream",
       "stream": "stdout",
       "text": [
        "Right result!\n"
       ]
      }
     ],
     "prompt_number": 42
    },
    {
     "cell_type": "heading",
     "level": 1,
     "metadata": {},
     "source": [
      "2.25 Interpret a code"
     ]
    },
    {
     "cell_type": "markdown",
     "metadata": {},
     "source": [
      "The function `time` in the module `time` returns the number of seconds since a particular date (called the Epoch, which is January 1, 1970, on many types of computers). Python programs can therefore use `time.time()` to mimic a stop watch. Another function, `time.sleep(n)` causes the program to \"sleep\" for $n$ seconds and is handy for inserting a pause. Use this information to explain what the following code does:\n",
      "\n",
      "    import time\n",
      "    t0 = time.time()\n",
      "    while time.time() - t0 < 10:\n",
      "        print '....I like while loops!'\n",
      "        time.sleep(2)\n",
      "    print 'Oh, no - the loop is over.'\n",
      "\n",
      "How many times is the `print` statement inside the loop executed? Now, copy the code segment and change the `<` sign in the loop condition to a `>` sign. Explain what happens now. Name of program: `time_while.py`."
     ]
    },
    {
     "cell_type": "code",
     "collapsed": false,
     "input": [
      "import time\n",
      "t0 = time.time()\n",
      "while time.time() - t0 > 10:\n",
      "    print '....I like while loops!'\n",
      "    time.sleep(2)\n",
      "print 'Oh, no - the loop is over.'"
     ],
     "language": "python",
     "metadata": {},
     "outputs": [
      {
       "output_type": "stream",
       "stream": "stdout",
       "text": [
        "Oh, no - the loop is over.\n"
       ]
      }
     ],
     "prompt_number": 5
    },
    {
     "cell_type": "markdown",
     "metadata": {},
     "source": [
      "Loop condition is `False` at the start, so there is no loop execution."
     ]
    },
    {
     "cell_type": "heading",
     "level": 1,
     "metadata": {},
     "source": [
      "2.26 Explore problems with inaccurate indentation"
     ]
    },
    {
     "cell_type": "markdown",
     "metadata": {},
     "source": [
      "Type in the following program in a file and check carefully that you have exactly the same spaces:\n",
      "\n",
      "    C = -60; dC = 2\n",
      "    while C <= 60:\n",
      "        F = (9.0/5)*C + 32\n",
      "          print C, F\n",
      "    C = C + dC\n",
      "\n",
      "Run the program. What is the first problem? Correct that error. What is the next problem? What is the cause of that problem? (See Exercise 2.12 for how to stop a hanging program.)\n",
      "The lesson learned from this exercise is that one has to be very careful with indentation in Python programs! Other computer languages usually enclose blocks belonging to loops in curly braces, parentheses, or BEGIN-END marks. Python's convention with using solely indentation contributes to visually attractive, easy-to-read code, at the cost of requiring a pedantic attitude to blanks from the programmer."
     ]
    },
    {
     "cell_type": "code",
     "collapsed": false,
     "input": [
      "C = -60; dC = 20\n",
      "while C <= 60:\n",
      "    F = (9.0/5)*C + 32\n",
      "    print '%3d  %3.0f' % (C, F)\n",
      "    C = C + dC"
     ],
     "language": "python",
     "metadata": {},
     "outputs": [
      {
       "output_type": "stream",
       "stream": "stdout",
       "text": [
        "-60  -76\n",
        "-40  -40\n",
        "-20   -4\n",
        "  0   32\n",
        " 20   68\n",
        " 40  104\n",
        " 60  140\n"
       ]
      }
     ],
     "prompt_number": 10
    },
    {
     "cell_type": "markdown",
     "metadata": {},
     "source": [
      "*    Problem 1. Line 4 tabulation is wrong. Line 4 must be aligned with line 3.\n",
      "*    Problem 2. Line 5 tabulation is wrong. Line 5 is not inside the loop. There is no progression of C in the loop, so the loop becomes eternal. Line 5 must be aligned with line 3 too."
     ]
    },
    {
     "cell_type": "heading",
     "level": 1,
     "metadata": {},
     "source": [
      "2.27 Simulate nested loops by hand"
     ]
    },
    {
     "cell_type": "markdown",
     "metadata": {},
     "source": [
      "Go through the code below by hand, statement by statement, and calculate the numbers that will be printed.\n",
      "\n",
      "    n=3\n",
      "    for i in range(-1, n):\n",
      "        if i != 0:\n",
      "            print i\n",
      "            \n",
      "    for i in range(1, 13, 2*n):\n",
      "        for j in range(n):\n",
      "            print i, j\n",
      "            \n",
      "    for i in range(1, n+1):\n",
      "        for j in range(i):\n",
      "            if j:\n",
      "                print i, j\n",
      "                \n",
      "    for i in range(1, 13, 2*n):\n",
      "        for j in range(0, i, 2):\n",
      "            for k in range(2, j, 1):\n",
      "                b = i > j > k\n",
      "                if b:\n",
      "                    print i, j, k\n",
      "\n",
      "You may use a debugger, see Appendix F.1, to see what happens when you step through the code."
     ]
    },
    {
     "cell_type": "code",
     "collapsed": false,
     "input": [
      "n=3\n",
      "for i in range(-1, n):\n",
      "    if i != 0:\n",
      "        print i\n",
      "# -1, 1, 2\n",
      "\n",
      "for i in range(1, 13, 2*n):\n",
      "    for j in range(n):\n",
      "        print i, j\n",
      "# 1 0, 1 1, 1 2, 7 0, 7 1, 7 2\n",
      "        \n",
      "for i in range(1, n+1):\n",
      "    for j in range(i):\n",
      "        if j:\n",
      "            print i, j\n",
      "# 2 1, 3 1, 3 2, \n",
      "\n",
      "for i in range(1, 13, 2*n):\n",
      "    for j in range(0, i, 2):\n",
      "        for k in range(2, j, 1):\n",
      "            b = i > j > k\n",
      "            if b:\n",
      "                print i, j, k\n",
      "# 7 4 2, 7 4 3, 7 6 2, 7 6 3, 7 6 4, 7 6 5"
     ],
     "language": "python",
     "metadata": {},
     "outputs": [
      {
       "output_type": "stream",
       "stream": "stdout",
       "text": [
        "-1\n",
        "1\n",
        "2\n",
        "1 0\n",
        "1 1\n",
        "1 2\n",
        "7 0\n",
        "7 1\n",
        "7 2\n",
        "2 1\n",
        "3 1\n",
        "3 2\n",
        "7 4 2\n",
        "7 4 3\n",
        "7 6 2\n",
        "7 6 3\n",
        "7 6 4\n",
        "7 6 5\n"
       ]
      }
     ],
     "prompt_number": 11
    },
    {
     "cell_type": "heading",
     "level": 1,
     "metadata": {},
     "source": [
      "2.28 Explore punctuation in Python programs"
     ]
    },
    {
     "cell_type": "markdown",
     "metadata": {},
     "source": [
      "Some of the following assignments work and some do not. Explain in each case why the assignment works/fails and, if it works, what kind of object `x` refers to and what the value is if we do a `print x`.\n",
      "\n",
      "    x = 1\n",
      "    x = 1.\n",
      "    x = 1;\n",
      "    x = 1!\n",
      "    x = 1?\n",
      "    x = 1:\n",
      "    x = 1,\n",
      "\n",
      "Hint: Explore the statements in an interactive Python shell."
     ]
    },
    {
     "cell_type": "markdown",
     "metadata": {},
     "source": [
      "1. Works. x is integer 1.\n",
      "2. Works. x is float 1.0.\n",
      "3. Works. x is integer 1.\n",
      "4. Fails because of ! - invalid syntax.\n",
      "5. Fails because of ? - invalid syntax.\n",
      "6. Fails because of : - invalid syntax.\n",
      "7. Works. x is the tuple (1,)."
     ]
    },
    {
     "cell_type": "heading",
     "level": 1,
     "metadata": {},
     "source": [
      "2.29 Investigate a for loop over a changing list"
     ]
    },
    {
     "cell_type": "markdown",
     "metadata": {},
     "source": [
      "Study the following interactive session and explain in detail what happens in each pass of the loop, and use this explanation to understand the output.\n",
      "\n",
      "    >>> numbers = range(10)\n",
      "    >>> print numbers\n",
      "    [0, 1, 2, 3, 4, 5, 6, 7, 8, 9]\n",
      "    >>> for n in numbers:\n",
      "    ...     i = len(numbers)/2\n",
      "    ...     del numbers[i]\n",
      "    ...     print 'n=%d, del %d' % (n,i), numbers\n",
      "    ...\n",
      "    n=0, del 5 [0, 1, 2, 3, 4, 6, 7, 8, 9]\n",
      "    n=1, del 4 [0, 1, 2, 3, 6, 7, 8, 9]\n",
      "    n=2, del 4 [0, 1, 2, 3, 7, 8, 9]\n",
      "    n=3, del 3 [0, 1, 2, 7, 8, 9]\n",
      "    n=8, del 3 [0, 1, 2, 8, 9]\n",
      "\n",
      "The message in this exercise is to *never modify a list that is used in a `for` loop*. Modification is indeed technically possible, as we show above, but you really need to know what you are doing \u2013 to avoid getting frustrated by strange program behavior."
     ]
    },
    {
     "cell_type": "markdown",
     "metadata": {},
     "source": [
      "1. Pass 1: n=0, i=5, delete numbers[5]=5, print.\n",
      "2. Pass 2: n=1, i=4, delete numbers[4]=4, print.\n",
      "3. Pass 3: n=2, i=4, delete numbers[4]=6, print.\n",
      "4. Pass 4: n=3, i=3, delete numbers[3]=3, print.\n",
      "5. Pass 5: n=8, i=3, delete numbers[3]=7, print.\n",
      "6. Pass 6: length of `numbers` is 5 now, so loop stops with no print."
     ]
    }
   ],
   "metadata": {}
  }
 ]
}