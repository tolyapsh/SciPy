{
 "metadata": {
  "name": "",
  "signature": "sha256:4fb363196773450de07689307004e1c6f2f84b4c3a31b9a0ffad6a29b51b94f9"
 },
 "nbformat": 3,
 "nbformat_minor": 0,
 "worksheets": [
  {
   "cells": [
    {
     "cell_type": "heading",
     "level": 1,
     "metadata": {},
     "source": [
      "4.1 Asking Questions and Reading Answers"
     ]
    },
    {
     "cell_type": "heading",
     "level": 2,
     "metadata": {},
     "source": [
      "4.1.1 Reading Keyboard Input"
     ]
    },
    {
     "cell_type": "code",
     "collapsed": false,
     "input": [
      "C = raw_input('Celsius: ')\n",
      "C = float(C)\n",
      "F = 9*C/5 + 32\n",
      "print 'Fahrenheit:', F"
     ],
     "language": "python",
     "metadata": {},
     "outputs": [
      {
       "name": "stdout",
       "output_type": "stream",
       "stream": "stdout",
       "text": [
        "Celsius: 36.6\n"
       ]
      },
      {
       "output_type": "stream",
       "stream": "stdout",
       "text": [
        "Fahrenheit: 97.88\n"
       ]
      }
     ],
     "prompt_number": 9
    },
    {
     "cell_type": "code",
     "collapsed": false,
     "input": [
      "s = 'math programming'\n",
      "r = eval('s')\n",
      "print r"
     ],
     "language": "python",
     "metadata": {},
     "outputs": [
      {
       "output_type": "stream",
       "stream": "stdout",
       "text": [
        "math programming\n"
       ]
      }
     ],
     "prompt_number": 17
    },
    {
     "cell_type": "code",
     "collapsed": false,
     "input": [
      "i1 = eval(raw_input('Give input: '))\n",
      "i2 = eval(raw_input('Give input: '))\n",
      "r = i1 + i2\n",
      "print '%s + %s becomes %s: %s' % (type(i1), type(i2), type(r), r)"
     ],
     "language": "python",
     "metadata": {},
     "outputs": [
      {
       "name": "stdout",
       "output_type": "stream",
       "stream": "stdout",
       "text": [
        "Give input: 'US'\n"
       ]
      },
      {
       "name": "stdout",
       "output_type": "stream",
       "stream": "stdout",
       "text": [
        "Give input: 'SR'\n"
       ]
      },
      {
       "output_type": "stream",
       "stream": "stdout",
       "text": [
        "<type 'str'> + <type 'str'> becomes <type 'str'>: USSR\n"
       ]
      }
     ],
     "prompt_number": 16
    },
    {
     "cell_type": "code",
     "collapsed": false,
     "input": [
      "formula = raw_input('Give a formula involving x: ')\n",
      "x = eval(raw_input('Give x: '))\n",
      "from math import * # make all math functions available\n",
      "result = eval(formula)\n",
      "print '%s for x=%g yields %g' % (formula, x, result)"
     ],
     "language": "python",
     "metadata": {},
     "outputs": [
      {
       "name": "stdout",
       "output_type": "stream",
       "stream": "stdout",
       "text": [
        "Give a formula involving x: sin(x) + cos(x)\n"
       ]
      },
      {
       "name": "stdout",
       "output_type": "stream",
       "stream": "stdout",
       "text": [
        "Give x: 1.57\n"
       ]
      },
      {
       "output_type": "stream",
       "stream": "stdout",
       "text": [
        "sin(x) + cos(x) for x=1.57 yields 1.0008\n"
       ]
      }
     ],
     "prompt_number": 19
    },
    {
     "cell_type": "code",
     "collapsed": false,
     "input": [
      "formula = raw_input('Write a formula: f(x)=')\n",
      "my_func = \"\"\"\n",
      "def f(x):\n",
      "    return %s\n",
      "\"\"\" % formula\n",
      "exec(my_func)\n",
      "\n",
      "x = 0\n",
      "while x is not None:\n",
      "    x = eval(raw_input('Give x (None to quit): '))\n",
      "    if x is not None:\n",
      "        print 'f(%g)=%g' % (x, f(x))"
     ],
     "language": "python",
     "metadata": {},
     "outputs": [
      {
       "name": "stdout",
       "output_type": "stream",
       "stream": "stdout",
       "text": [
        "Write a formula: f(x)=x**2\n"
       ]
      },
      {
       "name": "stdout",
       "output_type": "stream",
       "stream": "stdout",
       "text": [
        "Give x (None to quit): 2\n"
       ]
      },
      {
       "output_type": "stream",
       "stream": "stdout",
       "text": [
        "f(2)=4\n"
       ]
      },
      {
       "name": "stdout",
       "output_type": "stream",
       "stream": "stdout",
       "text": [
        "Give x (None to quit): 3\n"
       ]
      },
      {
       "output_type": "stream",
       "stream": "stdout",
       "text": [
        "f(3)=9\n"
       ]
      },
      {
       "name": "stdout",
       "output_type": "stream",
       "stream": "stdout",
       "text": [
        "Give x (None to quit): 4\n"
       ]
      },
      {
       "output_type": "stream",
       "stream": "stdout",
       "text": [
        "f(4)=16\n"
       ]
      },
      {
       "name": "stdout",
       "output_type": "stream",
       "stream": "stdout",
       "text": [
        "Give x (None to quit): None\n"
       ]
      }
     ],
     "prompt_number": 14
    },
    {
     "cell_type": "code",
     "collapsed": false,
     "input": [
      "args = [1, 3, 5, -9.9]\n",
      "s=0\n",
      "print 'The sum of',\n",
      "for arg in args:\n",
      "    s += arg\n",
      "    print arg,\n",
      "print 'is ', s"
     ],
     "language": "python",
     "metadata": {},
     "outputs": [
      {
       "output_type": "stream",
       "stream": "stdout",
       "text": [
        "The sum of 1 3 5 -9.9 is  -0.9\n"
       ]
      }
     ],
     "prompt_number": 20
    },
    {
     "cell_type": "code",
     "collapsed": false,
     "input": [
      "from math import cos, pi\n",
      "\n",
      "def bisection(f, a, b, n=100):\n",
      "    for i in range(n):\n",
      "        m = (a+b)/2.\n",
      "        if f(a)*f(m) <= 0:\n",
      "            b = m\n",
      "        else:\n",
      "            a = m\n",
      "    return a, b\n",
      "\n",
      "f = lambda x: x**2 - 2\n",
      "a = 0; b = 10\n",
      "print 'f(x)=0 in [%g, %g]' % bisection(f, a, b)"
     ],
     "language": "python",
     "metadata": {},
     "outputs": [
      {
       "output_type": "stream",
       "stream": "stdout",
       "text": [
        "f(x)=0 in [1.41421, 1.41421]\n"
       ]
      }
     ],
     "prompt_number": 26
    },
    {
     "cell_type": "code",
     "collapsed": false,
     "input": [
      "eps = 1E-5\n",
      "f = lambda x: 2*x - 3\n",
      "a, b = 0, 10\n",
      "\n",
      "fa = f(a)\n",
      "if fa*f(b) > 0:\n",
      "    print 'f(x) does not change sign in [%g,%g].' % (a, b)\n",
      "    sys.exit(1)\n",
      "i = 0 # iteration counter\n",
      "while b-a > eps:\n",
      "    i+=1\n",
      "    m = (a + b)/2.0\n",
      "    fm = f(m)\n",
      "    if fa*fm <= 0:\n",
      "        b = m # root is in left half of [a,b]\n",
      "    else:\n",
      "        a = m # root is in right half of [a,b]\n",
      "        fa = fm\n",
      "    print 'Iteration %2d: interval=[%g, %g]' % (i, a, b)\n",
      "\n",
      "x = m # this is the approximate root\n",
      "print 'The root is', x, 'found in', i, 'iterations'\n",
      "print 'f(%g)=%g' % (x, f(x))"
     ],
     "language": "python",
     "metadata": {},
     "outputs": [
      {
       "output_type": "stream",
       "stream": "stdout",
       "text": [
        "Iteration  1: interval=[0, 5]\n",
        "Iteration  2: interval=[0, 2.5]\n",
        "Iteration  3: interval=[1.25, 2.5]\n",
        "Iteration  4: interval=[1.25, 1.875]\n",
        "Iteration  5: interval=[1.25, 1.5625]\n",
        "Iteration  6: interval=[1.40625, 1.5625]\n",
        "Iteration  7: interval=[1.48438, 1.5625]\n",
        "Iteration  8: interval=[1.48438, 1.52344]\n",
        "Iteration  9: interval=[1.48438, 1.50391]\n",
        "Iteration 10: interval=[1.49414, 1.50391]\n",
        "Iteration 11: interval=[1.49902, 1.50391]\n",
        "Iteration 12: interval=[1.49902, 1.50146]\n",
        "Iteration 13: interval=[1.49902, 1.50024]\n",
        "Iteration 14: interval=[1.49963, 1.50024]\n",
        "Iteration 15: interval=[1.49994, 1.50024]\n",
        "Iteration 16: interval=[1.49994, 1.50009]\n",
        "Iteration 17: interval=[1.49994, 1.50002]\n",
        "Iteration 18: interval=[1.49998, 1.50002]\n",
        "Iteration 19: interval=[1.5, 1.50002]\n",
        "Iteration 20: interval=[1.5, 1.50001]\n",
        "The root is 1.50000572205 found in 20 iterations\n",
        "f(1.50001)=1.14441e-05\n"
       ]
      }
     ],
     "prompt_number": 31
    },
    {
     "cell_type": "code",
     "collapsed": false,
     "input": [
      "import sys\n",
      "try:\n",
      "    C = float(sys.argv[1])\n",
      "except IndexError:\n",
      "    print 'Celsius degrees must be supplied on the command line'\n",
      "    sys.exit(1) # abort execution\n",
      "except ValueError:\n",
      "    print 'Celsius degrees must be a pure number, not \"%s\"' % sys.argv[1]\n",
      "    sys.exit(1)\n",
      "F = 9.0*C/5 + 32\n",
      "print '%gC is %.1fF' % (C, F)"
     ],
     "language": "python",
     "metadata": {},
     "outputs": [
      {
       "output_type": "stream",
       "stream": "stdout",
       "text": [
        "Celsius degrees must be a pure number, not \"-f\"\n"
       ]
      },
      {
       "ename": "SystemExit",
       "evalue": "1",
       "output_type": "pyerr",
       "traceback": [
        "An exception has occurred, use %tb to see the full traceback.\n",
        "\u001b[1;31mSystemExit\u001b[0m\u001b[1;31m:\u001b[0m 1\n"
       ]
      },
      {
       "output_type": "stream",
       "stream": "stderr",
       "text": [
        "To exit: use 'exit', 'quit', or Ctrl-D.\n"
       ]
      }
     ],
     "prompt_number": 9
    },
    {
     "cell_type": "code",
     "collapsed": false,
     "input": [],
     "language": "python",
     "metadata": {},
     "outputs": []
    }
   ],
   "metadata": {}
  }
 ]
}