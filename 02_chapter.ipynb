{
 "metadata": {
  "name": ""
 },
 "nbformat": 3,
 "nbformat_minor": 0,
 "worksheets": [
  {
   "cells": [
    {
     "cell_type": "code",
     "collapsed": false,
     "input": [
      "print '-------' # table heading\n",
      "print '  C   F'\n",
      "print '-------'\n",
      "C = -20 # start value for C\n",
      "dC = 5  # increment of C in loop\n",
      "while C <= 40:  # loop heading with condition\n",
      "    F = (9.0/5)*C + 32       # 1st statement inside loop\n",
      "    print '%3d %3d' % (C, F) # 2nd statement inside loop\n",
      "    C += dC                  # 3rd statement inside loop\n",
      "print '-------' # end of table line (after loop)"
     ],
     "language": "python",
     "metadata": {},
     "outputs": [
      {
       "output_type": "stream",
       "stream": "stdout",
       "text": [
        "-------\n",
        "  C   F\n",
        "-------\n",
        "-20  -4\n",
        "-15   5\n",
        "-10  14\n",
        " -5  23\n",
        "  0  32\n",
        "  5  41\n",
        " 10  50\n",
        " 15  59\n",
        " 20  68\n",
        " 25  77\n",
        " 30  86\n",
        " 35  95\n",
        " 40 104\n",
        "-------\n"
       ]
      }
     ],
     "prompt_number": 1
    },
    {
     "cell_type": "code",
     "collapsed": false,
     "input": [
      "C == 40\n",
      "print C"
     ],
     "language": "python",
     "metadata": {},
     "outputs": [
      {
       "output_type": "stream",
       "stream": "stdout",
       "text": [
        "45\n"
       ]
      }
     ],
     "prompt_number": 2
    },
    {
     "cell_type": "code",
     "collapsed": false,
     "input": [
      "x = 1.2 # assign some value\n",
      "N = 10  # maximum power in sum\n",
      "k = 1\n",
      "sinus = x\n",
      "sign = 1.0\n",
      "import math\n",
      "\n",
      "while k < N:\n",
      "    sign = - sign\n",
      "    k = k + 2\n",
      "    term = sign*x**k/math.factorial(k)\n",
      "    sinus = sinus + term\n",
      "print 'sin(%g) = %g (approximation with %d terms)' % (x, sinus, N)"
     ],
     "language": "python",
     "metadata": {},
     "outputs": [
      {
       "output_type": "stream",
       "stream": "stdout",
       "text": [
        "sin(1.2) = 0.932039 (approximation with 10 terms)\n"
       ]
      }
     ],
     "prompt_number": 3
    },
    {
     "cell_type": "code",
     "collapsed": false,
     "input": [
      "C = []\n",
      "Ci = 10\n",
      "while Ci <= 100:\n",
      "    C.append(Ci)\n",
      "    Ci += 5\n",
      "print C"
     ],
     "language": "python",
     "metadata": {},
     "outputs": [
      {
       "output_type": "stream",
       "stream": "stdout",
       "text": [
        "[10, 15, 20, 25, 30, 35, 40, 45, 50, 55, 60, 65, 70, 75, 80, 85, 90, 95, 100]\n"
       ]
      }
     ],
     "prompt_number": 4
    },
    {
     "cell_type": "code",
     "collapsed": false,
     "input": [
      "degrees = [0, 10, 20, 40, 100]\n",
      "for C in degrees:\n",
      "    print 'list element:', C\n",
      "print 'The degrees list has', len(degrees), 'elements'"
     ],
     "language": "python",
     "metadata": {},
     "outputs": [
      {
       "output_type": "stream",
       "stream": "stdout",
       "text": [
        "list element: 0\n",
        "list element: 10\n",
        "list element: 20\n",
        "list element: 40\n",
        "list element: 100\n",
        "The degrees list has 5 elements\n"
       ]
      }
     ],
     "prompt_number": 5
    },
    {
     "cell_type": "code",
     "collapsed": false,
     "input": [
      "Cdegrees = [-20, -15, -10, -5, 0, 5, 10, 15, 20, 25, 30, 35, 40]\n",
      "for C in Cdegrees:\n",
      "    F = (9.0/5)*C + 32\n",
      "    print C, F"
     ],
     "language": "python",
     "metadata": {},
     "outputs": [
      {
       "output_type": "stream",
       "stream": "stdout",
       "text": [
        "-20 -4.0\n",
        "-15 5.0\n",
        "-10 14.0\n",
        "-5 23.0\n",
        "0 32.0\n",
        "5 41.0\n",
        "10 50.0\n",
        "15 59.0\n",
        "20 68.0\n",
        "25 77.0\n",
        "30 86.0\n",
        "35 95.0\n",
        "40 104.0\n"
       ]
      }
     ],
     "prompt_number": 6
    },
    {
     "cell_type": "code",
     "collapsed": false,
     "input": [
      "Cdegrees = range(-20, 41, 5)\n",
      "#print Cdegrees\n",
      "print '  C   F'\n",
      "print ' ======'\n",
      "index = 0\n",
      "while index < len(Cdegrees):\n",
      "    C = Cdegrees[index]\n",
      "    F = (9.0/5)*C + 32\n",
      "    print '%3d %3g' % (C, F)\n",
      "    index += 1"
     ],
     "language": "python",
     "metadata": {},
     "outputs": [
      {
       "output_type": "stream",
       "stream": "stdout",
       "text": [
        "  C   F\n",
        " ======\n",
        "-20  -4\n",
        "-15   5\n",
        "-10  14\n",
        " -5  23\n",
        "  0  32\n",
        "  5  41\n",
        " 10  50\n",
        " 15  59\n",
        " 20  68\n",
        " 25  77\n",
        " 30  86\n",
        " 35  95\n",
        " 40 104\n"
       ]
      }
     ],
     "prompt_number": 7
    },
    {
     "cell_type": "code",
     "collapsed": false,
     "input": [
      "range(5)*2"
     ],
     "language": "python",
     "metadata": {},
     "outputs": [
      {
       "metadata": {},
       "output_type": "pyout",
       "prompt_number": 8,
       "text": [
        "[0, 1, 2, 3, 4, 0, 1, 2, 3, 4]"
       ]
      }
     ],
     "prompt_number": 8
    },
    {
     "cell_type": "code",
     "collapsed": false,
     "input": [
      "print range(4, 20, 2)"
     ],
     "language": "python",
     "metadata": {},
     "outputs": [
      {
       "output_type": "stream",
       "stream": "stdout",
       "text": [
        "[4, 6, 8, 10, 12, 14, 16, 18]\n"
       ]
      }
     ],
     "prompt_number": 9
    },
    {
     "cell_type": "code",
     "collapsed": false,
     "input": [
      "Cdegrees = range(-20, 41, 5)\n",
      "print Cdegrees\n",
      "for i, c in enumerate(Cdegrees):\n",
      "    Cdegrees[i] = c + 5\n",
      "    print '%3d %3d %3d' % (i, c, Cdegrees[i])"
     ],
     "language": "python",
     "metadata": {},
     "outputs": [
      {
       "output_type": "stream",
       "stream": "stdout",
       "text": [
        "[-20, -15, -10, -5, 0, 5, 10, 15, 20, 25, 30, 35, 40]\n",
        "  0 -20 -15\n",
        "  1 -15 -10\n",
        "  2 -10  -5\n",
        "  3  -5   0\n",
        "  4   0   5\n",
        "  5   5  10\n",
        "  6  10  15\n",
        "  7  15  20\n",
        "  8  20  25\n",
        "  9  25  30\n",
        " 10  30  35\n",
        " 11  35  40\n",
        " 12  40  45\n"
       ]
      }
     ],
     "prompt_number": 10
    },
    {
     "cell_type": "code",
     "collapsed": false,
     "input": [
      "Cdegrees = [-5 + i*0.5 for i in range(10)]\n",
      "print Cdegrees\n",
      "Fdegrees = [(9.0/5)*C + 32 for C in Cdegrees]\n",
      "print Fdegrees\n",
      "C_plus_5 = [C + 5 for C in Cdegrees]\n",
      "print C_plus_5"
     ],
     "language": "python",
     "metadata": {},
     "outputs": [
      {
       "output_type": "stream",
       "stream": "stdout",
       "text": [
        "[-5.0, -4.5, -4.0, -3.5, -3.0, -2.5, -2.0, -1.5, -1.0, -0.5]\n",
        "[23.0, 23.9, 24.8, 25.7, 26.6, 27.5, 28.4, 29.3, 30.2, 31.1]\n",
        "[0.0, 0.5, 1.0, 1.5, 2.0, 2.5, 3.0, 3.5, 4.0, 4.5]\n"
       ]
      }
     ],
     "prompt_number": 11
    },
    {
     "cell_type": "code",
     "collapsed": false,
     "input": [
      "print '  C    F'\n",
      "for C, F in zip(Cdegrees, Fdegrees):\n",
      "    print '%3.1f %3.1f' % (C, F)"
     ],
     "language": "python",
     "metadata": {},
     "outputs": [
      {
       "output_type": "stream",
       "stream": "stdout",
       "text": [
        "  C    F\n",
        "-5.0 23.0\n",
        "-4.5 23.9\n",
        "-4.0 24.8\n",
        "-3.5 25.7\n",
        "-3.0 26.6\n",
        "-2.5 27.5\n",
        "-2.0 28.4\n",
        "-1.5 29.3\n",
        "-1.0 30.2\n",
        "-0.5 31.1\n"
       ]
      }
     ],
     "prompt_number": 12
    },
    {
     "cell_type": "code",
     "collapsed": false,
     "input": [
      "Cdegrees = range(-20, 41, 5)\n",
      "Fdegrees = [(9.0/5)*C + 32 for C in Cdegrees]\n",
      "table = [Cdegrees, Fdegrees]\n",
      "print table\n",
      "print table[1]\n",
      "\n",
      "table = []\n",
      "for C, F in zip(Cdegrees, Fdegrees):\n",
      "    table.append([C, F])\n",
      "print table\n",
      "print table[1]\n",
      "import pprint, scitools.pprint2\n",
      "# scitools.pprint2.int_format = '%3.1e'\n",
      "# scitools.pprint2.float_format = '%.2e'\n",
      "scitools.pprint2.pprint(table)"
     ],
     "language": "python",
     "metadata": {},
     "outputs": [
      {
       "output_type": "stream",
       "stream": "stdout",
       "text": [
        "[[-20, -15, -10, -5, 0, 5, 10, 15, 20, 25, 30, 35, 40], [-4.0, 5.0, 14.0, 23.0, 32.0, 41.0, 50.0, 59.0, 68.0, 77.0, 86.0, 95.0, 104.0]]\n",
        "[-4.0, 5.0, 14.0, 23.0, 32.0, 41.0, 50.0, 59.0, 68.0, 77.0, 86.0, 95.0, 104.0]\n",
        "[[-20, -4.0], [-15, 5.0], [-10, 14.0], [-5, 23.0], [0, 32.0], [5, 41.0], [10, 50.0], [15, 59.0], [20, 68.0], [25, 77.0], [30, 86.0], [35, 95.0], [40, 104.0]]\n",
        "[-15, 5.0]\n",
        "["
       ]
      },
      {
       "output_type": "stream",
       "stream": "stdout",
       "text": [
        "[-20, -4],\n",
        " [-15, 5],\n",
        " [-10, 14],\n",
        " [-5, 23],\n",
        " [0, 32],\n",
        " [5, 41],\n",
        " [10, 50],\n",
        " [15, 59],\n",
        " [20, 68],\n",
        " [25, 77],\n",
        " [30, 86],\n",
        " [35, 95],\n",
        " [40, 104]]\n"
       ]
      }
     ],
     "prompt_number": 13
    },
    {
     "cell_type": "code",
     "collapsed": false,
     "input": [
      "import pprint, scitools.pprint2\n",
      "# somelist = [15.8, [0.2, 1.7]]\n",
      "pprint.pprint(table)\n",
      "scitools.pprint2.pprint(table)"
     ],
     "language": "python",
     "metadata": {},
     "outputs": [
      {
       "output_type": "stream",
       "stream": "stdout",
       "text": [
        "[[-20, -4.0],\n",
        " [-15, 5.0],\n",
        " [-10, 14.0],\n",
        " [-5, 23.0],\n",
        " [0, 32.0],\n",
        " [5, 41.0],\n",
        " [10, 50.0],\n",
        " [15, 59.0],\n",
        " [20, 68.0],\n",
        " [25, 77.0],\n",
        " [30, 86.0],\n",
        " [35, 95.0],\n",
        " [40, 104.0]]\n",
        "[[-20, -4],\n",
        " [-15, 5],\n",
        " [-10, 14],\n",
        " [-5, 23],\n",
        " [0, 32],\n",
        " [5, 41],\n",
        " [10, 50],\n",
        " [15, 59],\n",
        " [20, 68],\n",
        " [25, 77],\n",
        " [30, 86],\n",
        " [35, 95],\n",
        " [40, 104]]\n"
       ]
      }
     ],
     "prompt_number": 14
    },
    {
     "cell_type": "code",
     "collapsed": false,
     "input": [
      "C = range(-20, 41, 5)\n",
      "print C"
     ],
     "language": "python",
     "metadata": {},
     "outputs": [
      {
       "output_type": "stream",
       "stream": "stdout",
       "text": [
        "[-20, -15, -10, -5, 0, 5, 10, 15, 20, 25, 30, 35, 40]\n"
       ]
      }
     ],
     "prompt_number": 15
    },
    {
     "cell_type": "code",
     "collapsed": false,
     "input": [
      "C[5:]"
     ],
     "language": "python",
     "metadata": {},
     "outputs": [
      {
       "metadata": {},
       "output_type": "pyout",
       "prompt_number": 16,
       "text": [
        "[5, 10, 15, 20, 25, 30, 35, 40]"
       ]
      }
     ],
     "prompt_number": 16
    },
    {
     "cell_type": "code",
     "collapsed": false,
     "input": [
      "scores = []\n",
      "# score of player no. 0:\n",
      "scores.append([12, 16, 11, 12])\n",
      "# score of player no. 1:\n",
      "scores.append([9])\n",
      "# score of player no. 2:\n",
      "scores.append([6, 9, 11, 14, 17, 15, 14, 20])\n",
      "print scores"
     ],
     "language": "python",
     "metadata": {},
     "outputs": [
      {
       "output_type": "stream",
       "stream": "stdout",
       "text": [
        "[[12, 16, 11, 12], [9], [6, 9, 11, 14, 17, 15, 14, 20]]\n"
       ]
      }
     ],
     "prompt_number": 17
    },
    {
     "cell_type": "code",
     "collapsed": false,
     "input": [
      "for player in range(len(scores)):\n",
      "    for game in range(len(scores[player])):\n",
      "        print '%2d' % scores[player][game],\n",
      "    print"
     ],
     "language": "python",
     "metadata": {},
     "outputs": [
      {
       "output_type": "stream",
       "stream": "stdout",
       "text": [
        "12 16 11 12\n",
        " 9\n",
        " 6  9 11 14 17 15 14 20\n"
       ]
      }
     ],
     "prompt_number": 18
    },
    {
     "cell_type": "code",
     "collapsed": false,
     "input": [
      "for player in scores:\n",
      "    # print player\n",
      "    print '%3d:' % sum(player),\n",
      "    for game in reversed(player):\n",
      "        print '%2d' % game,\n",
      "    print"
     ],
     "language": "python",
     "metadata": {},
     "outputs": [
      {
       "output_type": "stream",
       "stream": "stdout",
       "text": [
        " 51: 12 11 16 12\n",
        "  9:  9\n",
        "106: 20 14 15 17 14 11  9  6\n"
       ]
      }
     ],
     "prompt_number": 19
    },
    {
     "cell_type": "code",
     "collapsed": false,
     "input": [
      "for element in 1,2,3,4,5:\n",
      "    print element,"
     ],
     "language": "python",
     "metadata": {},
     "outputs": [
      {
       "output_type": "stream",
       "stream": "stdout",
       "text": [
        "1 2 3 4 5\n"
       ]
      }
     ],
     "prompt_number": 20
    },
    {
     "cell_type": "code",
     "collapsed": false,
     "input": [
      "summa = 0 # accumulation variable\n",
      "for j in range(1, 100001):\n",
      "    summa += 1./j**2\n",
      "print summa"
     ],
     "language": "python",
     "metadata": {},
     "outputs": [
      {
       "output_type": "stream",
       "stream": "stdout",
       "text": [
        "1.6449240669\n"
       ]
      }
     ],
     "prompt_number": 21
    },
    {
     "cell_type": "code",
     "collapsed": false,
     "input": [
      "data = [\n",
      "[43.8, 60.5, 190.2, 144.7, 240.9, 210.3, 219.7, 176.3, 199.1, 109.2, 78.7, 67.0],\n",
      "[49.9, 54.3, 109.7, 102.0, 134.5, 211.2, 174.1, 207.5, 108.2, 113.5, 68.7, 23.3],\n",
      "[63.7, 72.0, 142.3, 93.5, 150.1, 158.7, 127.9, 135.5, 92.3, 102.5, 62.4, 38.5],\n",
      "[51.0, 57.9, 133.4, 110.9, 112.4, 199.3, 124.0, 178.3, 102.1, 100.7, 55.7, 58.0],\n",
      "[69.5, 94.3, 187.6, 152.5, 170.2, 226.9, 237.6, 242.7, 177.3, 101.3, 53.9, 59.0],\n",
      "[65.9, 96.6, 122.5, 124.9, 216.3, 192.7, 269.3, 184.9, 149.1, 81.5, 48.7, 31.3],\n",
      "[48.1, 62.0, 121.5, 127.3, 188.5, 196.3, 274.3, 199.9, 144.7, 102.6, 65.4, 48.9],\n",
      "[43.4, 89.2, 71.4, 133.2, 179.5, 166.2, 119.2, 184.7, 79.3, 103.1, 48.9, 62.3],\n",
      "[50.9, 66.6, 99.7, 103.1, 185.0, 181.3, 140.1, 202.3, 143.0, 79.1, 65.9, 41.2],\n",
      "[41.2, 66.9, 172.3, 180.9, 144.9, 190.6, 133.5, 151.3, 110.9, 118.1, 70.0, 52.4],\n",
      "[46.4, 104.9, 86.2, 171.7, 184.9, 227.9, 139.7, 153.7, 147.0, 94.3, 41.1, 46.0],\n",
      "[83.1, 22.8, 128.3, 118.1, 215.4, 273.4, 165.1, 199.5, 179.5, 95.5, 76.8, 46.5],\n",
      "[41.7, 67.9, 118.7, 106.9, 141.9, 210.3, 227.5, 163.7, 123.7, 120.2, 47.1, 46.9],\n",
      "[45.1, 53.9, 69.4, 202.5, 209.4, 234.0, 150.1, 132.7, 124.5, 84.6, 57.8, 51.0],\n",
      "[54.7, 79.3, 132.9, 166.6, 244.1, 192.9, 196.7, 178.3, 142.5, 84.9, 72.3, 49.5],\n",
      "[41.2, 62.4, 142.7, 147.0, 235.6, 170.3, 97.5, 185.2, 143.8, 102.0, 49.3, 64.1],\n",
      "[51.5, 65.7, 152.6, 209.1, 156.1, 182.4, 159.0, 144.8, 64.9, 111.7, 31.0, 46.6],\n",
      "[49.9, 78.7, 107.2, 203.3, 162.9, 149.8, 197.6, 134.8, 98.5, 79.3, 42.9, 74.7],\n",
      "[59.5, 26.3, 70.9, 150.5, 147.3, 185.9, 144.5, 274.9, 159.9, 107.3, 75.4, 37.9],\n",
      "[45.7, 92.9, 160.2, 205.2, 237.1, 124.2, 174.7, 133.7, 146.4, 93.7, 68.6, 65.4],\n",
      "[51.0, 115.1, 112.5, 182.5, 233.3, 242.1, 262.5, 210.3, 151.1, 125.0, 76.2, 65.4],\n",
      "[40.6, 67.5, 138.8, 163.7, 174.1, 244.5, 174.0, 171.1, 112.7, 96.6, 56.9, 55.3],\n",
      "[48.9, 58.6, 92.6, 200.4, 152.1, 251.9, 216.7, 174.7, 110.8, 105.6, 75.1, 69.8],\n",
      "[94.1, 96.7, 105.0, 178.2, 207.0, 217.6, 194.0, 180.5, 140.3, 105.0, 72.1, 77.7],\n",
      "[42.5, 75.9, 140.7, 183.3, 223.0, 139.7, 203.4, 237.4, 151.7, 84.1, 54.4, 28.4],\n",
      "[75.7, 79.7, 107.9, 202.4, 145.9, 157.1, 157.1, 123.5, 168.8, 94.5, 60.1, 54.5],\n",
      "[40.1, 86.3, 161.4, 173.7, 217.5, 155.3, 268.3, 188.0, 153.1, 119.7, 71.5, 47.3],\n",
      "[50.3, 78.9, 149.7, 158.7, 246.6, 145.0, 168.0, 161.4, 94.3, 116.5, 77.9, 18.2],\n",
      "[50.8, 83.1, 110.2, 168.0, 205.6, 297.1, 157.9, 170.5, 102.6, 92.9, 76.4, 62.3],\n",
      "[54.6, 55.4, 110.7, 145.2, 196.0, 145.7, 188.1, 119.6, 118.0, 93.7, 51.8, 29.5],\n",
      "[85.8, 65.5, 102.0, 153.8, 228.0, 226.3, 272.7, 245.6, 213.9, 144.2, 70.6, 45.0],\n",
      "[37.8, 82.3, 78.0, 164.9, 182.3, 274.9, 129.7, 147.1, 122.8, 60.9, 73.4, 54.5],\n",
      "[43.6, 65.1, 173.2, 86.9, 225.2, 231.2, 196.5, 185.7, 135.8, 118.2, 63.4, 76.5],\n",
      "[70.0, 70.6, 126.3, 143.3, 177.5, 280.3, 137.3, 154.5, 142.3, 108.8, 32.7, 72.6],\n",
      "[58.9, 66.4, 85.8, 119.1, 193.4, 199.4, 188.2, 142.6, 129.7, 78.8, 60.4, 49.8],\n",
      "[37.2, 57.3, 65.9, 128.5, 190.8, 156.1, 214.7, 217.7, 210.4, 134.5, 55.0, 51.1],\n",
      "[83.7, 31.1, 137.7, 141.6, 179.6, 188.7, 122.8, 181.2, 122.9, 109.9, 77.4, 71.9],\n",
      "[42.5, 41.5, 121.5, 81.5, 234.9, 199.0, 149.7, 188.6, 168.0, 90.4, 61.0, 41.7],\n",
      "[64.2, 88.2, 174.6, 130.8, 184.2, 232.0, 234.4, 167.1, 116.5, 95.1, 69.2, 70.6],\n",
      "[50.0, 54.0, 148.5, 184.5, 155.0, 206.6, 136.2, 124.0, 114.9, 66.5, 47.9, 35.9],\n",
      "[40.0, 78.1, 70.5, 221.3, 161.9, 276.9, 243.8, 157.5, 97.4, 112.0, 84.6, 35.6],\n",
      "[34.5, 115.9, 120.8, 132.7, 224.8, 270.9, 192.4, 185.6, 157.3, 106.2, 64.7, 43.8],\n",
      "[42.1, 69.5, 106.0, 122.9, 228.9, 143.5, 259.3, 134.2, 166.5, 135.2, 102.0, 29.8],\n",
      "[41.8, 27.3, 144.0, 117.6, 141.9, 150.4, 168.7, 160.9, 129.1, 91.6, 80.6, 47.6],\n",
      "[38.8, 74.1, 150.7, 167.7, 168.0, 249.5, 171.1, 192.0, 153.9, 95.1, 89.1, 62.9],\n",
      "[56.3, 58.3, 101.7, 142.1, 191.4, 206.2, 187.8, 198.7, 146.5, 105.4, 52.9, 58.8],\n",
      "[44.7, 57.8, 72.7, 131.4, 159.1, 301.0, 242.4, 218.6, 147.0, 120.7, 85.1, 34.4],\n",
      "[70.3, 42.6, 107.8, 148.7, 172.0, 261.4, 254.2, 257.4, 118.2, 43.6, 54.1, 58.6],\n",
      "[35.4, 74.4, 87.2, 157.9, 217.5, 123.2, 193.6, 123.4, 101.8, 107.3, 102.4, 45.2],\n",
      "[53.6, 58.9, 128.1, 113.6, 202.8, 171.7, 146.4, 157.4, 159.3, 87.5, 77.3, 34.3],\n",
      "[72.0, 67.3, 92.9, 126.4, 190.9, 166.6, 192.2, 167.4, 171.0, 117.0, 70.0, 59.7],\n",
      "[84.0, 58.8, 86.7, 165.4, 228.7, 186.7, 168.9, 169.0, 136.4, 111.8, 61.4, 64.4],\n",
      "[50.9, 75.3, 57.8, 110.4, 98.3, 122.8, 129.0, 199.8, 157.3, 101.9, 43.7, 57.5],\n",
      "[55.0, 33.8, 144.7, 164.4, 187.2, 148.4, 151.4, 159.8, 141.0, 66.3, 68.5, 60.4],\n",
      "[54.9, 74.0, 89.5, 150.5, 126.8, 180.3, 257.5, 214.5, 92.4, 119.7, 44.3, 62.9],\n",
      "[86.1, 66.0, 48.8, 236.8, 143.4, 244.3, 249.4, 199.8, 99.6, 88.6, 53.8, 57.6],\n",
      "[51.1, 78.0, 112.4, 138.3, 178.3, 165.0, 216.0, 164.9, 143.3, 100.8, 86.1, 44.2],\n",
      "[76.4, 71.2, 127.3, 139.6, 205.6, 222.7, 201.2, 147.0, 171.6, 119.7, 77.9, 64.8],\n",
      "[68.8, 67.8, 111.6, 158.7, 168.7, 129.3, 179.4, 158.2, 132.3, 109.5, 43.9, 42.9],\n",
      "[47.7, 103.7, 85.2, 132.0, 178.1, 142.3, 138.8, 178.8, 136.9, 120.0, 91.4, 46.7],\n",
      "[68.2, 107.0, 100.9, 133.9, 300.8, 244.4, 280.4, 269.5, 141.6, 90.8, 104.1, 26.5],\n",
      "[58.3, 95.7, 144.1, 234.4, 285.0, 121.1, 268.5, 236.6, 164.7, 124.4, 83.7, 58.8],\n",
      "[66.9, 60.0, 87.2, 156.6, 142.9, 150.0, 217.3, 241.4, 165.4, 79.4, 57.4, 58.4],\n",
      "[46.8, 67.3, 73.3, 139.2, 262.7, 212.2, 164.0, 173.6, 120.2, 101.3, 61.5, 47.2],\n",
      "[38.0, 54.7, 135.0, 111.9, 196.7, 231.4, 190.0, 238.3, 107.7, 120.0, 76.3, 55.0],\n",
      "[87.0, 77.6, 127.6, 177.7, 162.1, 254.9, 248.3, 191.8, 113.1, 137.5, 46.7, 68.2],\n",
      "[61.8, 74.9, 198.7, 190.1, 233.5, 194.4, 247.6, 285.1, 135.3, 139.9, 78.1, 40.9],\n",
      "[29.3, 103.4, 76.4, 148.3, 185.7, 290.7, 256.6, 211.6, 125.3, 130.8, 101.0, 55.5],\n",
      "[51.4, 64.2, 150.2, 189.9, 261.4, 137.1, 231.7, 172.0, 169.7, 153.8, 47.1, 55.7],\n",
      "[64.0, 113.0, 77.5, 105.8, 199.8, 114.0, 157.0, 225.0, 133.8, 94.5, 66.3, 38.1],\n",
      "[51.1, 81.3, 97.4, 147.6, 153.6, 202.1, 235.4, 159.2, 155.2, 144.8, 81.1, 60.9],\n",
      "[82.1, 104.9, 112.6, 143.4, 189.8, 164.6, 161.2, 209.4, 126.1, 83.9, 69.2, 51.9],\n",
      "[83.3, 85.0, 74.1, 148.2, 198.3, 226.8, 206.1, 184.1, 123.0, 100.9, 86.9, 79.2],\n",
      "[44.4, 80.5, 101.1, 210.0, 177.5, 163.3, 178.8, 166.2, 167.1, 104.8, 52.3, 41.3],\n",
      "[87.7, 94.4, 154.8, 169.8, 191.2, 213.6, 192.0, 228.4, 175.3, 134.8, 78.9, 53.6],\n",
      "[62.7, 79.1, 101.5, 150.3, 195.5, 223.6, 169.5, 194.1, 174.4, 102.4, 52.4, 58.3],\n",
      "[65.4, 66.3, 79.3, 136.3, 226.4, 177.6, 192.0, 235.7, 155.4, 92.0, 88.0, 55.7],\n",
      "[54.9, 73.1, 95.5, 152.5, 165.7, 246.2, 303.7, 167.2, 156.5, 109.0, 101.2, 42.7],\n",
      "[79.8, 67.6, 165.4, 210.7, 165.5, 149.0, 195.1, 209.2, 142.6, 102.5, 86.9, 57.2],\n",
      "[62.4, 124.1, 115.2, 161.2, 173.2, 223.8, 198.5, 141.8, 113.5, 132.2, 67.0, 73.5],\n",
      "[69.3, 64.5, 161.4, 168.4, 226.1, 203.3, 212.3, 190.6, 163.7, 109.7, 73.5, 61.5],\n",
      "]"
     ],
     "language": "python",
     "metadata": {},
     "outputs": [],
     "prompt_number": 22
    },
    {
     "cell_type": "raw",
     "metadata": {},
     "source": [
      "1. Compute the average number of sun hours for each month during the total data period (1929\u20132009)."
     ]
    },
    {
     "cell_type": "code",
     "collapsed": false,
     "input": [
      "monthly_mean = [0]*12 # list with 12 elements\n",
      "n = 2009 - 1929 + 1   # no of years\n",
      "for month in range(1, 13):\n",
      "    s = 0 # sum\n",
      "    m = month - 1\n",
      "    for year in range(1929, 2010):\n",
      "        y = year - 1929 # corresponding list index (starts at 0)\n",
      "        s += data[y][m]\n",
      "    monthly_mean[m] = s/n\n",
      "month_names = 'January', 'February', 'March', 'April', 'May', 'June', 'July',\\\n",
      "              'August', 'September', 'October', 'November', 'December'\n",
      "for name, value in zip(month_names, monthly_mean):\n",
      "    print '%9s %4.0f' % (name, value)"
     ],
     "language": "python",
     "metadata": {},
     "outputs": [
      {
       "output_type": "stream",
       "stream": "stdout",
       "text": [
        "  January   57\n",
        " February   73\n",
        "    March  117\n",
        "    April  153\n",
        "      May  191\n",
        "     June  199\n",
        "     July  194\n",
        "   August  184\n",
        "September  138\n",
        "  October  105\n",
        " November   67\n",
        " December   52\n"
       ]
      }
     ],
     "prompt_number": 23
    },
    {
     "cell_type": "raw",
     "metadata": {},
     "source": [
      "2. Which month has the best weather according to the means found in the preceding task?"
     ]
    },
    {
     "cell_type": "code",
     "collapsed": false,
     "input": [
      "max_value = max(monthly_mean)\n",
      "min_value = min(monthly_mean)\n",
      "print 'Most sunny is in %s with average %.0f sunny hours' % \\\n",
      "        (month_names[monthly_mean.index(max_value)], max_value)\n",
      "print 'Least sunny is in %s with average %.0f sunny hours' % \\\n",
      "        (month_names[monthly_mean.index(min_value)], min_value)"
     ],
     "language": "python",
     "metadata": {},
     "outputs": [
      {
       "output_type": "stream",
       "stream": "stdout",
       "text": [
        "Most sunny is in June with average 199 sunny hours\n",
        "Least sunny is in December with average 52 sunny hours\n"
       ]
      }
     ],
     "prompt_number": 24
    },
    {
     "cell_type": "raw",
     "metadata": {},
     "source": [
      "3. For each decade, 1930\u20131939, 1949\u20131949,...,2000\u20132009, compute the average number of sun hours per day in January and December. For example, use December 1949, January 1950,..., December 1958, and January 1959 as data for the decade 1950\u20131959. Are there any noticeable differences between the decades?"
     ]
    },
    {
     "cell_type": "code",
     "collapsed": false,
     "input": [
      "for decade_start in range(1930, 2001, 10):\n",
      "    Jan_index = 0; Dec_index = 11 # indices\n",
      "    s = 0\n",
      "    for year in range(decade_start, decade_start+10):\n",
      "        y = year - 1929 # list index\n",
      "        s += data[y-1][Dec_index] + data[y][Jan_index]\n",
      "    print 'Decade %d-%d: %.1f' % (decade_start, decade_start+9, s/(20.*30))"
     ],
     "language": "python",
     "metadata": {},
     "outputs": [
      {
       "output_type": "stream",
       "stream": "stdout",
       "text": [
        "Decade 1930-1939: 1.7\n",
        "Decade 1940-1949: 1.8\n",
        "Decade 1950-1959: 1.8\n",
        "Decade 1960-1969: 1.8\n",
        "Decade 1970-1979: 1.6\n",
        "Decade 1980-1989: 2.0\n",
        "Decade 1990-1999: 1.8\n",
        "Decade 2000-2009: 2.1\n"
       ]
      }
     ],
     "prompt_number": 25
    }
   ],
   "metadata": {}
  }
 ]
}