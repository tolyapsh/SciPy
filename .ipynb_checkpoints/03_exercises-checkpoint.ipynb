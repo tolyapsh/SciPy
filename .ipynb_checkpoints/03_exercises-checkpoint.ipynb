{
 "metadata": {
  "name": "",
  "signature": "sha256:237d6d1a977515258afd514aeffe665d90a0b0aaa243f5af85a4f18467daee5e"
 },
 "nbformat": 3,
 "nbformat_minor": 0,
 "worksheets": [
  {
   "cells": [
    {
     "cell_type": "heading",
     "level": 1,
     "metadata": {},
     "source": [
      "3.1 Write a Fahrenheit\u2013Celsius conversion function"
     ]
    },
    {
     "cell_type": "markdown",
     "metadata": {},
     "source": [
      "The formula for converting Fahrenheit degrees to Celsius reads\n",
      "\n",
      "$$C=\\frac{5}{9}(F\u221232).\\tag{3.7}$$\n",
      "\n",
      "Write a function `C(F)` that implements this formula. To verify the implementation of `C(F)`, you can convert a Celsius temperature to Fahrenheit and then back to Celsius again using the `F(C)` function from Chapter 3.1.1 and the `C(F)` function implementing (3.7). That is, you can check that the boolean expression `c == C(F(c))` is `True` for any temperature `c` (you should, however, be careful with comparing real numbers with `==`, see Exercise 2.24). Name of program file: `f2c.py`."
     ]
    },
    {
     "cell_type": "code",
     "collapsed": false,
     "input": [
      "def cel(F):\n",
      "    return (F - 32)*5/9.\n",
      "\n",
      "def fah(C):\n",
      "    return 9*C/5. + 32\n",
      "\n",
      "print ' C1 |   F   |   C2  |  error'\n",
      "print '----|-------|-------|--------'\n",
      "\n",
      "for C1 in range(0, 101, 10):\n",
      "    F = fah(C1)\n",
      "    C2 = cel(F)\n",
      "    error = abs(C1-C2)\n",
      "    n = 'not' if error > 0.01 else ''\n",
      "    print '%3d | %5.1f | %5.1f | %7.1E %s OK' % (C1, F, C2, error, n)"
     ],
     "language": "python",
     "metadata": {},
     "outputs": [
      {
       "output_type": "stream",
       "stream": "stdout",
       "text": [
        " C1 |   F   |   C2  |  error\n",
        "----|-------|-------|--------\n",
        "  0 |  32.0 |   0.0 | 0.0E+00  OK\n",
        " 10 |  50.0 |  10.0 | 0.0E+00  OK\n",
        " 20 |  68.0 |  20.0 | 0.0E+00  OK\n",
        " 30 |  86.0 |  30.0 | 0.0E+00  OK\n",
        " 40 | 104.0 |  40.0 | 0.0E+00  OK\n",
        " 50 | 122.0 |  50.0 | 0.0E+00  OK\n",
        " 60 | 140.0 |  60.0 | 0.0E+00  OK\n",
        " 70 | 158.0 |  70.0 | 0.0E+00  OK\n",
        " 80 | 176.0 |  80.0 | 0.0E+00  OK\n",
        " 90 | 194.0 |  90.0 | 0.0E+00  OK\n",
        "100 | 212.0 | 100.0 | 0.0E+00  OK\n"
       ]
      }
     ],
     "prompt_number": 1
    },
    {
     "cell_type": "heading",
     "level": 1,
     "metadata": {},
     "source": [
      "3.2 Write the program in Exer. 2.12 as a function"
     ]
    },
    {
     "cell_type": "markdown",
     "metadata": {},
     "source": [
      "Define a Python function `sum_1_div_k(M)` that returns the sum $s$ as defined in Exercise 2.12. Print out the result of calling `s(3)` and check that the answer is correct. Name of program: `sum_func.py`."
     ]
    },
    {
     "cell_type": "code",
     "collapsed": false,
     "input": [
      "def sum_1_div_k(M):\n",
      "    s = 0\n",
      "    for k in range(1, M+1):\n",
      "        s += 1./k\n",
      "    return s\n",
      "\n",
      "print sum_1_div_k(3)\n",
      "print 1 + 1/2. + 1/3."
     ],
     "language": "python",
     "metadata": {},
     "outputs": [
      {
       "output_type": "stream",
       "stream": "stdout",
       "text": [
        "1.83333333333\n",
        "1.83333333333\n"
       ]
      }
     ],
     "prompt_number": 2
    },
    {
     "cell_type": "heading",
     "level": 1,
     "metadata": {},
     "source": [
      "3.3 Write a function for solving $ax^2+bx+c=0$"
     ]
    },
    {
     "cell_type": "markdown",
     "metadata": {},
     "source": [
      "Given a quadratic equation $ax^2+bx+c=0$, write a function `roots(a, b, c)` that returns the two roots of the equation. The returned roots should be `float` objects when the roots are real, otherwise the roots should be `complex` objects. Construct two test cases with known solutions, one with real roots and the other with complex roots, to check that the function returns correct values and correct type of objects. Hint: Use techniques from Chapter 1.6.3. Name of program: `roots_quadratic.py`."
     ]
    },
    {
     "cell_type": "code",
     "collapsed": false,
     "input": [
      "from math import sqrt\n",
      "from cmath import sqrt as csqrt\n",
      "\n",
      "def roots(a, b, c):\n",
      "    D = b**2 - 4*a*c\n",
      "    if D >= 0:\n",
      "        f = sqrt\n",
      "        roots_type = 'real'\n",
      "    else:\n",
      "        f = csqrt\n",
      "        roots_type = 'complex'\n",
      "    x1 = (-b + f(D))/2/a\n",
      "    x2 = (-b - f(D))/2/a\n",
      "    return roots_type, x1, x2\n",
      "\n",
      "#a=1; b=2; c=3\n",
      "a=1; b=2; c=-3\n",
      "roots_type, x1, x2 = roots(a,b,c)\n",
      "print 'Roots are', roots_type\n",
      "print 'x1 =', x1\n",
      "print 'x2 =', x2\n",
      "print '\\nCheck roots'\n",
      "print 'f(x1) =', a*x1**2 + b*x1 + c\n",
      "print 'f(x2) =', a*x2**2 + b*x2 + c"
     ],
     "language": "python",
     "metadata": {},
     "outputs": [
      {
       "output_type": "stream",
       "stream": "stdout",
       "text": [
        "Roots are real\n",
        "x1 = 1.0\n",
        "x2 = -3.0\n",
        "\n",
        "Check roots\n",
        "f(x1) = 0.0\n",
        "f(x2) = 0.0\n"
       ]
      }
     ],
     "prompt_number": 3
    },
    {
     "cell_type": "heading",
     "level": 1,
     "metadata": {},
     "source": [
      "3.4 Implement the sum function"
     ]
    },
    {
     "cell_type": "markdown",
     "metadata": {},
     "source": [
      "The standard Python function called `sum` takes a list as argument and computes the sum of the elements in the list:\n",
      "    >>> sum([1,3,5,-5])\n",
      "    4\n",
      "Implement your own version of `sum`. Name of program: `mysum.py`."
     ]
    },
    {
     "cell_type": "code",
     "collapsed": false,
     "input": [
      "def my_sum(list):\n",
      "    s = 0\n",
      "    for i in list:\n",
      "        s += i\n",
      "    return s\n",
      "\n",
      "list = [1, 3, 5, -5]\n",
      "print my_sum(list)"
     ],
     "language": "python",
     "metadata": {},
     "outputs": [
      {
       "output_type": "stream",
       "stream": "stdout",
       "text": [
        "4\n"
       ]
      }
     ],
     "prompt_number": 4
    },
    {
     "cell_type": "heading",
     "level": 1,
     "metadata": {},
     "source": [
      "3.5 Integrate a function by one trapezoid"
     ]
    },
    {
     "cell_type": "markdown",
     "metadata": {},
     "source": [
      "An approximation to the integral of a function $f(x)$ over an interval $[a, b]$ can found by first approximating $f(x)$ by the straight line that goes through the end points $(a, f(a))$ and $(b, f(b))$, and then finding the area under the straight line (which is the area of a trapezoid). The resulting formula becomes\n",
      "$$\\int_a^b{f(x)dx}\\approx\\frac{b-a}{2}(f(a)+f(b)).\\tag{3.8}$$\n",
      "Write a function `trapezint1(f, a, b)` that returns this approximation to the integral. The argument `f` is a Python implementation `f(x)` of the mathematical function $f(x)$.\n",
      "\n",
      "Using (3.8), compute the following integrals: $\\int_0^{ln3}e^xdx$, $\\int_0^{\\pi}\\cos{x}dx$, $\\int_0^{\\pi}\\sin{x}dx$, $\\int_0^{{\\pi}/2}\\sin{x}dx$. In each case, write out the error, i.e., the difference between the exact integral and the approximation (3.8). Make rough sketches of the trapezoid for each integral in order to understand how the method behaves in the different cases. Name of program file: `trapezint1.py`."
     ]
    },
    {
     "cell_type": "code",
     "collapsed": false,
     "input": [
      "from math import e, cos, sin, log, pi\n",
      "\n",
      "# one trapezoid approximation\n",
      "def trapezint1(f, a, b):\n",
      "    return (b - a)*(f(a) + f(b))/2.\n",
      "\n",
      "# precise approximation\n",
      "def Simpson(f, a, b, n=500):\n",
      "    h = (b - a)/float(n)\n",
      "    sum1 = 0\n",
      "    for i in range(1, n/2 + 1):\n",
      "        sum1 += f(a + (2*i - 1)*h)\n",
      "    sum2 = 0\n",
      "    for i in range(1, n/2):\n",
      "        sum2 += f(a + 2*i*h)\n",
      "    return (b - a)/3./n*(f(a) + f(b) + 4*sum1 + 2*sum2)\n",
      "\n",
      "ex   = lambda x: e**x\n",
      "cosx = lambda x: cos(x)\n",
      "sinx = lambda x: sin(x)\n",
      "\n",
      "a1 = trapezint1(ex, 0, log(3))\n",
      "a2 = trapezint1(cosx, 0, pi)\n",
      "a3 = trapezint1(sinx, 0, pi)\n",
      "a4 = trapezint1(sinx, 0, pi/2)\n",
      "b1 = Simpson(ex, 0, log(3))\n",
      "b2 = Simpson(cosx, 0, pi)\n",
      "b3 = Simpson(sinx, 0, pi)\n",
      "b4 = Simpson(sinx, 0, pi/2)\n",
      "print 'appr | exact | erro'\n",
      "print '-----|-------|-----'\n",
      "print '%4.2f | %5.2f | %4.2f' % (a1, b1, abs(a1-b1))\n",
      "print '%4.2f | %5.2f | %4.2f' % (a2, b2, abs(a2-b2))\n",
      "print '%4.2f | %5.2f | %4.2f' % (a3, b3, abs(a3-b3))\n",
      "print '%4.2f | %5.2f | %4.2f' % (a4, b4, abs(a4-b4))"
     ],
     "language": "python",
     "metadata": {},
     "outputs": [
      {
       "output_type": "stream",
       "stream": "stdout",
       "text": [
        "appr | exact | erro\n",
        "-----|-------|-----\n",
        "2.20 |  2.00 | 0.20\n",
        "0.00 | -0.00 | 0.00\n",
        "0.00 |  2.00 | 2.00\n",
        "0.79 |  1.00 | 0.21\n"
       ]
      }
     ],
     "prompt_number": 5
    },
    {
     "cell_type": "heading",
     "level": 1,
     "metadata": {},
     "source": [
      "3.6 Integrate a function by two trapezoids"
     ]
    },
    {
     "cell_type": "markdown",
     "metadata": {},
     "source": [
      "We can easily improve the formula (3.8) from Exercise 3.5 by approximating the area under the function $f(x)$ by two equal-sized trapezoids. Derive a formula for this approximation and implement it in a function `trapezint2(f, a, b)`. Run the examples from Exercise 3.5 and see how much better the new formula is. Make sketches of the two trapezoids in each case. Name of program file: `trapezint2.py`."
     ]
    },
    {
     "cell_type": "code",
     "collapsed": false,
     "input": [
      "from math import e, cos, sin, log, pi\n",
      "\n",
      "# one trapezoid approximation\n",
      "def trapezint1(f, a, b):\n",
      "    return (b - a)*(f(a) + f(b))/2.\n",
      "\n",
      "# two trapezoids approximation\n",
      "def trapezint2(f, a, b):\n",
      "    c = (b - a)/2.\n",
      "    s = trapezint1(f, a, c)\n",
      "    s += trapezint1(f, c, b)\n",
      "    return s\n",
      "\n",
      "# precise approximation\n",
      "def Simpson(f, a, b, n=500):\n",
      "    h = (b - a)/float(n)\n",
      "    sum1 = 0\n",
      "    for i in range(1, n/2 + 1):\n",
      "        sum1 += f(a + (2*i - 1)*h)\n",
      "    sum2 = 0\n",
      "    for i in range(1, n/2):\n",
      "        sum2 += f(a + 2*i*h)\n",
      "    return (b - a)/3./n*(f(a) + f(b) + 4*sum1 + 2*sum2)\n",
      "\n",
      "ex   = lambda x: e**x\n",
      "cosx = lambda x: cos(x)\n",
      "sinx = lambda x: sin(x)\n",
      "\n",
      "a1 = trapezint1(ex, 0, log(3))\n",
      "a2 = trapezint1(cosx, 0, pi)\n",
      "a3 = trapezint1(sinx, 0, pi)\n",
      "a4 = trapezint1(sinx, 0, pi/2)\n",
      "\n",
      "b1 = Simpson(ex, 0, log(3))\n",
      "b2 = Simpson(cosx, 0, pi)\n",
      "b3 = Simpson(sinx, 0, pi)\n",
      "b4 = Simpson(sinx, 0, pi/2)\n",
      "\n",
      "c1 = trapezint2(ex, 0, log(3))\n",
      "c2 = trapezint2(cosx, 0, pi)\n",
      "c3 = trapezint2(sinx, 0, pi)\n",
      "c4 = trapezint2(sinx, 0, pi/2)\n",
      "\n",
      "print 'exact | appr1 | error1 | appr2 | error2'\n",
      "print '------|-------|--------|-------|-------'\n",
      "print '%5.2f |  %4.2f |  %4.2f  |  %4.2f |  %4.2f' % (b1, a1, abs(a1-b1), c1, abs(b1-c1))\n",
      "print '%5.2f |  %4.2f |  %4.2f  |  %4.2f |  %4.2f' % (b2, a2, abs(a2-b2), c2, abs(b2-c2))\n",
      "print '%5.2f |  %4.2f |  %4.2f  |  %4.2f |  %4.2f' % (b3, a3, abs(a3-b3), c3, abs(b3-c3))\n",
      "print '%5.2f |  %4.2f |  %4.2f  |  %4.2f |  %4.2f' % (b4, a4, abs(a4-b4), c4, abs(b4-c4))"
     ],
     "language": "python",
     "metadata": {},
     "outputs": [
      {
       "output_type": "stream",
       "stream": "stdout",
       "text": [
        "exact | appr1 | error1 | appr2 | error2\n",
        "------|-------|--------|-------|-------\n",
        " 2.00 |  2.20 |  0.20  |  2.05 |  0.05\n",
        "-0.00 |  0.00 |  0.00  |  0.00 |  0.00\n",
        " 2.00 |  0.00 |  2.00  |  1.57 |  0.43\n",
        " 1.00 |  0.79 |  0.21  |  0.95 |  0.05\n"
       ]
      }
     ],
     "prompt_number": 6
    },
    {
     "cell_type": "heading",
     "level": 1,
     "metadata": {},
     "source": [
      "3.7 Derive the general Trapezoidal integration rule"
     ]
    },
    {
     "cell_type": "markdown",
     "metadata": {},
     "source": [
      "A further improvement of the approximate integration method from Exercise 3.6 is to divide the area under the $f(x)$ curve into $n$ equalsized trapezoids. Based on this idea, derive the following formula for approximating the integral:\n",
      "$$\\int_a^b{f(x)dx}\\approx\\sum_{i=1}^n{\\frac{1}{2}h(f(x_{i-1})+f(x_i))},\\tag{3.9}$$\n",
      "where $h$ is the width of the trapezoids, $h=(b\u2212a)/n$, and $x_i=a+ih,\\ i=0,...,n$, are the coordinates of the sides of the trapezoids. Figure 5.14b on page 255 visualizes the idea of the Trapezoidal rule.\n",
      "\n",
      "Implement (3.9) in a Python function `trapezint(f, a, b, n)`. Run the examples from Exercise 3.5 with $n=10$. Name of program file: `trapezint.py`.\n",
      "\n",
      "*Remark*. Formula (3.9) is not the most common way of expressing the Trapezoidal integration rule. The reason is that $f(x_i)$ is evaluated twice, first in term $i$ and then as $f(x_i\u22121)$ in term $i+1$. The formula can be further developed to avoid unnecessary evaluations of $f(x_i)$, which results in the standard form\n",
      "$$\\int_a^b{f(x)dx}\\approx\\frac{1}{2}h(f(a)+f(b))+h\\sum_{i=1}^{n-1}f(x_i).\\tag{3.10}$$"
     ]
    },
    {
     "cell_type": "code",
     "collapsed": false,
     "input": [
      "from math import e, cos, sin, log, pi\n",
      "\n",
      "# one trapezoid approximation\n",
      "def trapezint1(f, a, b):\n",
      "    return (b - a)*(f(a) + f(b))/2.\n",
      "\n",
      "# N trapezoids approximation\n",
      "def trapezint(f, a, b, n):\n",
      "    sum = 0\n",
      "    h = (b - a)/float(n)\n",
      "    for i in range(n):\n",
      "        sum += trapezint1(f, a + i*h, a + i*h + h)\n",
      "        # print 'a =', a + i*h, 'b =', a + i*h + h, 'sum =', sum\n",
      "    # print\n",
      "    return sum\n",
      "\n",
      "# precise approximation\n",
      "def Simpson(f, a, b, n=500):\n",
      "    h = (b - a)/float(n)\n",
      "    sum1 = 0\n",
      "    for i in range(1, n/2 + 1):\n",
      "        sum1 += f(a + (2*i - 1)*h)\n",
      "    sum2 = 0\n",
      "    for i in range(1, n/2):\n",
      "        sum2 += f(a + 2*i*h)\n",
      "    return (b - a)/3./n*(f(a) + f(b) + 4*sum1 + 2*sum2)\n",
      "\n",
      "ex   = lambda x: e**x\n",
      "cosx = lambda x: cos(x)\n",
      "sinx = lambda x: sin(x)\n",
      "\n",
      "a1 = trapezint1(ex, 0, log(3))\n",
      "a2 = trapezint1(cosx, 0, pi)\n",
      "a3 = trapezint1(sinx, 0, pi)\n",
      "a4 = trapezint1(sinx, 0, pi/2)\n",
      "\n",
      "b1 = Simpson(ex, 0, log(3))\n",
      "b2 = Simpson(cosx, 0, pi)\n",
      "b3 = Simpson(sinx, 0, pi)\n",
      "b4 = Simpson(sinx, 0, pi/2)\n",
      "\n",
      "n = 10\n",
      "c1 = trapezint(ex, 0, log(3), n)\n",
      "c2 = trapezint(cosx, 0, pi, n)\n",
      "c3 = trapezint(sinx, 0, pi, n)\n",
      "c4 = trapezint(sinx, 0, pi/2, n)\n",
      "\n",
      "print ' simps | trap1 | error | trapN | error'\n",
      "print '-------|-------|-------|-------|------'\n",
      "print '%6.3f | %5.3f | %5.3f | %5.3f | %5.3f' % (b1, a1, abs(a1-b1), c1, abs(b1-c1))\n",
      "print '%6.3f | %5.3f | %5.3f | %5.3f | %5.3f' % (b2, a2, abs(a2-b2), c2, abs(b2-c2))\n",
      "print '%6.3f | %5.3f | %5.3f | %5.3f | %5.3f' % (b3, a3, abs(a3-b3), c3, abs(b3-c3))\n",
      "print '%6.3f | %5.3f | %5.3f | %5.3f | %5.3f' % (b4, a4, abs(a4-b4), c4, abs(b4-c4))"
     ],
     "language": "python",
     "metadata": {},
     "outputs": [
      {
       "output_type": "stream",
       "stream": "stdout",
       "text": [
        " simps | trap1 | error | trapN | error\n",
        "-------|-------|-------|-------|------\n",
        " 2.000 | 2.197 | 0.197 | 2.002 | 0.002\n",
        "-0.000 | 0.000 | 0.000 | 0.000 | 0.000\n",
        " 2.000 | 0.000 | 2.000 | 1.984 | 0.016\n",
        " 1.000 | 0.785 | 0.215 | 0.998 | 0.002\n"
       ]
      }
     ],
     "prompt_number": 7
    },
    {
     "cell_type": "heading",
     "level": 1,
     "metadata": {},
     "source": [
      "3.8 Derive the general Midpoint integration rule"
     ]
    },
    {
     "cell_type": "markdown",
     "metadata": {},
     "source": [
      "The idea of the Midpoint rule for integration is to divide the area under the curve $f(x)$ into $n$ equal-sized rectangles (instead of trapezoids as in Exercise 3.7). The height of the rectangle is determined by the value of $f$ at the midpoint of the rectangle. Figure 5.14a on page 255 illustrates the idea. Compute the area of each rectangle, sum them up, and arrive at the formula for the Midpoint rule:\n",
      "$$\\int_a^b{f(x)dx}\\approx h\\sum_{i=1}^n{f\\left(a+\\frac{1}{2}ih\\right)},\\tag{3.11}$$\n",
      "where $h=(b\u2212a)/n$ is the width of each rectangle. Implement this formula in a Python function `midpointint(f, a, b, n)` and test the function on the Examples listed in Exercise 3.5. How do the errors in the Midpoint rule compare with those of the Trapezoidal rule (Exercise 3.7) for $n=1$ and $n=10$? Name of program file: `midpointint.py`."
     ]
    },
    {
     "cell_type": "code",
     "collapsed": false,
     "input": [
      "from math import e, cos, sin, log, pi\n",
      "\n",
      "# N midpoints approximation\n",
      "def midpointint(f, a, b, n):\n",
      "    sum = 0\n",
      "    h = (b - a)/float(n)\n",
      "    for i in range(n):\n",
      "        sum += h*f(a + h/2. + i*h)\n",
      "    return sum\n",
      "\n",
      "# precise approximation\n",
      "def Simpson(f, a, b, n=500):\n",
      "    h = (b - a)/float(n)\n",
      "    sum1 = 0\n",
      "    for i in range(1, n/2 + 1):\n",
      "        sum1 += f(a + (2*i - 1)*h)\n",
      "    sum2 = 0\n",
      "    for i in range(1, n/2):\n",
      "        sum2 += f(a + 2*i*h)\n",
      "    return (b - a)/3./n*(f(a) + f(b) + 4*sum1 + 2*sum2)\n",
      "\n",
      "ex   = lambda x: e**x\n",
      "cosx = lambda x: cos(x)\n",
      "sinx = lambda x: sin(x)\n",
      "\n",
      "b1 = Simpson(ex, 0, log(3))\n",
      "b2 = Simpson(cosx, 0, pi)\n",
      "b3 = Simpson(sinx, 0, pi)\n",
      "b4 = Simpson(sinx, 0, pi/2)\n",
      "\n",
      "n = 10\n",
      "c1 = midpointint(ex, 0, log(3), n)\n",
      "c2 = midpointint(cosx, 0, pi, n)\n",
      "c3 = midpointint(sinx, 0, pi, n)\n",
      "c4 = midpointint(sinx, 0, pi/2, n)\n",
      "\n",
      "print ' simps | midpnt | error'\n",
      "print '-------|--------|------'\n",
      "print '%6.3f | %6.3f | %5.3f' % (b1, c1, abs(b1-c1))\n",
      "print '%6.3f | %6.3f | %5.3f' % (b2, c2, abs(b2-c2))\n",
      "print '%6.3f | %6.3f | %5.3f' % (b3, c3, abs(b3-c3))\n",
      "print '%6.3f | %6.3f | %5.3f' % (b4, c4, abs(b4-c4))"
     ],
     "language": "python",
     "metadata": {},
     "outputs": [
      {
       "output_type": "stream",
       "stream": "stdout",
       "text": [
        " simps | midpnt | error\n",
        "-------|--------|------\n",
        " 2.000 |  1.999 | 0.001\n",
        "-0.000 | -0.000 | 0.000\n",
        " 2.000 |  2.008 | 0.008\n",
        " 1.000 |  1.001 | 0.001\n"
       ]
      }
     ],
     "prompt_number": 8
    },
    {
     "cell_type": "heading",
     "level": 1,
     "metadata": {},
     "source": [
      "3.9 Compute the area of an arbitrary triangle"
     ]
    },
    {
     "cell_type": "markdown",
     "metadata": {},
     "source": [
      "An arbitrary triangle can be described by the coordinates of its three vertices: $(x_1,y_1),\\ (x_2,y_2),\\ (x_3,y_3),$ numbered in a counterclockwise direction. The area of the triangle is given by the formula\n",
      "$$A=\\frac{1}{2}|x_2y_3\u2212x_3y_2\u2212x_1y_3+x_3y_1+x_1y_2\u2212x_2y_1|.\\tag{3.12}$$\n",
      "Write a function `area(vertices)` that returns the area of a triangle whose vertices are specified by the argument `vertices`, which is a nested list of the vertex coordinates. For example, computing the area of the triangle with vertex coordinates $(0,0),\\ (1,0),$ and $(0,2)$ is done by\n",
      "\n",
      "    triangle1 = area([[0,0], [1,0], [0,2]])\n",
      "    #or\n",
      "    v1 = (0,0); v2 = (1,0); v3 = (0,2);\n",
      "    vertices = [v1, v2, v3]\n",
      "    triangle1 = area(vertices)\n",
      "    \n",
      "    print 'Area of triangle is %.2f' % triangle1\n",
      "    \n",
      "Recall from Chapter 2.4 that extracting a coordinate like `x2` for use in the formula (3.12) is done by `vertices[1][0]`.\n",
      "Test the `area` function on a triangle with known area. Name of program file: `area_triangle.py`."
     ]
    },
    {
     "cell_type": "code",
     "collapsed": false,
     "input": [
      "def area(vertices):\n",
      "    s1 = vertices[1][0]*vertices[2][1]\n",
      "    s2 = vertices[2][0]*vertices[1][1]\n",
      "    s3 = vertices[0][0]*vertices[2][1]\n",
      "    s4 = vertices[2][0]*vertices[0][1]\n",
      "    s5 = vertices[0][0]*vertices[1][1]\n",
      "    s6 = vertices[1][0]*vertices[0][1]\n",
      "    return abs(s1 - s2 - s3 + s4 + s5 - s6)/2.\n",
      "\n",
      "v1 = (0,0); v2 = (5,6); v3 = (5,0);\n",
      "vertices = [v1, v2, v3]\n",
      "triangle = area(vertices)\n",
      "\n",
      "print 'Area of triangle is %.2f' % triangle"
     ],
     "language": "python",
     "metadata": {},
     "outputs": [
      {
       "output_type": "stream",
       "stream": "stdout",
       "text": [
        "Area of triangle is 15.00\n"
       ]
      }
     ],
     "prompt_number": 9
    },
    {
     "cell_type": "heading",
     "level": 1,
     "metadata": {},
     "source": [
      "3.10 Compute the length of a path"
     ]
    },
    {
     "cell_type": "markdown",
     "metadata": {},
     "source": [
      "Some object is moving along a path in the plane. At $n$ points of time we have recorded the corresponding $(x, y)$ positions of the object: $(x_0,y_0),(x_1,y_2),...,(x_{n\u22121},y_{n\u22121}).$ The total length $L$ of the path from $(x_0,y_0)$ to $(x_{n\u22121},y_{n\u22121})$ is the sum of all the individual line segments $((x_{i\u22121},y_{i\u22121})$ to $(x_i,y_i),i=1,...,n\u22121)$:\n",
      "$$L=\\sum_{i=1}^{n-1}\\sqrt{(x_i-x_{i-1})^2+(y_i-y_{i-1})^2}.\\tag{3.13}$$\n",
      "Make a function `pathlength(x, y)` for computing $L$ according to the formula. The arguments `x` and `y` hold all the $x_0,...,x_{n\u22121}$ and $y_0,...,y_{n\u22121}$ coordinates, respectively. Test the function on a triangular path with the four points (1,1), (2,1), (1,2), and (1,1). Name of program file: `pathlength.py`."
     ]
    },
    {
     "cell_type": "code",
     "collapsed": false,
     "input": [
      "from math import sqrt\n",
      "\n",
      "def pathlength(x, y):\n",
      "    L = 0\n",
      "    for i in range(len(x)-1):\n",
      "        L += sqrt((x[i+1] - x[i])**2 + (y[i+1] - y[i])**2)\n",
      "    return L\n",
      "\n",
      "x = [1, 2, 1, 1]\n",
      "y = [1, 1, 2, 1]\n",
      "print pathlength(x, y)"
     ],
     "language": "python",
     "metadata": {},
     "outputs": [
      {
       "output_type": "stream",
       "stream": "stdout",
       "text": [
        "3.41421356237\n"
       ]
      }
     ],
     "prompt_number": 10
    },
    {
     "cell_type": "heading",
     "level": 1,
     "metadata": {},
     "source": [
      "3.11 Approximate $\\pi$"
     ]
    },
    {
     "cell_type": "markdown",
     "metadata": {},
     "source": [
      "The value of $\\pi$ equals the circumference of a circle with radius 1/2. Suppose we approximate the circumference by a polygon through $N+1$ points on the circle. The length of this polygon can be found using the `pathlength` function from Exercise 3.10. Compute $N+1$ points $(x_i,y_i)$ along a circle with radius $1/2$ according to the formulas\n",
      "$$x_i=\\frac{1}{2}\\cos(2\\pi i/N),\\ y_i=\\frac{1}{2}\\sin(2\\pi i/N),\\ i=0, \\dots, N.$$\n",
      "Call the `pathlength` function and write out the error in the approximation of $\\pi$ for $N=2^k,\\ k =2,3,\\dots,10$. Name of program file: `pi_approx.py`."
     ]
    },
    {
     "cell_type": "code",
     "collapsed": false,
     "input": [
      "from math import sqrt, pi, cos, sin\n",
      "\n",
      "def pathlength(x, y):\n",
      "    L = 0\n",
      "    for i in range(len(x)-1):\n",
      "        L += sqrt((x[i+1]-x[i])**2 + (y[i+1]-y[i])**2)\n",
      "    return L\n",
      "\n",
      "print '   N |    Pi   | Error'\n",
      "print ' ----|---------|-------'\n",
      "for k in range(11):\n",
      "    x = []; y = []\n",
      "    N = 2**k\n",
      "    for i in range(N+1):\n",
      "        x.append(cos(2*pi*i/N)/2.)\n",
      "        y.append(sin(2*pi*i/N)/2.)\n",
      "    L = pathlength(x, y)\n",
      "    print '%4d | %6.5f | %5.0e' % (N, L, abs(L-pi))"
     ],
     "language": "python",
     "metadata": {},
     "outputs": [
      {
       "output_type": "stream",
       "stream": "stdout",
       "text": [
        "   N |    Pi   | Error\n",
        " ----|---------|-------\n",
        "   1 | 0.00000 | 3e+00\n",
        "   2 | 2.00000 | 1e+00\n",
        "   4 | 2.82843 | 3e-01\n",
        "   8 | 3.06147 | 8e-02\n",
        "  16 | 3.12145 | 2e-02\n",
        "  32 | 3.13655 | 5e-03\n",
        "  64 | 3.14033 | 1e-03\n",
        " 128 | 3.14128 | 3e-04\n",
        " 256 | 3.14151 | 8e-05\n",
        " 512 | 3.14157 | 2e-05\n",
        "1024 | 3.14159 | 5e-06\n"
       ]
      }
     ],
     "prompt_number": 11
    },
    {
     "cell_type": "heading",
     "level": 1,
     "metadata": {},
     "source": [
      "3.12 Write various hello-world functions"
     ]
    },
    {
     "cell_type": "markdown",
     "metadata": {},
     "source": [
      "Write three functions:\n",
      "1. `hw1`, which takes no arguments and returns the string `'Hello, World!'`\n",
      "2. `hw2`, which takes no arguments and returns nothing, but the string `'Hello, World!'` is printed in the terminal window\n",
      "3. `hw3`, which takes two string arguments and prints these two arguments separated by a comma.\n",
      "\n",
      "Use the following main program to test the three functions:\n",
      "\n",
      "    print hw1()\n",
      "    hw2()\n",
      "    hw3('Hello ', 'World!')\n",
      "\n",
      "Name of program: `hw_func.py`."
     ]
    },
    {
     "cell_type": "code",
     "collapsed": false,
     "input": [
      "def hw1():\n",
      "    return 'Hello, World!'\n",
      "\n",
      "def hw2():\n",
      "    print 'Hello, World!'\n",
      "\n",
      "def hw3(str1, str2):\n",
      "    print '%s, %s' % (str1, str2)\n",
      "\n",
      "print hw1()\n",
      "hw2()\n",
      "hw3('Hello', 'World!')"
     ],
     "language": "python",
     "metadata": {},
     "outputs": [
      {
       "output_type": "stream",
       "stream": "stdout",
       "text": [
        "Hello, World!\n",
        "Hello, World!\n",
        "Hello, World!\n"
       ]
      }
     ],
     "prompt_number": 12
    },
    {
     "cell_type": "heading",
     "level": 1,
     "metadata": {},
     "source": [
      "3.13 Approximate a function by a sum of sines"
     ]
    },
    {
     "cell_type": "markdown",
     "metadata": {},
     "source": [
      "We consider the piecewise constant function\n",
      "\n",
      "$$f(t)=\\begin{cases}1,& 0<t<T/2\\\\0,& t=T/2\\\\-1,& T/2<t<T\\end{cases}\\tag{3.14}$$\n",
      "\n",
      "Sketch this function on a piece of paper. One can approximate f(t) by the sum\n",
      "\n",
      "$$S(t;n)=\\frac{4}{\\pi}\\sum_{i=1}^n\\frac{1}{2i-1}\\sin\\left(\\frac{2(2i-1)\\pi t}{T}\\right).\\tag{3.15}$$\n",
      "\n",
      "It can be shown that $S(t;n)\u2192f(t)$ as $n\u2192\u221e$.\n",
      "Write a Python function `S(t, n, T)` for returning the value of\n",
      "$S(t;n)$. Also write a Python `f(t, T)` for computing $f(t)$. Write out\n",
      "tabular information showing how the error $f(t)\u2212S(t;n)$ varies with $n$\n",
      "and $t$ for the case where $n=1,3,5,10,30,100$ and $t=\u03b1T$, with $T=2\u03c0$, and $\u03b1=0.01,0.25,0.49$. Use the table to comment on how the quality of the approximation depends on $\u03b1$ and $n$. Name of program file: `sinesum1.py`.\n",
      "\n",
      "*Remark.* A sum of sine and/or cosine functions, as in (3.15), is called\n",
      "a *Fourier series*. Approximating a function by a Fourier series is a\n",
      "very important technique in science and technology. Exercise 5.30 asks\n",
      "for visualization of how well $S(t;n)$ approximates $f(t)$ for some values\n",
      "of $n$."
     ]
    },
    {
     "cell_type": "code",
     "collapsed": false,
     "input": [
      "from math import sin, pi\n",
      "\n",
      "def S(t, n, T):\n",
      "    sum = 0\n",
      "    for i in range(1, n+1):\n",
      "        ii = 2*i - 1\n",
      "        sum += sin(2*ii*t*pi/T)/ii\n",
      "    return sum*4/pi\n",
      "\n",
      "def f(t, T):\n",
      "    if t<T/2.:\n",
      "        return 1\n",
      "    elif t==T/2.:\n",
      "        return 0\n",
      "    else:\n",
      "        return -1\n",
      "\n",
      "ns = [1, 3, 5, 10, 30, 99]\n",
      "alphas = [0.01, 0.25, 0.49, 0.8, 0.99]\n",
      "T = 2*pi\n",
      "\n",
      "for alpha in alphas:\n",
      "    t = alpha*T\n",
      "    print 'alpha =', alpha\n",
      "    print ' n |   f  |  approx | error'\n",
      "    print '---|------|---------|------'\n",
      "    for n in ns:\n",
      "        fi = f(t, T)\n",
      "        si = S(t, n, T)\n",
      "        print '%2d | %4.1f | %7.4f | %.3f' % (n, fi, si, abs(fi-si))\n",
      "    print"
     ],
     "language": "python",
     "metadata": {},
     "outputs": [
      {
       "output_type": "stream",
       "stream": "stdout",
       "text": [
        "alpha = 0.01\n",
        " n |   f  |  approx | error\n",
        "---|------|---------|------\n",
        " 1 |  1.0 |  0.0799 | 0.920\n",
        " 3 |  1.0 |  0.2382 | 0.762\n",
        " 5 |  1.0 |  0.3914 | 0.609\n",
        "10 |  1.0 |  0.7332 | 0.267\n",
        "30 |  1.0 |  1.1448 | 0.145\n",
        "99 |  1.0 |  0.9503 | 0.050\n",
        "\n",
        "alpha = 0.25\n",
        " n |   f  |  approx | error\n",
        "---|------|---------|------\n",
        " 1 |  1.0 |  1.2732 | 0.273\n",
        " 3 |  1.0 |  1.1035 | 0.103\n",
        " 5 |  1.0 |  1.0631 | 0.063\n",
        "10 |  1.0 |  0.9682 | 0.032\n",
        "30 |  1.0 |  0.9894 | 0.011\n",
        "99 |  1.0 |  1.0032 | 0.003\n",
        "\n",
        "alpha = 0.49\n",
        " n |   f  |  approx | error\n",
        "---|------|---------|------\n",
        " 1 |  1.0 |  0.0799 | 0.920\n",
        " 3 |  1.0 |  0.2382 | 0.762\n",
        " 5 |  1.0 |  0.3914 | 0.609\n",
        "10 |  1.0 |  0.7332 | 0.267\n",
        "30 |  1.0 |  1.1448 | 0.145\n",
        "99 |  1.0 |  0.9503 | 0.050\n",
        "\n",
        "alpha = 0.8\n",
        " n |   f  |  approx | error\n",
        "---|------|---------|------\n",
        " 1 | -1.0 | -1.2109 | 0.211\n",
        " 3 | -1.0 | -0.9615 | 0.039\n",
        " 5 | -1.0 | -0.9338 | 0.066\n",
        "10 | -1.0 | -0.9666 | 0.033\n",
        "30 | -1.0 | -0.9888 | 0.011\n",
        "99 | -1.0 | -1.0027 | 0.003\n",
        "\n",
        "alpha = 0.99\n",
        " n |   f  |  approx | error\n",
        "---|------|---------|------\n",
        " 1 | -1.0 | -0.0799 | 0.920\n",
        " 3 | -1.0 | -0.2382 | 0.762\n",
        " 5 | -1.0 | -0.3914 | 0.609\n",
        "10 | -1.0 | -0.7332 | 0.267\n",
        "30 | -1.0 | -1.1448 | 0.145\n",
        "99 | -1.0 | -0.9503 | 0.050\n",
        "\n"
       ]
      }
     ],
     "prompt_number": 13
    },
    {
     "cell_type": "heading",
     "level": 1,
     "metadata": {},
     "source": [
      "3.14 Implement a Gaussian function"
     ]
    },
    {
     "cell_type": "markdown",
     "metadata": {},
     "source": [
      "Make a Python function `gauss(x, m=0, s=1)` for computing the Gaussian function\n",
      "\n",
      "$$f(x)=\\frac{1}{\\sqrt{2\\pi}s}\\exp\\left[-\\frac{1}{2}\\left(\\frac{x-m}{s}\\right)^2\\right],$$\n",
      "\n",
      "Call `gauss(x)` and print out the result for $x\u2208[\u22125,5]$ (say for 11 uniformly spaced $x$ values). Name of program file: `Gaussian2.py`."
     ]
    },
    {
     "cell_type": "code",
     "collapsed": false,
     "input": [
      "from math import exp, sqrt, pi\n",
      "\n",
      "def gauss(x, m=0, s=1):\n",
      "    return exp((float(x-m)/s)**2/(-2))/s/sqrt(2*pi)\n",
      "\n",
      "a = -5; b = 5; n = 11\n",
      "\n",
      "h = (b - a)/float(n-1)\n",
      "print ' x | gauss'\n",
      "print '---|------'\n",
      "for i in range(n):\n",
      "    x = a + i*h\n",
      "    print '%2d | %.3f' % (x, gauss(x))"
     ],
     "language": "python",
     "metadata": {},
     "outputs": [
      {
       "output_type": "stream",
       "stream": "stdout",
       "text": [
        " x | gauss\n",
        "---|------\n",
        "-5 | 0.000\n",
        "-4 | 0.000\n",
        "-3 | 0.004\n",
        "-2 | 0.054\n",
        "-1 | 0.242\n",
        " 0 | 0.399\n",
        " 1 | 0.242\n",
        " 2 | 0.054\n",
        " 3 | 0.004\n",
        " 4 | 0.000\n",
        " 5 | 0.000\n"
       ]
      }
     ],
     "prompt_number": 14
    },
    {
     "cell_type": "heading",
     "level": 1,
     "metadata": {},
     "source": [
      "3.15 Make a function of the formula in Exer. 1.12"
     ]
    },
    {
     "cell_type": "markdown",
     "metadata": {},
     "source": [
      "Implement the formula (1.8) from Exercise 1.12 in a Python function with three arguments: `egg(M, To=20, Ty=70)`. The parameters $\u03c1, K, c,$ and $T_w$ can be set as local (constant) variables inside the function. Let $t$ be returned from the function. Compute $t$ for a soft and hard boiled egg, of a small ($M=47\\ g$) and large ($M=67\\ g$) size, taken from the fridge ($T_0=4^oC$) and from a hot room ($T_0=25^oC$). Name of program file: `egg_func.py`."
     ]
    },
    {
     "cell_type": "code",
     "collapsed": false,
     "input": [
      "from math import log, pi\n",
      "\n",
      "def egg(M, To=20, Ty=70):\n",
      "    rho = 1.038 # g/cm^3\n",
      "    c = 3.7 # J/g/K\n",
      "    K = 5.4e-3 # W/cm/K\n",
      "    Tw = 100 # Celcius degrees\n",
      "    return M**(2./3)*c*rho**(1./3)/K/pi**2/60/(4*pi/3)**(2./3)*log(0.76*(To-Tw)/(Ty-Tw),2)\n",
      "\n",
      "t1 = egg(67, 4)\n",
      "t2 = egg(67, 20)\n",
      "t3 = egg(47, 4)\n",
      "t4 = egg(47, 20)\n",
      "print 'Big egg'\n",
      "print '\\tfrom fridge\\tsoft boiled below %.1f minutes' % t1\n",
      "print '\\t\\t\\thard boiled above %.1f minutes' % t1\n",
      "print '\\tfrom hot room\\tsoft boiled below %.1f minutes' % t2\n",
      "print '\\t\\t\\thard boiled above %.1f minutes' % t2\n",
      "print '\\nSmall egg'\n",
      "print '\\tfrom fridge\\tsoft boiled below %.1f minutes' % t3\n",
      "print '\\t\\t\\thard boiled above %.1f minutes' % t3\n",
      "print '\\tfrom hot room\\tsoft boiled below %.1f minutes' % t4\n",
      "print '\\t\\t\\thard boiled above %.1f minutes' % t4"
     ],
     "language": "python",
     "metadata": {},
     "outputs": [
      {
       "output_type": "stream",
       "stream": "stdout",
       "text": [
        "Big egg\n",
        "\tfrom fridge\tsoft boiled below 9.5 minutes\n",
        "\t\t\thard boiled above 9.5 minutes\n",
        "\tfrom hot room\tsoft boiled below 7.6 minutes\n",
        "\t\t\thard boiled above 7.6 minutes\n",
        "\n",
        "Small egg\n",
        "\tfrom fridge\tsoft boiled below 7.5 minutes\n",
        "\t\t\thard boiled above 7.5 minutes\n",
        "\tfrom hot room\tsoft boiled below 6.0 minutes\n",
        "\t\t\thard boiled above 6.0 minutes\n"
       ]
      }
     ],
     "prompt_number": 15
    },
    {
     "cell_type": "heading",
     "level": 1,
     "metadata": {},
     "source": [
      "3.16 Write a function for numerical differentiation"
     ]
    },
    {
     "cell_type": "markdown",
     "metadata": {},
     "source": [
      "The formula $$f'(x)\\approx\\frac{f(x+h)-f(x-h)}{2h}\\tag{3.16}$$ can be used to find an approximate derivative of a mathematical function $f(x)$ if $h$ is small. Write a function `diff(f, x, h=1E-6)` that returns the approximation (3.16) of the derivative of a mathematical function represented by a Python function `f(x)`.\n",
      "Apply (3.16) to differentiate $f(x)=e^x$ at $x=0, f(x)=e^{-2x^2}$ at $x=0, f(x)=\\cos x$ at $x=2\u03c0$, and $f(x)=\\ln x$ at $x=1$. Use $h=0.01$. In each case, write out the error, i.e., the difference between the exact derivative and the result of (3.16). Name of program file: `diff_f.py`."
     ]
    },
    {
     "cell_type": "code",
     "collapsed": false,
     "input": [
      "from math import e, cos, log, pi\n",
      "\n",
      "def diff(f, x, h=1E-6):\n",
      "    return (f(x+h) - f(x-h))/2./h\n",
      "\n",
      "print 'deriva |  error'\n",
      "print '-------|--------'\n",
      "f = diff(lambda x: e**x, 0, 0.01)\n",
      "print '%6.4f | %7.1E' % (f, abs(1-f))\n",
      "f = diff(lambda x: e**(-2*x**2), 0, 0.01)\n",
      "print '%6.4f | %7.1E' % (f, abs(1-f))\n",
      "f = diff(lambda x: cos(x), 2*pi, 0.01)\n",
      "print '%6.4f | %7.1E' % (f, abs(1-f))\n",
      "f = diff(lambda x: log(x), 1, 0.01)\n",
      "print '%6.4f | %7.1E' % (f, abs(1-f))"
     ],
     "language": "python",
     "metadata": {},
     "outputs": [
      {
       "output_type": "stream",
       "stream": "stdout",
       "text": [
        "deriva |  error\n",
        "-------|--------\n",
        "1.0000 | 1.7E-05\n",
        "0.0000 | 1.0E+00\n",
        "0.0000 | 1.0E+00\n",
        "1.0000 | 3.3E-05\n"
       ]
      }
     ],
     "prompt_number": 16
    },
    {
     "cell_type": "heading",
     "level": 1,
     "metadata": {},
     "source": [
      "3.17 Make an adaptive Trapezoidal integration rule"
     ]
    },
    {
     "cell_type": "markdown",
     "metadata": {},
     "source": [
      "A problem with the Trapezoidal integration rule (3.9) is to decide how many trapezoids ($n$) to use in order to achieve a desired accuracy. Let $E$ be the error in the Trapezoidal method, i.e., the difference between the exact integral and that produced by (3.9). We would like to prescribe a (small) tolerance $\\epsilon$ and find an $n$ such that $E\u2264\\epsilon$. This demands some expression for the error $E$ involving the parameter $n$. One can show that $$E\\leq\\frac{1}{12}(b-a)h^2\\max_{x\\subset[a,b]}|f''(x)|\\tag{3.17}$$\n",
      "The maximum of $|f''(x)|$ can be computed (approximately) by evaluating $f''(x)$ at a large number of points in $[a, b]$, taking the absolute value $|f''(x)|$, and finding the maximum value of these. You can use the `diff2` function from Chapter 3.1.9 to compute $f''(x)$.\n",
      "With the computed estimate of $max|f''(x)|$ we can find $h$ from setting the worst case error in (3.17) (i.e., the right-hand side) equal to the desired tolerance: $$\\frac{1}{12}(b-a)h^2\\max_{x\\subset[a,b]}|f''(x)|=\\epsilon$$\n",
      "Solving with respect to $h$ gives $$h=\\sqrt{12\\epsilon}\\left((b-a)\\max_{x\\subset[a,b]}|f''(x)|\\right)^\\frac{-1}{2}.\\tag{3.18}$$\n",
      "With $n=(b\u2212a)/h$ we have the $n$ that corresponds to the desired accuracy $\\epsilon$.\n",
      "Make a Python function `adaptive_trapezint(f, a, b, eps=1E-5)` for computing the integral $\\int_a^bf(x)dx$ with an error less than or equal to `eps`. First compute $n$ and then call `trapezint(f, a, b, n)` from Exercise 3.7. Name of program file: `adaptive_trapezint.py`.\n",
      "A numerical method that applies an expression for the error to automatically compute a proper discretization parameter, like $n$ (or $h$) here, is known as an *adaptive* numerical method."
     ]
    },
    {
     "cell_type": "code",
     "collapsed": false,
     "input": [
      "from math import sqrt\n",
      "\n",
      "# second derivative\n",
      "def diff2(f, x, h=1E-6):\n",
      "    r = (f(x-h) - 2*f(x) + f(x+h))/float(h*h)\n",
      "    return r\n",
      "\n",
      "# maximum of second derivative in 100 points\n",
      "def max_diff2(f, a, b):\n",
      "    diff2_max = diff2(f, a)\n",
      "    step = abs(b-a)/10.\n",
      "    for i in range(1,11):\n",
      "        x = a + i*step\n",
      "        diff2_i = diff2(f, x)\n",
      "        if diff2_max < diff2_i:\n",
      "            diff2_max = diff2_i\n",
      "    return diff2_max\n",
      "\n",
      "# one trapezoid approximation of integral\n",
      "def trapezint1(f, a, b):\n",
      "    return (b - a)*(f(a) + f(b))/2.\n",
      "\n",
      "# N trapezoids approximation of integral\n",
      "def trapezint(f, a, b, n):\n",
      "    sum = 0\n",
      "    h = (b - a)/float(n)\n",
      "    for i in range(n):\n",
      "        sum += trapezint1(f, a + i*h, a + i*h + h)\n",
      "    return sum\n",
      "\n",
      "# adaptive trapezoid approximation of integral\n",
      "def adaptive_trapezint(f, a, b, eps=1E-6):\n",
      "    h = sqrt(12*eps)*((b-a)*max_diff2(f, a, b))**(-0.5)\n",
      "    n = int((b - a)/h) + 1\n",
      "    return trapezint(f, a, b, n)\n",
      "\n",
      "f = lambda x: x**2\n",
      "print adaptive_trapezint(f, 0, 1, 1E-9)"
     ],
     "language": "python",
     "metadata": {},
     "outputs": [
      {
       "output_type": "stream",
       "stream": "stdout",
       "text": [
        "0.333333334333\n"
       ]
      }
     ],
     "prompt_number": 17
    },
    {
     "cell_type": "heading",
     "level": 1,
     "metadata": {},
     "source": [
      "3.18 Compute a polynomial via a product"
     ]
    },
    {
     "cell_type": "markdown",
     "metadata": {},
     "source": [
      "Given $n+1$ roots $r_0,r_1,\\dots,r_n$ of a polynomial $p(x)$ of degree $n+1$, $p(x)$ can be computed by\n",
      "$$p(x)=\\prod_{i=0}^n(x-r_i)=(x-r_0)(x-r_1)\\dots(x-r_{n-1})(x-r_n).\\tag{3.19}$$\n",
      "Store the roots $r_0,\\dots,r_n$ in a list and make a loop that computes the product in (3.19). Test the program on a polynomial with roots $\u22121,\\ 1$ and $2$. Name of program file: `polyprod.py`."
     ]
    },
    {
     "cell_type": "code",
     "collapsed": false,
     "input": [
      "def polyprod(roots, x):\n",
      "    prod = 1\n",
      "    for i in range(len(roots)):\n",
      "        prod *= x - roots[i]\n",
      "    return prod\n",
      "\n",
      "roots = [-1, 1, 2]; x = 2\n",
      "print 'p(%g) = %g' % (x, polyprod(roots, x))"
     ],
     "language": "python",
     "metadata": {},
     "outputs": [
      {
       "output_type": "stream",
       "stream": "stdout",
       "text": [
        "p(2) = 0\n"
       ]
      }
     ],
     "prompt_number": 18
    },
    {
     "cell_type": "heading",
     "level": 1,
     "metadata": {},
     "source": [
      "3.19 Implement the factorial function"
     ]
    },
    {
     "cell_type": "markdown",
     "metadata": {},
     "source": [
      "The factorial of $n$ is written as $n!$ and defined as $$n!=n(n\u22121)(n\u22122)\\dots2\u00b71,\\tag{3.20}$$ with the special cases $$1!=1,\\ 0!=1.\\tag{3.21}$$ For example, $4!=4\u00b73\u00b72\u00b71=24$, and $2!=2\u00b71=2$. Write a function `fact(n)` that returns $n!$. Return $1$ immediately if $x$ is $1$ or $0$, otherwise use a loop to compute $n!$. Name of program file: `fact.py`.\n",
      "\n",
      "*Remark.* You can import a ready-made factorial function by\n",
      "    >>> from math import factorial\n",
      "    >>> factorial(4)\n",
      "    24"
     ]
    },
    {
     "cell_type": "code",
     "collapsed": false,
     "input": [
      "from math import factorial\n",
      "\n",
      "def fact(n):\n",
      "    if (n == 1) or (n == 0):\n",
      "        return 1\n",
      "    else:\n",
      "        total = 1\n",
      "        for i in range(n):\n",
      "            total *= i+1\n",
      "        return total\n",
      "\n",
      "x = 14\n",
      "print fact(x)\n",
      "print factorial(x)"
     ],
     "language": "python",
     "metadata": {},
     "outputs": [
      {
       "output_type": "stream",
       "stream": "stdout",
       "text": [
        "87178291200\n",
        "87178291200\n"
       ]
      }
     ],
     "prompt_number": 19
    },
    {
     "cell_type": "heading",
     "level": 1,
     "metadata": {},
     "source": [
      "3.20 Compute velocity and acceleration from position data (one dimension)"
     ]
    },
    {
     "cell_type": "markdown",
     "metadata": {},
     "source": [
      "Let $x(t)$ be the position of an object moving along the $x$ axis. The velocity $v(t)$ and acceleration $a(t)$ can be approximately computed by the formulas\n",
      "\n",
      "$$v(t)\u2248\\frac{x(t+\u0394t)\u2212x(t\u2212\u0394t)}{2\u0394t},\\ a(t)\u2248\\frac{x(t+\u0394t)\u22122x(t)+x(t\u2212\u0394t)}{\u0394t^2},\\tag{3.22}$$\n",
      "\n",
      "where $\u0394t$ is a small time interval. As $\u0394t\u21920$, the above formulas approach the first and second derivative of $x(t)$, which coincide with the well-known definitions of velocity and acceleration.\n",
      "Write a function `kinematics(x, t, dt=1E-6)` for computing $x,v$,and $a$ time $t$, using the above formulas for $v$ and $a$ with $\u0394t$ corresponding to $dt$. Let the function return $x, v$, and $a$. Test the function with the position function $x(t)=e^{\u2212(t\u22124)^2}$ and the time point $t=5$ (use $\u0394t=10^\u22125$). Name of program: `kinematics1.py`."
     ]
    },
    {
     "cell_type": "code",
     "collapsed": false,
     "input": [
      "from math import e\n",
      "\n",
      "def kinematics(f, t, dt=1E-6):\n",
      "    x = f(t)\n",
      "    v = (f(t+dt) - f(t-dt))/dt/2\n",
      "    a = (f(t+dt) - 2*f(t) + f(t-dt))/dt/dt\n",
      "    return x, v, a\n",
      "\n",
      "f = lambda t: e**(-(t-4)**2)\n",
      "t = 5; dt = 1E-5\n",
      "print 'x = %g,  v = %g,  a = %g' % kinematics(f, t, dt)"
     ],
     "language": "python",
     "metadata": {},
     "outputs": [
      {
       "output_type": "stream",
       "stream": "stdout",
       "text": [
        "x = 0.367879,  v = -0.735759,  a = 0.735759\n"
       ]
      }
     ],
     "prompt_number": 20
    },
    {
     "cell_type": "heading",
     "level": 1,
     "metadata": {},
     "source": [
      "3.21 Compute velocity and acceleration from position data (two dimensions)"
     ]
    },
    {
     "cell_type": "markdown",
     "metadata": {},
     "source": [
      "An object moves along a path in the $xy$ plane such that at time $t$ the object is located at the point $(x(t),y(t))$. The velocity vector in the plane, at time $t$, can be approximated as\n",
      "\n",
      "$$v(t)\u2248\\left(\\frac{x(t+\u0394t)\u2212x(t\u2212\u0394t)}{2\u0394t},\\frac{y(t+\u0394t)\u2212y(t\u2212\u0394t)}{2\u0394t}\\right).\\tag{3.23}$$\n",
      "\n",
      "The acceleration vector in the plane, at time $t$, can be approximated as\n",
      "\n",
      "$$a(t)\u2248\\left(\\frac{x(t+\u0394t)\u22122x(t)+x(t\u2212\u0394t)}{\u0394t^2},\\frac{y(t+\u0394t)\u22122y(t)+y(t\u2212\u0394t)}{\u0394t^2}\\right).\\tag{3.24}$$\n",
      "\n",
      "Here, $\u0394t$ is a small time interval. As $\u0394t\u21920$, we have that $v(t)=(x'(t),y'(t))$ and $a(t)=(x''(t),y''\n",
      "(t))$.\n",
      "Make a function `kinematics(x, y, t, dt=1E-6)` for computing the velocity and acceleration of the object according to the formulas above (`t` corresponds to $t$, and `dt` corresponds to $\u0394t$). The function should return three 2-tuples holding the position, the velocity, and the acceleration, all at time `t`. Test the function for the motion along a circle with radius $R$ and absolute velocity $R\u03c9:x(t)=R\\cos\u03c9t$ and $y(t)=R\\sin\u03c9t$.\n",
      "Compute the velocity and acceleration for $t=1$ using $R=1,\\ \u03c9=2\u03c0$, and $\u0394t=10^{\u22125}$. Name of program: `kinematics2.py`."
     ]
    },
    {
     "cell_type": "code",
     "collapsed": false,
     "input": [
      "from math import sin, cos, pi\n",
      "\n",
      "def kinematics(x, y, t, dt=1E-6):\n",
      "    l = [x(t), y(t)]\n",
      "    v = [(x(t+dt) - x(t-dt))/dt/2, (y(t+dt) - y(t-dt))/dt/2,]\n",
      "    a = [(x(t+dt)-2*x(t)+x(t-dt))/dt/dt, (y(t+dt)-2*y(t)+y(t-dt))/dt/dt]\n",
      "    return l, v, a\n",
      "\n",
      "x = lambda t: R*cos(w*t)\n",
      "y = lambda t: R*sin(w*t)\n",
      "t = 1; R = 1; w = 2*pi; dt = 1E-5\n",
      "\n",
      "l, v, a = kinematics(x, y, t, dt)\n",
      "print 'time = %3.1f\\t   x\\t  y' % t\n",
      "print 'position\\t%6.2f\\t%5.2f' % (l[0], l[1])\n",
      "print 'velocity\\t%6.2f\\t%5.2f' % (v[0], v[1])\n",
      "print 'acceleration\\t%6.2f\\t%5.2f' % (a[0], a[1])"
     ],
     "language": "python",
     "metadata": {},
     "outputs": [
      {
       "output_type": "stream",
       "stream": "stdout",
       "text": [
        "time = 1.0\t   x\t  y\n",
        "position\t  1.00\t-0.00\n",
        "velocity\t  0.00\t 6.28\n",
        "acceleration\t-39.48\t 0.00\n"
       ]
      }
     ],
     "prompt_number": 21
    },
    {
     "cell_type": "heading",
     "level": 1,
     "metadata": {},
     "source": [
      "3.22 Find the max and min values of a function"
     ]
    },
    {
     "cell_type": "markdown",
     "metadata": {},
     "source": [
      "Write a function `maxmin(f, a, b, n=1000)` for finding the maximum and minimum values of a mathematical function `f(x)` in the interval between `a` and `b`. The following test program\n",
      "\n",
      "    from math import cos, pi\n",
      "    print maxmin(cos, -pi/2, 2*pi, 100001)\n",
      "\n",
      "should write out `(1.0, -1.0)`.\n",
      "The `maxmin` function can compute a set of `n` uniformly spaced coordinates between `a` and `b` stored in a list `x`, then compute `f` at the points in `x` and store the values in another list `y`. The Python functions `max(y)` and `min(y)` return the maximum and minimum values in the list `y`, respectively. Name of program file: `maxmin_f.py`."
     ]
    },
    {
     "cell_type": "code",
     "collapsed": false,
     "input": [
      "from math import cos, pi\n",
      "\n",
      "# using own min and max search\n",
      "def maxmin1(f, a, b, n=1000):\n",
      "    maxf = f(a); minf = maxf\n",
      "    step = (b-a)/float(n)\n",
      "    for i in range(n+1):\n",
      "        xi = a + i*step\n",
      "        fi = f(xi)\n",
      "        if fi > maxf:\n",
      "            maxf = fi\n",
      "        if fi < minf:\n",
      "            minf = fi\n",
      "    return maxf, minf\n",
      "\n",
      "# using library search\n",
      "def maxmin(f, a, b, n=1000):\n",
      "    x = []; y = []\n",
      "    step = (b-a)/float(n)\n",
      "    for i in range(n+1):\n",
      "        xi = a + i*step\n",
      "        x.append(xi)\n",
      "        y.append(f(xi))\n",
      "    return max(y), min(y)\n",
      "\n",
      "a = -pi/2; b = 2*pi; n = 100000\n",
      "print maxmin1(cos, a, b, n)\n",
      "print maxmin(cos, a, b, n)"
     ],
     "language": "python",
     "metadata": {},
     "outputs": [
      {
       "output_type": "stream",
       "stream": "stdout",
       "text": [
        "(1.0, -1.0)\n",
        "(1.0, -1.0)"
       ]
      },
      {
       "output_type": "stream",
       "stream": "stdout",
       "text": [
        "\n"
       ]
      }
     ],
     "prompt_number": 22
    },
    {
     "cell_type": "heading",
     "level": 1,
     "metadata": {},
     "source": [
      "3.23 Find the max and min elements in a list"
     ]
    },
    {
     "cell_type": "markdown",
     "metadata": {},
     "source": [
      "Given a list `a`, the `max` function in Python\u2019s standard library computes the largest element in `a`: `max(a)`. Similarly, `min(a)` returns the smallest element in `a`. The purpose of this exercise is to write your own\n",
      "`max` and `min` function. Use the following technique: Initialize a variable\n",
      "`max_elem` by the first element in the list, then visit all the remaining\n",
      "elements (`a[1:]`), compare each element to `max_elem`, and if greater,\n",
      "make `max_elem` refer to that element. Use a similar technique to compute the minimum element. Collect the two pieces of code in functions. Name of program file: `maxmin_list.py`."
     ]
    },
    {
     "cell_type": "code",
     "collapsed": false,
     "input": [
      "def max(a):\n",
      "    max_elem = a[0]\n",
      "    for elem in a[1:]:\n",
      "        if elem > max_elem:\n",
      "            max_elem = elem\n",
      "    return max_elem\n",
      "\n",
      "def min(a):\n",
      "    min_elem = a[0]\n",
      "    for elem in a[1:]:\n",
      "        if elem < min_elem:\n",
      "            min_elem = elem\n",
      "    return min_elem\n",
      "\n",
      "a = [1, 3, 2, -4, 6, -2, 3]\n",
      "print \"max =\", max(a), \"\\nmin =\", min(a)"
     ],
     "language": "python",
     "metadata": {},
     "outputs": [
      {
       "output_type": "stream",
       "stream": "stdout",
       "text": [
        "max = 6 \n",
        "min = -4\n"
       ]
      }
     ],
     "prompt_number": 23
    },
    {
     "cell_type": "heading",
     "level": 1,
     "metadata": {},
     "source": [
      "3.24 Implement the Heaviside function"
     ]
    },
    {
     "cell_type": "markdown",
     "metadata": {},
     "source": [
      "The following \"step\" function is known as the Heaviside function and is widely used in mathematics:\n",
      "\n",
      "$$H(x)=\\begin{cases}0, & x<0\\\\1, & x\\geq0\\end{cases}$$\n",
      "\n",
      "Implement $H(x)$ in a Python function `H(x)`. Test your implementation for $x=\u2212\\frac{1}{2},\\ 0,\\ 10$. Name of program file: `Heaviside.py`."
     ]
    },
    {
     "cell_type": "code",
     "collapsed": false,
     "input": [
      "def H(x):\n",
      "    if x < 0:\n",
      "        return 0\n",
      "    else:\n",
      "        return 1\n",
      "\n",
      "print H(-0.5)\n",
      "print H(0)\n",
      "print H(10)"
     ],
     "language": "python",
     "metadata": {},
     "outputs": [
      {
       "output_type": "stream",
       "stream": "stdout",
       "text": [
        "0\n",
        "1\n",
        "1\n"
       ]
      }
     ],
     "prompt_number": 24
    },
    {
     "cell_type": "heading",
     "level": 1,
     "metadata": {},
     "source": [
      "3.25 Implement a smoothed Heaviside function"
     ]
    },
    {
     "cell_type": "markdown",
     "metadata": {},
     "source": [
      "The Heaviside function, listed in Exercise 3.24 is discontinuous. It is in many numerical applications advantageous to work with a smooth version of the Heaviside function where the function itself and its first derivative are continuous. One such smoothed Heaviside function is\n",
      "\n",
      "$$H_\\epsilon(x)=\\begin{cases}0, & x<\u2212\\epsilon,\\\\\n",
      "\\frac{1}{2}+\\frac{x}{2\\epsilon}+\\frac{1}{2\u03c0}\\sin\\left(\\frac{\u03c0x}{\\epsilon}\\right), & \u2212\\epsilon\u2264x\u2264\\epsilon\\\\\n",
      "1, & x>\\epsilon\\end{cases}\\tag{3.26}$$\n",
      "\n",
      "Implement $H_\\epsilon(x)$ in a Python function `H_eps(x)`. Name of program file: `smoothed_Heaviside.py`."
     ]
    },
    {
     "cell_type": "code",
     "collapsed": false,
     "input": [
      "from math import sin, pi\n",
      "\n",
      "def H_eps(x, eps=1E-3):\n",
      "    if x < -eps:\n",
      "        return 0\n",
      "    elif x > eps:\n",
      "        return 1\n",
      "    else:\n",
      "        return 0.5 + x/2./eps + sin(pi*x/eps)/pi/2\n",
      "    \n",
      "print H_eps(-0.5)\n",
      "print H_eps(0)\n",
      "print H_eps(10)"
     ],
     "language": "python",
     "metadata": {},
     "outputs": [
      {
       "output_type": "stream",
       "stream": "stdout",
       "text": [
        "0\n",
        "0.5\n",
        "1\n"
       ]
      }
     ],
     "prompt_number": 25
    },
    {
     "cell_type": "heading",
     "level": 1,
     "metadata": {},
     "source": [
      "3.26 Implement an indicator function"
     ]
    },
    {
     "cell_type": "markdown",
     "metadata": {},
     "source": [
      "In many applications there is need for an indicator function, which is $1$ over some interval and $0$ elsewhere. More precisely, we define\n",
      "\n",
      "$$I(x;L, R)=\\begin{cases}1,\\ x\u2208[L, R],\\\\\n",
      "0,\\ elsewhere\\end{cases}$$\n",
      "\n",
      "Make two Python implementations of such an indicator function, one with a direct test if $x\u2208[L, R]$ and one which expresses the indicator function in terms of Heaviside functions (3.25):\n",
      "\n",
      "$$I(x;L, R)=H(x\u2212L)H(R\u2212x).\\tag{3.28}$$\n",
      "\n",
      "Name of program file: `indicator_func.py`."
     ]
    },
    {
     "cell_type": "code",
     "collapsed": false,
     "input": [
      "def H(x):\n",
      "    if x < 0:\n",
      "        return 0\n",
      "    else:\n",
      "        return 1\n",
      "    \n",
      "def indicate1(x, L, R):\n",
      "    if x >= L and x <= R:\n",
      "        return 1\n",
      "    else:\n",
      "        return 0\n",
      "    \n",
      "def indicate2(x, L, R):\n",
      "    return H(x-L)*H(R-x)\n",
      "\n",
      "print indicate1(-0.5, 0, 1), indicate1(0, 0, 1), indicate1(10, 0, 1)\n",
      "print indicate2(-0.5, 0, 1), indicate2(0, 0, 1), indicate2(10, 0, 1)"
     ],
     "language": "python",
     "metadata": {},
     "outputs": [
      {
       "output_type": "stream",
       "stream": "stdout",
       "text": [
        "0 1 0\n",
        "0 1 0\n"
       ]
      }
     ],
     "prompt_number": 1
    },
    {
     "cell_type": "heading",
     "level": 1,
     "metadata": {},
     "source": [
      "3.27 Implement a piecewise constant function"
     ]
    },
    {
     "cell_type": "markdown",
     "metadata": {},
     "source": [
      "Piecewise constant functions have a lot of important applications when modeling physical phenomena by mathematics. A piecewise constant function can be defined as\n",
      "\n",
      "$$f(x)=\\begin{cases}v_0,\\ x\u2208[x_0,x_1],\\\\v_1,\\ x\u2208[x_1,x_2],\\\\ \\dots\\\\v_n,\\ x\u2208[x_n,x_{n+1}]\\end{cases}\\tag{3.29}$$\n",
      "\n",
      "That is, we have a union of non-overlapping intervals covering the domain $[x_0,\\ x_{n+1}]$, and $f(x)$ is constant in each interval. One example is\n",
      "the function that is $\u22121$ on $[0,\\ 1]$, $0$ on $[1,\\ 1.5]$, and $4$ on $[1.5,\\ 2]$, where we with the notation in (3.29) have $x_0=0,\\ x_1=1,\\  x_2=1.5,\\ x_3=2$ and $v_0=\u22121,\\ v_1=0,\\ v_3=4$.  \n",
      "Make a function `piecewise(x, data)` for evaluating a piecewise constant function as in (3.29) at the point `x`. The `data` object is a list of pairs $(v_i,\\ x_i)$ for $i=0,\\dots,n$. For example, `data` is `[(0, -1), (1, 0), (1.5, 4)]` in the example listed above. Since $x_{n+1}$ is not a part of the\n",
      "`data` object, we have no means for detecting whether `x` is to the right of the last interval $[x_n,\\ x_{n+1}]$, i.e., we must assume that the user of\n",
      "the `piecewise` function sends in an $x\u2264x_{n+1}$. As always, make an additional function for testing that the `piecewise` function works well.\n",
      "Name of program file: `piecewise_constant1.py`."
     ]
    },
    {
     "cell_type": "code",
     "collapsed": false,
     "input": [
      "def piecewise(x, data):\n",
      "    for i in range(1, len(data)):\n",
      "        if x < data[i][0]:\n",
      "            return data[i-1][1]\n",
      "    return data[-1][1]\n",
      "            \n",
      "data = [[0, -1], [1, 0], [1.5, 4]]\n",
      "x = [0.5, 1.2, 1.8]\n",
      "for xi in x:\n",
      "    print \"x = %g\\tf(x) = %s\" % (xi, piecewise(xi, data))"
     ],
     "language": "python",
     "metadata": {},
     "outputs": [
      {
       "output_type": "stream",
       "stream": "stdout",
       "text": [
        "x = 0.5\tf(x) = -1\n",
        "x = 1.2\tf(x) = 0\n",
        "x = 1.8\tf(x) = 4\n"
       ]
      }
     ],
     "prompt_number": 61
    },
    {
     "cell_type": "heading",
     "level": 1,
     "metadata": {},
     "source": [
      "3.28 Apply indicator functions"
     ]
    },
    {
     "cell_type": "markdown",
     "metadata": {},
     "source": [
      "Implement piecewise constant functions, as defined in Exercise 3.27, by observing that\n",
      "\n",
      "$$f(x)=\\sum_{i=0}^nv_iI(x;x_i,x_{i+1}),$$\n",
      "\n",
      "where $I(x;x_i,x_{i+1})$ is the indicator function from Exercise 3.26. Name\n",
      "of program file: `piecewise_constant2.py`."
     ]
    },
    {
     "cell_type": "code",
     "collapsed": false,
     "input": [
      "def piecewise(x, data):\n",
      "    sum = 0\n",
      "    #print 'data', data\n",
      "    #data.append([1E5, 0])\n",
      "    for i in range(len(data)):\n",
      "        vi = data[i][1]\n",
      "        if i < len(data)-1:\n",
      "            I = indicate(x, data[i][0], data[i+1][0])\n",
      "        else:\n",
      "            I = indicate(x, data[i][0], 1E5)\n",
      "        sum += vi*I\n",
      "    return sum\n",
      "\n",
      "def indicate(x, L, R):\n",
      "    if x >= L and x <= R:\n",
      "        return 1\n",
      "    else:\n",
      "        return 0\n",
      "\n",
      "data = [[0, -1], [1, 0], [1.5, 4]]\n",
      "x = [0.5, 1.2, 1.8]\n",
      "for xi in x:\n",
      "    print \"x = %g\\tf(x) = %s\" % (xi, piecewise(xi, data))"
     ],
     "language": "python",
     "metadata": {},
     "outputs": [
      {
       "output_type": "stream",
       "stream": "stdout",
       "text": [
        "x = 0.5\tf(x) = -1\n",
        "x = 1.2\tf(x) = 0\n",
        "x = 1.8\tf(x) = 4\n"
       ]
      }
     ],
     "prompt_number": 80
    },
    {
     "cell_type": "heading",
     "level": 1,
     "metadata": {},
     "source": [
      "3.29 Rewrite a mathematical function"
     ]
    },
    {
     "cell_type": "markdown",
     "metadata": {},
     "source": [
      "We consider the $L(x;n)$ sum as defined in Chapter 3.1.4 and the corresponding function `L2(x, epsilon)` function from Chapter 3.1.6. The sum $L(x;n)$ can be written as\n",
      "\n",
      "$$L(x;n)=\\sum_{i=1}^nc_i,\\ \\ c_i=\\frac{1}{i}\\left(\\frac{x}{1+x}\\right)^i.$$\n",
      "\n",
      "Derive a relation between $c_i$ and $c_{i\u22121}$,\n",
      "\n",
      "$$c_i =ac_{i\u22121},$$\n",
      "\n",
      "where $a$ is an expression involving $i$ and $x$. This relation between $c_i$\n",
      "and $c_{i\u22121}$ means that we can start with term as $c_1$, and then in each\n",
      "pass of the loop implementing the sum $\\sum_ic_i$ we can compute the next\n",
      "term $c_i$ in the sum as\n",
      "\n",
      "    term = a*term\n",
      "\n",
      "Rewrite the `L2` function to make use of this alternative computation. Compare the new version with the original one to verify the implementation. Name of program file: `L2_recursive.py`."
     ]
    },
    {
     "cell_type": "code",
     "collapsed": false,
     "input": [
      "def L2(x, epsilon=1.0E-6):\n",
      "    x = float(x)\n",
      "    i = 1\n",
      "    term = (1.0/i)*(x/(1+x))**i\n",
      "    s = term\n",
      "    while abs(term) > epsilon: # abs(x) is |x|\n",
      "        i += 1\n",
      "        term = term*x*(i-1)/float(i)/(x+1.)\n",
      "        s += term\n",
      "    return s, i\n",
      "\n",
      "from math import log\n",
      "x = 10\n",
      "for k in range(4, 14, 2):\n",
      "    epsilon = 10**(-k)\n",
      "    approx, n = L2(x, epsilon=epsilon)\n",
      "    exact = log(1+x)\n",
      "    exact_error = exact - approx\n",
      "    print 'epsilon: %5.0e, exact error: %8.2e, n=%d' % (epsilon, exact_error, n)"
     ],
     "language": "python",
     "metadata": {},
     "outputs": [
      {
       "output_type": "stream",
       "stream": "stdout",
       "text": [
        "epsilon: 1e-04, exact error: 8.18e-04, n=55\n",
        "epsilon: 1e-06, exact error: 9.02e-06, n=97\n",
        "epsilon: 1e-08, exact error: 8.70e-08, n=142\n",
        "epsilon: 1e-10, exact error: 9.20e-10, n=187\n",
        "epsilon: 1e-12, exact error: 9.31e-12, n=233\n"
       ]
      }
     ],
     "prompt_number": 3
    },
    {
     "cell_type": "heading",
     "level": 1,
     "metadata": {},
     "source": [
      "3.30 Make a table for approximations of $\\cos x$"
     ]
    },
    {
     "cell_type": "markdown",
     "metadata": {},
     "source": [
      "The function $\\cos(x)$ can be approximated by the sum\n",
      "\n",
      "$$C(x;n)=\\sum_{j=0}^nc_j$$\n",
      "\n",
      "where\n",
      "\n",
      "$$c_j=\u2212c_{j\u22121}\\frac{x^2}{2j(2j-1)},\\ j=1,2,\\dots,n,$$\n",
      "\n",
      "and $c_0=1$. Make a Python function for computing $C(x;n)$. (Hint: Represent $c_j$ by a variable `term`, make updates `term = -term*...` inside a `for` loop, and accumulate the `term` variable in a variable for the sum.)\n",
      "Also make a function for writing out a table of the errors in the approximation $C(x;n)$ of $\\cos(x)$ for some $x$ and $n$ values given as arguments to the function. Let the $x$ values run downward in the rows and the $n$ values to the right in the columns. For example, a table for $x=4\u03c0,6\u03c0,8\u03c0,10\u03c0$ and $n=5,25,50,100,200$ can look like\n",
      "\n",
      "       x        5       25       50        100       200\n",
      "    12.5664 1.61e+04 1.87e-11  1.74e-12  1.74e-12  1.74e-12\n",
      "    18.8496 1.22e+06 2.28e-02  7.12e-11  7.12e-11  7.12e-11\n",
      "    25.1327 2.41e+07 6.58e+04 -4.87e-07 -4.87e-07 -4.87e-07\n",
      "    31.4159 2.36e+08 6.52e+09  1.65e-04  1.65e-04  1.65e-04\n",
      "\n",
      "Observe how the error increases with $x$ and decreases with $n$. Name of program file: `cossum.py`."
     ]
    },
    {
     "cell_type": "code",
     "collapsed": false,
     "input": [
      "from math import pi, cos\n",
      "\n",
      "def cos_approx(x, n):\n",
      "    term = 1 #c0\n",
      "    sum = term\n",
      "    for j in range(1, n+1): #c1...cn\n",
      "        term = -term*x**2/float(2*j*(2*j-1))\n",
      "        sum += term\n",
      "    return sum\n",
      "\n",
      "def cos_approx_errors(xs, ns):\n",
      "    print '   x',\n",
      "    for n in ns:\n",
      "        print '%9d' % n,\n",
      "    print\n",
      "    for x in xs:\n",
      "        print '%7.4f' % x,\n",
      "        for n in ns:\n",
      "            print '%9.2e' % (cos(x) - cos_approx(x, n)),\n",
      "        print\n",
      "        \n",
      "xs = [pi*i for i in range(4,11,2)]\n",
      "ns = [5, 25, 50, 100, 200]\n",
      "cos_approx_errors(xs, ns)"
     ],
     "language": "python",
     "metadata": {},
     "outputs": [
      {
       "output_type": "stream",
       "stream": "stdout",
       "text": [
        "   x         5        25        50       100       200\n",
        "12.5664  1.61e+04  1.87e-11  1.74e-12  1.74e-12  1.74e-12\n",
        "18.8496  1.22e+06  2.28e-02  7.12e-11  7.12e-11  7.12e-11\n",
        "25.1327  2.41e+07  6.58e+04 -4.87e-07 -4.87e-07 -4.87e-07\n",
        "31.4159  2.36e+08  6.52e+09  1.65e-04  1.65e-04  1.65e-04\n"
       ]
      }
     ],
     "prompt_number": 1
    },
    {
     "cell_type": "heading",
     "level": 1,
     "metadata": {},
     "source": [
      "3.31 Use None in keyword arguments"
     ]
    },
    {
     "cell_type": "markdown",
     "metadata": {},
     "source": [
      "Consider the functions `L(x, n)` and `L2(x, epsilon)` from Chapter 3.1.6, whose program code is found in the file `lnsum.py`. Let us make a more flexible function `L3` where we can either specify a tolerance `epsilon` or a number of terms `n` in the sum, and we can choose whether we want the sum to be returned or the sum and the number of terms. The latter set of return values is only meaningful with `epsilon` and not `n` is specified. The starting point for all this flexibility is to have some keyword arguments initialized to an \"undefined\" value that can be recognized:\n",
      "\n",
      "    def L3(x, n=None, epsilon=None, return_n=False):\n",
      "\n",
      "You can test if `n` is given using the phrase\n",
      "\n",
      "    if n is not None:\n",
      "\n",
      "A similar construction can be used for `epsilon`. Print error messages for incompatible settings when `n` and `epsilon` are `None` (none given) or `not None` (both given). Name of program file: `L3_flexible.py`."
     ]
    },
    {
     "cell_type": "code",
     "collapsed": false,
     "input": [
      "from math import log\n",
      "\n",
      "def L1(x, n):\n",
      "    s = 0\n",
      "    for i in range(1, n+1):\n",
      "        s += (1.0/i)*(x/(1.0 + x))**i\n",
      "    term = (1.0/(n+1))*(x/(1.0+x))**(n+1)\n",
      "    error = log(1+x) - s\n",
      "    return s, error\n",
      "\n",
      "def L2(x, epsilon=1.0E-6):\n",
      "    i = 1\n",
      "    term = (1.0/i)*(x/(1.0+x))**i\n",
      "    s = term\n",
      "    while abs(term) > epsilon: # abs(x) is |x|\n",
      "        i += 1\n",
      "        term = (1.0/i)*(x/(1.0+x))**i\n",
      "        s += term\n",
      "    error = log(1+x) - s\n",
      "    return s, error, i\n",
      "\n",
      "def L3(x, n=None, epsilon=None):\n",
      "    if (n is not None) and (epsilon is None):   return L1(x, n)\n",
      "    elif (n is None) and (epsilon is not None): return L2(x, epsilon)\n",
      "    else:                                        return 'Bad arguments'\n",
      "\n",
      "print L1(1, 16),'\\n'\n",
      "\n",
      "print L2(1, 0.01),'\\n'\n",
      "\n",
      "print L3(1, n=16)\n",
      "print L3(1, epsilon=0.01)\n",
      "print L3(1)\n",
      "print L3(1, 16, 0.01)"
     ],
     "language": "python",
     "metadata": {},
     "outputs": [
      {
       "output_type": "stream",
       "stream": "stdout",
       "text": [
        "(0.6931463282650033, 8.522949419553782e-07) \n",
        "\n",
        "(0.6885416666666666, 0.004605513893278679, 5) \n",
        "\n",
        "(0.6931463282650033, 8.522949419553782e-07)\n",
        "(0.6885416666666666, 0.004605513893278679, 5)\n",
        "Bad arguments\n",
        "Bad arguments\n"
       ]
      }
     ],
     "prompt_number": 29
    },
    {
     "cell_type": "heading",
     "level": 1,
     "metadata": {},
     "source": [
      "3.32 Write a sort function for a list of 4-tuples"
     ]
    },
    {
     "cell_type": "markdown",
     "metadata": {},
     "source": [
      "Below is a list of the nearest stars and some of their properties. The list elements are 4-tuples containing the name of the star, the distance from the sun in light years, the apparent brightness, and the luminosity. The apparent brightness is how bright the stars look in our sky compared to the brightness of Sirius A. The luminosity, or the true brightness, is how bright the stars would look if all were at the same distance compared to the Sun. The list data are found in the file `stars.list`, which looks as follows:\n",
      "\n",
      "    data = [\n",
      "    (\u2019Alpha Centauri A\u2019, 4.3, 0.26, 1.56),\n",
      "    (\u2019Alpha Centauri B\u2019, 4.3, 0.077, 0.45),\n",
      "    (\u2019Alpha Centauri C\u2019, 4.2, 0.00001, 0.00006),\n",
      "    (\"Barnard\u2019s Star\", 6.0, 0.00004, 0.0005),\n",
      "    (\u2019Wolf 359\u2019, 7.7, 0.000001, 0.00002),\n",
      "    (\u2019BD +36 degrees 2147\u2019, 8.2, 0.0003, 0.006),\n",
      "    (\u2019Luyten 726-8 A\u2019, 8.4, 0.000003, 0.00006),\n",
      "    (\u2019Luyten 726-8 B\u2019, 8.4, 0.000002, 0.00004),\n",
      "    (\u2019Sirius A\u2019, 8.6, 1.00, 23.6),\n",
      "    (\u2019Sirius B\u2019, 8.6, 0.001, 0.003),\n",
      "    (\u2019Ross 154\u2019, 9.4, 0.00002, 0.0005),\n",
      "    ]\n",
      "\n",
      "The purpose of this exercise is to sort this list with respect to distance, apparent brightness, and luminosity.\n",
      "To sort a list `data`, one can call `sorted(data)`, which returns the sorted list (cf. Table 2.1). However, in the present case each element is a 4-tuple, and the default sorting of such 4-tuples result in a list with the stars appearing in alphabetic order. We need to sort with respect to the 2nd, 3rd, or 4th element of each 4-tuple. If a tailored sort mechanism is necessary, we can provide our own sort function as a second argument to `sorted`, as in `sorted(data, mysort)`. Such a tailored sort function `mysort` must take two arguments, say `a` and `b`, and returns $\u22121$ if `a` should become before `b` in the sorted sequence, $1$ if `b` should become before `a`, and $0$ if they are equal. In the present case, `a` and `b` are 4-tuples, so we need to make the comparison between the right elements in `a` and `b`. For example, to sort with respect to luminosity we write\n",
      "\n",
      "    def mysort(a, b):\n",
      "        if a[3] < b[3]:\n",
      "            return -1\n",
      "        elif a[3] > b[3]:\n",
      "            return 1\n",
      "        else:\n",
      "            return 0\n",
      "\n",
      "Write the complete program which initializes the data and writes out three sorted tables: star name versus distance, star name versus apparent brightness, and star name versus luminosity. Name of program file: `sorted_stars_data.py`."
     ]
    },
    {
     "cell_type": "code",
     "collapsed": false,
     "input": [
      "def mysort(a, b):\n",
      "    if a[i] < b[i]:   return 1\n",
      "    elif a[i] > b[i]: return -1\n",
      "    else:             return 0\n",
      "\n",
      "stars = [\n",
      "('Alpha Centauri A', 4.3, 0.26, 1.56),\n",
      "('Alpha Centauri B', 4.3, 0.077, 0.45),\n",
      "('Alpha Centauri C', 4.2, 0.00001, 0.00006),\n",
      "(\"Barnard's Star\", 6.0, 0.00004, 0.0005),\n",
      "('Wolf 359', 7.7, 0.000001, 0.00002),\n",
      "('BD +36 degrees 2147', 8.2, 0.0003, 0.006),\n",
      "('Luyten 726-8 A', 8.4, 0.000003, 0.00006),\n",
      "('Luyten 726-8 B', 8.4, 0.000002, 0.00004),\n",
      "('Sirius A', 8.6, 1.00, 23.6),\n",
      "('Sirius B', 8.6, 0.001, 0.003),\n",
      "('Ross 154', 9.4, 0.00002, 0.0005),\n",
      "]\n",
      "\n",
      "title = 'Distance', 'Brightness', 'Luminosity'\n",
      "for i in range(1, 4):\n",
      "    print '\\tby', title[i-1]\n",
      "    for star in sorted(stars, mysort):\n",
      "        print '%-20s %g' % (star[0], star[i])\n",
      "    print"
     ],
     "language": "python",
     "metadata": {},
     "outputs": [
      {
       "output_type": "stream",
       "stream": "stdout",
       "text": [
        "\tby Distance\n",
        "Ross 154             9.4\n",
        "Sirius A             8.6\n",
        "Sirius B             8.6\n",
        "Luyten 726-8 A       8.4\n",
        "Luyten 726-8 B       8.4\n",
        "BD +36 degrees 2147  8.2\n",
        "Wolf 359             7.7\n",
        "Barnard's Star       6\n",
        "Alpha Centauri A     4.3\n",
        "Alpha Centauri B     4.3\n",
        "Alpha Centauri C     4.2\n",
        "\n",
        "\tby Brightness\n",
        "Sirius A             1\n",
        "Alpha Centauri A     0.26\n",
        "Alpha Centauri B     0.077\n",
        "Sirius B             0.001\n",
        "BD +36 degrees 2147  0.0003\n",
        "Barnard's Star       4e-05\n",
        "Ross 154             2e-05\n",
        "Alpha Centauri C     1e-05\n",
        "Luyten 726-8 A       3e-06\n",
        "Luyten 726-8 B       2e-06\n",
        "Wolf 359             1e-06\n",
        "\n",
        "\tby Luminosity\n",
        "Sirius A             23.6\n",
        "Alpha Centauri A     1.56\n",
        "Alpha Centauri B     0.45\n",
        "BD +36 degrees 2147  0.006\n",
        "Sirius B             0.003\n",
        "Barnard's Star       0.0005\n",
        "Ross 154             0.0005\n",
        "Alpha Centauri C     6e-05\n",
        "Luyten 726-8 A       6e-05\n",
        "Luyten 726-8 B       4e-05\n",
        "Wolf 359             2e-05\n",
        "\n"
       ]
      }
     ],
     "prompt_number": 65
    },
    {
     "cell_type": "heading",
     "level": 1,
     "metadata": {},
     "source": [
      "3.33 Find prime numbers"
     ]
    },
    {
     "cell_type": "markdown",
     "metadata": {},
     "source": [
      "The *Sieve of Eratosthenes* is an algorithm for finding all prime numbers less than or equal to a number $N$. Read about this algorithm on Wikipedia and implement it in a Python program. Name of program file: `find_primes.py`."
     ]
    },
    {
     "cell_type": "code",
     "collapsed": false,
     "input": [
      "from math import sqrt\n",
      "import time\n",
      "\n",
      "def primes(N):\n",
      "    numbers = [0]*(N+1)\n",
      "    for i in range(2, int(sqrt(N))+1):\n",
      "        for k in range(i, N/i+1): numbers[i*k] = 1\n",
      "    for i in range(2, N+1):\n",
      "        if numbers[i] == 0: print i,\n",
      "\n",
      "t0 = time.clock()\n",
      "primes(1000)\n",
      "t1 = time.clock()\n",
      "print '\\ntime', t1 - t0"
     ],
     "language": "python",
     "metadata": {},
     "outputs": [
      {
       "output_type": "stream",
       "stream": "stdout",
       "text": [
        "2 3 5 7 11 13 17 19 23 29 31 37 41 43 47 53 59 61 67 71 73 79 83 89 97 101 103 107 109 113 127 131 137 139 149 151 157 163 167 173 179 181 191 193 197 199 211 223 227 229 233 239 241 251 257 263 269 271 277 281 283 293 307 311 313 317 331 337 347 349 353 359 367 373 379 383 389 397 401 409 419 421 431 433 439 443 449 457 461 463 467 479 487 491 499 503 509 521 523 541 547 557 563 569 571 577 587 593 599 601 607 613 617 619 631 641 643 647 653 659 661 673 677 683 691 701 709 719 727 733 739 743 751 757 761 769 773 787 797 809 811 821 823 827 829 839 853 857 859 863 877 881 883 887 907 911 919 929 937 941 947 953 967 971 977 983 991 997 \n",
        "time 0.00380367241496\n"
       ]
      }
     ],
     "prompt_number": 163
    },
    {
     "cell_type": "code",
     "collapsed": false,
     "input": [
      "# Wikipedia algorithm\n",
      "\n",
      "import time\n",
      "\n",
      "def wiki_primes(N):\n",
      "    numbers = []\n",
      "    for i in range(2, N+1):\n",
      "        if i not in numbers:\n",
      "            print i,\n",
      "            numbers.extend(range(i*i, N+1, i))\n",
      "            \n",
      "t0 = time.clock()\n",
      "wiki_primes(1000)\n",
      "t1 = time.clock()\n",
      "print '\\ntime', t1 - t0"
     ],
     "language": "python",
     "metadata": {},
     "outputs": [
      {
       "output_type": "stream",
       "stream": "stdout",
       "text": [
        "2 3 5 7 11 13 17 19 23 29 31 37 41 43 47 53 59 61 67 71 73 79 83 89 97 101 103 107 109 113 127 131 137 139 149 151 157 163 167 173 179 181 191 193 197 199 211 223 227 229 233 239 241 251 257 263 269 271 277 281 283 293 307 311 313 317 331 337 347 349 353 359 367 373 379 383 389 397 401 409 419 421 431 433 439 443 449 457 461 463 467 479 487 491 499 503 509 521 523 541 547 557 563 569 571 577 587 593 599 601 607 613 617 619 631 641 643 647 653 659 661 673 677 683 691 701 709 719 727 733 739 743 751 757 761 769 773 787 797 809 811 821 823 827 829 839 853 857 859 863 877 881 883 887 907 911 919 929 937 941 947 953 967 971 977 983 991 997 \n",
        "time 0.0150468166971\n"
       ]
      }
     ],
     "prompt_number": 164
    },
    {
     "cell_type": "heading",
     "level": 1,
     "metadata": {},
     "source": [
      "3.34 Find pairs of characters"
     ]
    },
    {
     "cell_type": "markdown",
     "metadata": {},
     "source": [
      "Write a function `count_pairs(dna, pair)` that returns the number of occurrences of a pair of characters `(pair)` in a DNA string `(dna)`. For example, calling the function with `dna` as `'ACTGCTATCCATT'` and `pair` as `'AT'` will return 2. Name of program file: `count_pairs.py`."
     ]
    },
    {
     "cell_type": "code",
     "collapsed": false,
     "input": [
      "def count_pairs(string, pair):\n",
      "    counter = 0\n",
      "    for i in range(len(string)-1):\n",
      "        if string[i:(i+2)] == pair:\n",
      "            counter += 1\n",
      "    return counter\n",
      "\n",
      "count_pairs('ACTGCTATCCATT', 'AT')"
     ],
     "language": "python",
     "metadata": {},
     "outputs": [
      {
       "metadata": {},
       "output_type": "pyout",
       "prompt_number": 18,
       "text": [
        "2"
       ]
      }
     ],
     "prompt_number": 18
    },
    {
     "cell_type": "heading",
     "level": 1,
     "metadata": {},
     "source": [
      "3.35 Count substrings"
     ]
    },
    {
     "cell_type": "markdown",
     "metadata": {},
     "source": [
      "This is an extension of Exercise 3.34: count how many times a certain string appears in another string. For example, the function returns 2 when called with the DNA string `'ACGTTACGGAACG'` and the substring\n",
      "`'ACG'`. Hint: For each match of the first character of the substring in the main string, check if the next `n` characters in the main string matches the substring, where `n` is the length of the substring. Use slices like `s` to pick out a substring of `s`. Name of program file: `count_substr.py`."
     ]
    },
    {
     "cell_type": "code",
     "collapsed": false,
     "input": [
      "def count_strings(string, substring):\n",
      "    counter = 0\n",
      "    for i in range(len(string)-len(substring)+1):\n",
      "        if string[i:(i+len(substring))] == substring:\n",
      "            counter += 1\n",
      "    return counter\n",
      "\n",
      "count_strings('ACGTTACGGAACG', 'ACG')"
     ],
     "language": "python",
     "metadata": {},
     "outputs": [
      {
       "metadata": {},
       "output_type": "pyout",
       "prompt_number": 32,
       "text": [
        "3"
       ]
      }
     ],
     "prompt_number": 32
    },
    {
     "cell_type": "heading",
     "level": 1,
     "metadata": {},
     "source": [
      "3.36 Explain why a program works"
     ]
    },
    {
     "cell_type": "markdown",
     "metadata": {},
     "source": [
      "The following program is quite similar to the program in Exercise 1.15:\n",
      "\n",
      "    def add(A, B):\n",
      "        C = A + B\n",
      "        return C\n",
      "        \n",
      "    A = 3\n",
      "    B = 2\n",
      "    print add(A, B)\n",
      "    \n",
      "Explain how and thereby why the above program works."
     ]
    },
    {
     "cell_type": "code",
     "collapsed": false,
     "input": [
      "def add(A, B):\n",
      "    C = A + B\n",
      "    return C\n",
      "\n",
      "A = 3\n",
      "B = 2\n",
      "print add(A, B)"
     ],
     "language": "python",
     "metadata": {},
     "outputs": [
      {
       "output_type": "stream",
       "stream": "stdout",
       "text": [
        "5\n"
       ]
      }
     ],
     "prompt_number": 33
    },
    {
     "cell_type": "raw",
     "metadata": {},
     "source": [
      "Sum is now inside the function. Function executed when A and B already defined. So, its OK."
     ]
    },
    {
     "cell_type": "heading",
     "level": 1,
     "metadata": {},
     "source": [
      "3.37 Resolve a problem with a function"
     ]
    },
    {
     "cell_type": "markdown",
     "metadata": {},
     "source": [
      "Consider the following interactive session:\n",
      "\n",
      "    >>> def f(x):\n",
      "    ...     if 0 <= x <= 2:\n",
      "    ...         return x**2\n",
      "    ...     elif 2 < x <= 4:\n",
      "    ...         return 4\n",
      "    ...     elif x < 0:\n",
      "    ...         return 0\n",
      "    ...\n",
      "    >>> f(2)\n",
      "    4\n",
      "    >>> f(5)\n",
      "    >>> f(10)\n",
      "\n",
      "Why do we not get any output when calling `f(5)` and `f(10)`? (Hint: Save the `f` value in a variable `r` and write `print r`.)"
     ]
    },
    {
     "cell_type": "raw",
     "metadata": {},
     "source": [
      "Because f(x) returns nothing if x>4."
     ]
    },
    {
     "cell_type": "heading",
     "level": 1,
     "metadata": {},
     "source": [
      "3.38 Determine the types of some objects"
     ]
    },
    {
     "cell_type": "markdown",
     "metadata": {},
     "source": [
      "Consider the following calls to the `makelist` function from page 92:\n",
      "\n",
      "    l1 = makelist(0, 100, 1)\n",
      "    l2 = makelist(0, 100, 1.0)\n",
      "    l3 = makelist(-1, 1, 0.1)\n",
      "    l4 = makelist(10, 20, 20)\n",
      "    l5 = makelist([1,2], [3,4], [5])\n",
      "    l6 = makelist((1,-1,1), ('myfile.dat', 'yourfile.dat'))\n",
      "    l7 = makelist('myfile.dat', 'yourfile.dat', 'herfile.dat')\n",
      "\n",
      "Determine in each case what type of objects that become elements in the returned list and what the contents of `value` is after one pass in the loop.\n",
      "Hint: Simulate the program by hand and check out in an interactive session what type of objects that result from the arithmetics. It is only necessary to simulate one pass of the loop to answer the questions. Some of the calls will lead to infinite loops if you really execute the `makelist` calls on a computer.\n",
      "This exercise demonstrates that we can write a function and have in mind certain types of arguments, here typically `int` and `float` objects. However, the function can be used with other (originally unintended) arguments, such as lists and strings in the present case, leading to strange and irrelevant behavior (the problem here lies in the boolean expression `value <= stop` which is meaningless for some of the arguments)."
     ]
    },
    {
     "cell_type": "code",
     "collapsed": false,
     "input": [
      "def makelist(start, stop, inc):\n",
      "    value = start\n",
      "    result = []\n",
      "    while value <= stop:\n",
      "        result.append(value)\n",
      "        value = value + inc\n",
      "        print type(value), value\n",
      "    return result\n",
      "\n",
      "mylist = makelist(10, 20, 20)\n",
      "print mylist"
     ],
     "language": "python",
     "metadata": {},
     "outputs": [
      {
       "output_type": "stream",
       "stream": "stdout",
       "text": [
        "<type 'int'> 30\n",
        "[10]\n"
       ]
      }
     ],
     "prompt_number": 1
    },
    {
     "cell_type": "raw",
     "metadata": {},
     "source": [
      "1. integer, 1\n",
      "2. float, 1.0\n",
      "3. float, -0.9\n",
      "4. integer, 30\n",
      "5. list, [1, 2, 5]\n",
      "6. string, myfile.datherfile.dat"
     ]
    },
    {
     "cell_type": "heading",
     "level": 1,
     "metadata": {},
     "source": [
      "3.39 Explain the difference between `if` and `elif`"
     ]
    },
    {
     "cell_type": "markdown",
     "metadata": {},
     "source": [
      "Consider the following code:\n",
      "\n",
      "    def where1(x, y):\n",
      "        if x > 0:\n",
      "            print 'quadrant I or IV'\n",
      "        if y > 0:\n",
      "            print 'quadrant I or II'\n",
      "    \n",
      "    def where2(x, y):\n",
      "        if x > 0:\n",
      "            print 'quadrant I or IV'\n",
      "        elif y > 0:\n",
      "            print 'quadrant II'\n",
      "    \n",
      "    for x, y in (-1, 1), (1, 1):\n",
      "        where1(x,y)\n",
      "        where2(x,y)\n",
      "\n",
      "What is printed?"
     ]
    },
    {
     "cell_type": "markdown",
     "metadata": {},
     "source": [
      "    quadrant I or II\n",
      "    quadrant II\n",
      "    quadrant I or IV\n",
      "    quadrant I or II\n",
      "    quadrant I or IV\n",
      "\n",
      "In `where1` both `print`s may be executed  \n",
      "In `where2` only one `print` may be executed"
     ]
    },
    {
     "cell_type": "code",
     "collapsed": false,
     "input": [
      "    def where1(x, y):\n",
      "        if x > 0:\n",
      "            print 'quadrant I or IV'\n",
      "        if y > 0:\n",
      "            print 'quadrant I or II'\n",
      "    \n",
      "    def where2(x, y):\n",
      "        if x > 0:\n",
      "            print 'quadrant I or IV'\n",
      "        elif y > 0:\n",
      "            print 'quadrant II'\n",
      "    \n",
      "    for x, y in (-1, 1), (1, 1):\n",
      "        where1(x,y)\n",
      "        where2(x,y)"
     ],
     "language": "python",
     "metadata": {},
     "outputs": [
      {
       "output_type": "stream",
       "stream": "stdout",
       "text": [
        "quadrant I or II\n",
        "quadrant II\n",
        "quadrant I or IV\n",
        "quadrant I or II\n",
        "quadrant I or IV\n"
       ]
      }
     ],
     "prompt_number": 2
    },
    {
     "cell_type": "heading",
     "level": 1,
     "metadata": {},
     "source": [
      "3.40 Find an error in a program"
     ]
    },
    {
     "cell_type": "markdown",
     "metadata": {},
     "source": [
      "Consider the following program for computing\n",
      "\n",
      "$$f(x)=e^{rx}\\sin(mx)+e^{sx}\\sin(nx),$$\n",
      "\n",
      "    def f(x, m, n, r, s):\n",
      "        return expsin(x, r, m) + expsin(x, s, n)\n",
      "    \n",
      "    x = 2.5\n",
      "    print f(x, 0.1, 0.2, 1, 1)\n",
      "    \n",
      "    from math import exp, sin\n",
      "    \n",
      "    def expsin(x, p, q):\n",
      "        return exp(p*x)*sin(q*x)\n",
      "\n",
      "Running this code results in\n",
      "\n",
      "    NameError: global name \u2019expsin\u2019 is not defined\n",
      "\n",
      "What is the problem? Simulate the program flow by hand or use the debugger to step from line to line. Correct the program."
     ]
    },
    {
     "cell_type": "code",
     "collapsed": false,
     "input": [
      "def f(x, m, n, r, s):\n",
      "    return expsin(x, r, m) + expsin(x, s, n)\n",
      "\n",
      "x = 2.5\n",
      "print f(x, 0.1, 0.2, 1, 1)\n",
      "\n",
      "from math import exp, sin\n",
      "\n",
      "def expsin(x, p, q):\n",
      "    return exp(p*x)*sin(q*x)"
     ],
     "language": "python",
     "metadata": {},
     "outputs": [
      {
       "ename": "NameError",
       "evalue": "global name 'expsin' is not defined",
       "output_type": "pyerr",
       "traceback": [
        "\u001b[1;31m---------------------------------------------------------------------------\u001b[0m\n\u001b[1;31mNameError\u001b[0m                                 Traceback (most recent call last)",
        "\u001b[1;32m<ipython-input-3-17ae7e540a54>\u001b[0m in \u001b[0;36m<module>\u001b[1;34m()\u001b[0m\n\u001b[0;32m      3\u001b[0m \u001b[1;33m\u001b[0m\u001b[0m\n\u001b[0;32m      4\u001b[0m \u001b[0mx\u001b[0m \u001b[1;33m=\u001b[0m \u001b[1;36m2.5\u001b[0m\u001b[1;33m\u001b[0m\u001b[0m\n\u001b[1;32m----> 5\u001b[1;33m \u001b[1;32mprint\u001b[0m \u001b[0mf\u001b[0m\u001b[1;33m(\u001b[0m\u001b[0mx\u001b[0m\u001b[1;33m,\u001b[0m \u001b[1;36m0.1\u001b[0m\u001b[1;33m,\u001b[0m \u001b[1;36m0.2\u001b[0m\u001b[1;33m,\u001b[0m \u001b[1;36m1\u001b[0m\u001b[1;33m,\u001b[0m \u001b[1;36m1\u001b[0m\u001b[1;33m)\u001b[0m\u001b[1;33m\u001b[0m\u001b[0m\n\u001b[0m\u001b[0;32m      6\u001b[0m \u001b[1;33m\u001b[0m\u001b[0m\n\u001b[0;32m      7\u001b[0m \u001b[1;32mfrom\u001b[0m \u001b[0mmath\u001b[0m \u001b[1;32mimport\u001b[0m \u001b[0mexp\u001b[0m\u001b[1;33m,\u001b[0m \u001b[0msin\u001b[0m\u001b[1;33m\u001b[0m\u001b[0m\n",
        "\u001b[1;32m<ipython-input-3-17ae7e540a54>\u001b[0m in \u001b[0;36mf\u001b[1;34m(x, m, n, r, s)\u001b[0m\n\u001b[0;32m      1\u001b[0m \u001b[1;32mdef\u001b[0m \u001b[0mf\u001b[0m\u001b[1;33m(\u001b[0m\u001b[0mx\u001b[0m\u001b[1;33m,\u001b[0m \u001b[0mm\u001b[0m\u001b[1;33m,\u001b[0m \u001b[0mn\u001b[0m\u001b[1;33m,\u001b[0m \u001b[0mr\u001b[0m\u001b[1;33m,\u001b[0m \u001b[0ms\u001b[0m\u001b[1;33m)\u001b[0m\u001b[1;33m:\u001b[0m\u001b[1;33m\u001b[0m\u001b[0m\n\u001b[1;32m----> 2\u001b[1;33m     \u001b[1;32mreturn\u001b[0m \u001b[0mexpsin\u001b[0m\u001b[1;33m(\u001b[0m\u001b[0mx\u001b[0m\u001b[1;33m,\u001b[0m \u001b[0mr\u001b[0m\u001b[1;33m,\u001b[0m \u001b[0mm\u001b[0m\u001b[1;33m)\u001b[0m \u001b[1;33m+\u001b[0m \u001b[0mexpsin\u001b[0m\u001b[1;33m(\u001b[0m\u001b[0mx\u001b[0m\u001b[1;33m,\u001b[0m \u001b[0ms\u001b[0m\u001b[1;33m,\u001b[0m \u001b[0mn\u001b[0m\u001b[1;33m)\u001b[0m\u001b[1;33m\u001b[0m\u001b[0m\n\u001b[0m\u001b[0;32m      3\u001b[0m \u001b[1;33m\u001b[0m\u001b[0m\n\u001b[0;32m      4\u001b[0m \u001b[0mx\u001b[0m \u001b[1;33m=\u001b[0m \u001b[1;36m2.5\u001b[0m\u001b[1;33m\u001b[0m\u001b[0m\n\u001b[0;32m      5\u001b[0m \u001b[1;32mprint\u001b[0m \u001b[0mf\u001b[0m\u001b[1;33m(\u001b[0m\u001b[0mx\u001b[0m\u001b[1;33m,\u001b[0m \u001b[1;36m0.1\u001b[0m\u001b[1;33m,\u001b[0m \u001b[1;36m0.2\u001b[0m\u001b[1;33m,\u001b[0m \u001b[1;36m1\u001b[0m\u001b[1;33m,\u001b[0m \u001b[1;36m1\u001b[0m\u001b[1;33m)\u001b[0m\u001b[1;33m\u001b[0m\u001b[0m\n",
        "\u001b[1;31mNameError\u001b[0m: global name 'expsin' is not defined"
       ]
      }
     ],
     "prompt_number": 3
    },
    {
     "cell_type": "markdown",
     "metadata": {},
     "source": [
      "Function must be defined before using it. Lets move math import and expsin definition to the beginning of program."
     ]
    },
    {
     "cell_type": "code",
     "collapsed": false,
     "input": [
      "from math import exp, sin\n",
      "\n",
      "def f(x, m, n, r, s):\n",
      "    return expsin(x, r, m) + expsin(x, s, n)\n",
      "\n",
      "def expsin(x, p, q):\n",
      "    return exp(p*x)*sin(q*x)\n",
      "\n",
      "x = 2.5\n",
      "print f(x, 0.1, 0.2, 1, 1)"
     ],
     "language": "python",
     "metadata": {},
     "outputs": [
      {
       "output_type": "stream",
       "stream": "stdout",
       "text": [
        "8.85459596813\n"
       ]
      }
     ],
     "prompt_number": 5
    },
    {
     "cell_type": "heading",
     "level": 1,
     "metadata": {},
     "source": [
      "3.41 Find programming errors"
     ]
    },
    {
     "cell_type": "markdown",
     "metadata": {},
     "source": [
      "What is wrong in the following code segments? Try first to find the errors in each case by visual inspection of the code. Thereafter, type in the code snippet and test it out in an interactive Python shell.\n",
      "\n",
      "Case 1:\n",
      "\n",
      "    def f(x)\n",
      "        return 1+x**2;\n",
      "\n",
      "Case 2:\n",
      "\n",
      "    def f(x):\n",
      "        term1 = 1\n",
      "      term2 = x**2\n",
      "      return term1 + term2\n",
      "\n",
      "Case 3:\n",
      "\n",
      "    def f(x, a, b):\n",
      "        return a + b*x\n",
      "    \n",
      "    print f(1), f(2), f(3)\n",
      "\n",
      "Case 4:\n",
      "\n",
      "    def f(x, w):\n",
      "        from math import sin\n",
      "        return sin(w*x)\n",
      "\n",
      "    f = 'f(x, w)'\n",
      "    w = 10\n",
      "    x = 0.1\n",
      "    print f(x, w)\n",
      "\n",
      "Case 5:\n",
      "\n",
      "    from math import *\n",
      "\n",
      "    def log(message):\n",
      "        print message\n",
      "    \n",
      "    print 'The logarithm of 1 is', log(1)\n",
      "\n",
      "Case 6:\n",
      "\n",
      "    import time\n",
      "\n",
      "    def print_CPU_time():\n",
      "        print 'CPU time so far in the program:', time.clock()\n",
      "    \n",
      "    print_CPU_time"
     ]
    },
    {
     "cell_type": "markdown",
     "metadata": {},
     "source": [
      "Case 1: Dropped ':' in def line. ';' not needed, but its not critical."
     ]
    },
    {
     "cell_type": "code",
     "collapsed": false,
     "input": [
      "def f(x)\n",
      "    return 1+x**2;"
     ],
     "language": "python",
     "metadata": {},
     "outputs": [
      {
       "ename": "SyntaxError",
       "evalue": "invalid syntax (<ipython-input-6-eed29deb3991>, line 1)",
       "output_type": "pyerr",
       "traceback": [
        "\u001b[1;36m  File \u001b[1;32m\"<ipython-input-6-eed29deb3991>\"\u001b[1;36m, line \u001b[1;32m1\u001b[0m\n\u001b[1;33m    def f(x)\u001b[0m\n\u001b[1;37m            ^\u001b[0m\n\u001b[1;31mSyntaxError\u001b[0m\u001b[1;31m:\u001b[0m invalid syntax\n"
       ]
      }
     ],
     "prompt_number": 6
    },
    {
     "cell_type": "code",
     "collapsed": false,
     "input": [
      "def f(x):\n",
      "    return 1+x**2;"
     ],
     "language": "python",
     "metadata": {},
     "outputs": [],
     "prompt_number": 9
    },
    {
     "cell_type": "markdown",
     "metadata": {},
     "source": [
      "Case 2: term2 line and return line are not properly indented"
     ]
    },
    {
     "cell_type": "code",
     "collapsed": false,
     "input": [
      "def f(x):\n",
      "    term1 = 1\n",
      "  term2 = x**2\n",
      "  return term1 + term2"
     ],
     "language": "python",
     "metadata": {},
     "outputs": [
      {
       "ename": "IndentationError",
       "evalue": "unindent does not match any outer indentation level (<ipython-input-10-79a0d871d809>, line 3)",
       "output_type": "pyerr",
       "traceback": [
        "\u001b[1;36m  File \u001b[1;32m\"<ipython-input-10-79a0d871d809>\"\u001b[1;36m, line \u001b[1;32m3\u001b[0m\n\u001b[1;33m    term2 = x**2\u001b[0m\n\u001b[1;37m                ^\u001b[0m\n\u001b[1;31mIndentationError\u001b[0m\u001b[1;31m:\u001b[0m unindent does not match any outer indentation level\n"
       ]
      }
     ],
     "prompt_number": 10
    },
    {
     "cell_type": "code",
     "collapsed": false,
     "input": [
      "def f(x):\n",
      "    term1 = 1\n",
      "    term2 = x**2\n",
      "    return term1 + term2"
     ],
     "language": "python",
     "metadata": {},
     "outputs": [],
     "prompt_number": 11
    },
    {
     "cell_type": "markdown",
     "metadata": {},
     "source": [
      "Case 3: Three function calls with 1 argument instead of one call with 3 arguments."
     ]
    },
    {
     "cell_type": "code",
     "collapsed": false,
     "input": [
      "def f(x, a, b):\n",
      "    return a + b*x\n",
      "\n",
      "print f(1), f(2), f(3)"
     ],
     "language": "python",
     "metadata": {},
     "outputs": [
      {
       "ename": "TypeError",
       "evalue": "f() takes exactly 3 arguments (1 given)",
       "output_type": "pyerr",
       "traceback": [
        "\u001b[1;31m---------------------------------------------------------------------------\u001b[0m\n\u001b[1;31mTypeError\u001b[0m                                 Traceback (most recent call last)",
        "\u001b[1;32m<ipython-input-12-76c4f0b2e459>\u001b[0m in \u001b[0;36m<module>\u001b[1;34m()\u001b[0m\n\u001b[0;32m      2\u001b[0m     \u001b[1;32mreturn\u001b[0m \u001b[0ma\u001b[0m \u001b[1;33m+\u001b[0m \u001b[0mb\u001b[0m\u001b[1;33m*\u001b[0m\u001b[0mx\u001b[0m\u001b[1;33m\u001b[0m\u001b[0m\n\u001b[0;32m      3\u001b[0m \u001b[1;33m\u001b[0m\u001b[0m\n\u001b[1;32m----> 4\u001b[1;33m \u001b[1;32mprint\u001b[0m \u001b[0mf\u001b[0m\u001b[1;33m(\u001b[0m\u001b[1;36m1\u001b[0m\u001b[1;33m)\u001b[0m\u001b[1;33m,\u001b[0m \u001b[0mf\u001b[0m\u001b[1;33m(\u001b[0m\u001b[1;36m2\u001b[0m\u001b[1;33m)\u001b[0m\u001b[1;33m,\u001b[0m \u001b[0mf\u001b[0m\u001b[1;33m(\u001b[0m\u001b[1;36m3\u001b[0m\u001b[1;33m)\u001b[0m\u001b[1;33m\u001b[0m\u001b[0m\n\u001b[0m",
        "\u001b[1;31mTypeError\u001b[0m: f() takes exactly 3 arguments (1 given)"
       ]
      }
     ],
     "prompt_number": 12
    },
    {
     "cell_type": "code",
     "collapsed": false,
     "input": [
      "def f(x, a, b):\n",
      "    return a + b*x\n",
      "\n",
      "print f(1, 2, 3)"
     ],
     "language": "python",
     "metadata": {},
     "outputs": [
      {
       "output_type": "stream",
       "stream": "stdout",
       "text": [
        "5\n"
       ]
      }
     ],
     "prompt_number": 13
    },
    {
     "cell_type": "markdown",
     "metadata": {},
     "source": [
      "Case 4: after function definition f is redefined as a string."
     ]
    },
    {
     "cell_type": "code",
     "collapsed": false,
     "input": [
      "def f(x, w):\n",
      "    from math import sin\n",
      "    return sin(w*x)\n",
      "\n",
      "f = 'f(x, w)'\n",
      "w = 10\n",
      "x = 0.1\n",
      "print f(x, w)"
     ],
     "language": "python",
     "metadata": {},
     "outputs": [
      {
       "ename": "TypeError",
       "evalue": "'str' object is not callable",
       "output_type": "pyerr",
       "traceback": [
        "\u001b[1;31m---------------------------------------------------------------------------\u001b[0m\n\u001b[1;31mTypeError\u001b[0m                                 Traceback (most recent call last)",
        "\u001b[1;32m<ipython-input-14-367ae6eda1ac>\u001b[0m in \u001b[0;36m<module>\u001b[1;34m()\u001b[0m\n\u001b[0;32m      6\u001b[0m \u001b[0mw\u001b[0m \u001b[1;33m=\u001b[0m \u001b[1;36m10\u001b[0m\u001b[1;33m\u001b[0m\u001b[0m\n\u001b[0;32m      7\u001b[0m \u001b[0mx\u001b[0m \u001b[1;33m=\u001b[0m \u001b[1;36m0.1\u001b[0m\u001b[1;33m\u001b[0m\u001b[0m\n\u001b[1;32m----> 8\u001b[1;33m \u001b[1;32mprint\u001b[0m \u001b[0mf\u001b[0m\u001b[1;33m(\u001b[0m\u001b[0mx\u001b[0m\u001b[1;33m,\u001b[0m \u001b[0mw\u001b[0m\u001b[1;33m)\u001b[0m\u001b[1;33m\u001b[0m\u001b[0m\n\u001b[0m",
        "\u001b[1;31mTypeError\u001b[0m: 'str' object is not callable"
       ]
      }
     ],
     "prompt_number": 14
    },
    {
     "cell_type": "code",
     "collapsed": false,
     "input": [
      "def f(x, w):\n",
      "    from math import sin\n",
      "    return sin(w*x)\n",
      "\n",
      "#f = 'f(x, w)'\n",
      "w = 10\n",
      "x = 0.1\n",
      "print f(x, w)"
     ],
     "language": "python",
     "metadata": {},
     "outputs": [
      {
       "output_type": "stream",
       "stream": "stdout",
       "text": [
        "0.841470984808\n"
       ]
      }
     ],
     "prompt_number": 15
    },
    {
     "cell_type": "markdown",
     "metadata": {},
     "source": [
      "Case 5: after math import log function redefined, but used as it was imported from math."
     ]
    },
    {
     "cell_type": "code",
     "collapsed": false,
     "input": [
      "from math import *\n",
      "\n",
      "def log(message):\n",
      "    print message\n",
      "\n",
      "print 'The logarithm of 1 is', log(1)"
     ],
     "language": "python",
     "metadata": {},
     "outputs": [
      {
       "output_type": "stream",
       "stream": "stdout",
       "text": [
        "The logarithm of 1 is 1\n",
        "None\n"
       ]
      }
     ],
     "prompt_number": 21
    },
    {
     "cell_type": "code",
     "collapsed": false,
     "input": [
      "from math import *\n",
      "\n",
      "def log1(message):\n",
      "    print message\n",
      "\n",
      "print 'The logarithm of 1 is', log(1)\n",
      "log1('message')"
     ],
     "language": "python",
     "metadata": {},
     "outputs": [
      {
       "output_type": "stream",
       "stream": "stdout",
       "text": [
        "The logarithm of 1 is 0.0\n",
        "message\n"
       ]
      }
     ],
     "prompt_number": 23
    },
    {
     "cell_type": "markdown",
     "metadata": {},
     "source": [
      "Case 6: you need '()' in function call"
     ]
    },
    {
     "cell_type": "code",
     "collapsed": false,
     "input": [
      "import time\n",
      "\n",
      "def print_CPU_time():\n",
      "    print 'CPU time so far in the program:', time.clock()\n",
      "\n",
      "print_CPU_time"
     ],
     "language": "python",
     "metadata": {},
     "outputs": [
      {
       "metadata": {},
       "output_type": "pyout",
       "prompt_number": 27,
       "text": [
        "<function __main__.print_CPU_time>"
       ]
      }
     ],
     "prompt_number": 27
    },
    {
     "cell_type": "code",
     "collapsed": false,
     "input": [
      "import time\n",
      "\n",
      "def print_CPU_time():\n",
      "    print 'CPU time so far in the program:', time.clock()\n",
      "\n",
      "print_CPU_time()"
     ],
     "language": "python",
     "metadata": {},
     "outputs": [
      {
       "output_type": "stream",
       "stream": "stdout",
       "text": [
        "CPU time so far in the program: 14.2739301012\n"
       ]
      }
     ],
     "prompt_number": 28
    }
   ],
   "metadata": {}
  }
 ]
}