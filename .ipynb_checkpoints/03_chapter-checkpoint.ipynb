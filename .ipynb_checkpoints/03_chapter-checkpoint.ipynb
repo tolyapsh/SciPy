{
 "metadata": {
  "name": ""
 },
 "nbformat": 3,
 "nbformat_minor": 0,
 "worksheets": [
  {
   "cells": [
    {
     "cell_type": "heading",
     "level": 1,
     "metadata": {},
     "source": [
      "3 Functions and Branching"
     ]
    },
    {
     "cell_type": "heading",
     "level": 2,
     "metadata": {},
     "source": [
      "3.1 Functions"
     ]
    },
    {
     "cell_type": "heading",
     "level": 3,
     "metadata": {},
     "source": [
      "3.1.1 Functions of One Variable"
     ]
    },
    {
     "cell_type": "code",
     "collapsed": false,
     "input": [
      "def F(C):\n",
      "    return (9.0/5)*C + 32\n",
      "\n",
      "a = 10\n",
      "F1 = F(a)\n",
      "temp = F(15.5)\n",
      "print F(a+1)\n",
      "sum_temp = F(10) + F(20)"
     ],
     "language": "python",
     "metadata": {},
     "outputs": [
      {
       "output_type": "stream",
       "stream": "stdout",
       "text": [
        "51.8\n"
       ]
      }
     ],
     "prompt_number": 1
    },
    {
     "cell_type": "code",
     "collapsed": false,
     "input": [
      "def F2(C):\n",
      "    F_value = (9.0/5)*C + 32\n",
      "    return '%.1f degrees Celsius corresponds to %.1f degrees Fahrenheit' % (C, F_value)\n",
      "s1 = F2(21)\n",
      "s1"
     ],
     "language": "python",
     "metadata": {},
     "outputs": [
      {
       "metadata": {},
       "output_type": "pyout",
       "prompt_number": 4,
       "text": [
        "'21.0 degrees Celsius corresponds to 69.8 degrees Fahrenheit'"
       ]
      }
     ],
     "prompt_number": 4
    },
    {
     "cell_type": "heading",
     "level": 3,
     "metadata": {},
     "source": [
      "3.1.2 Local and Global Variables"
     ]
    },
    {
     "cell_type": "code",
     "collapsed": false,
     "input": [
      "print sum # sum is a built-in Python function\n",
      "sum = 500 # rebind the name sum to an int\n",
      "print sum # sum is a global variable\n",
      "\n",
      "def myfunc(n):\n",
      "    sum = n + 1\n",
      "    print sum # sum is a local variable\n",
      "    return sum\n",
      "\n",
      "sum = myfunc(2) + 1 # new value in global variable sum\n",
      "print sum"
     ],
     "language": "python",
     "metadata": {},
     "outputs": [
      {
       "output_type": "stream",
       "stream": "stdout",
       "text": [
        "<function sum at 0x0320CAF0>\n",
        "500\n",
        "3\n",
        "4\n"
       ]
      }
     ],
     "prompt_number": 5
    },
    {
     "cell_type": "heading",
     "level": 3,
     "metadata": {},
     "source": [
      "3.1.3 Multiple Arguments"
     ]
    },
    {
     "cell_type": "code",
     "collapsed": false,
     "input": [
      "def makelist(start, stop, inc):\n",
      "    value = start\n",
      "    result = []\n",
      "    while value <= stop:\n",
      "        result.append(value)\n",
      "        value = value + inc\n",
      "    return result\n",
      "\n",
      "mylist = makelist(0, 10, 0.2)\n",
      "print mylist # will print 0, 0.2, 0.4, 0.6, ... 99.8, 100"
     ],
     "language": "python",
     "metadata": {},
     "outputs": [
      {
       "output_type": "stream",
       "stream": "stdout",
       "text": [
        "[0, 0.2, 0.4, 0.6000000000000001, 0.8, 1.0, 1.2, 1.4, 1.5999999999999999, 1.7999999999999998, 1.9999999999999998, 2.1999999999999997, 2.4, 2.6, 2.8000000000000003, 3.0000000000000004, 3.2000000000000006, 3.400000000000001, 3.600000000000001, 3.800000000000001, 4.000000000000001, 4.200000000000001, 4.400000000000001, 4.600000000000001, 4.800000000000002, 5.000000000000002, 5.200000000000002, 5.400000000000002, 5.600000000000002, 5.8000000000000025, 6.000000000000003, 6.200000000000003, 6.400000000000003, 6.600000000000003, 6.800000000000003, 7.0000000000000036, 7.200000000000004, 7.400000000000004, 7.600000000000004, 7.800000000000004, 8.000000000000004, 8.200000000000003, 8.400000000000002, 8.600000000000001, 8.8, 9.0, 9.2, 9.399999999999999, 9.599999999999998, 9.799999999999997, 9.999999999999996]\n"
       ]
      }
     ],
     "prompt_number": 3
    },
    {
     "cell_type": "heading",
     "level": 3,
     "metadata": {},
     "source": [
      "3.1.4 Multiple Return Values"
     ]
    },
    {
     "cell_type": "code",
     "collapsed": false,
     "input": [
      "def yfunc(t, v0):\n",
      "    g = 9.81\n",
      "    y = v0*t - 0.5*g*t**2\n",
      "    dydt = v0 - g*t\n",
      "    return y, dydt\n",
      "\n",
      "t_values = [0.05*i for i in range(10)]\n",
      "for t in t_values:\n",
      "    pos, vel = yfunc(t, v0=5)\n",
      "    print 't=%-6g position=%-10g velocity=%-10g' % (t, pos, vel)"
     ],
     "language": "python",
     "metadata": {},
     "outputs": [
      {
       "output_type": "stream",
       "stream": "stdout",
       "text": [
        "t=0      position=0          velocity=5         \n",
        "t=0.05   position=0.237737   velocity=4.5095    \n",
        "t=0.1    position=0.45095    velocity=4.019     \n",
        "t=0.15   position=0.639638   velocity=3.5285    \n",
        "t=0.2    position=0.8038     velocity=3.038     \n",
        "t=0.25   position=0.943437   velocity=2.5475    \n",
        "t=0.3    position=1.05855    velocity=2.057     \n",
        "t=0.35   position=1.14914    velocity=1.5665    \n",
        "t=0.4    position=1.2152     velocity=1.076     \n",
        "t=0.45   position=1.25674    velocity=0.5855    \n"
       ]
      }
     ],
     "prompt_number": 6
    },
    {
     "cell_type": "code",
     "collapsed": false,
     "input": [
      "def L(x, n):\n",
      "    s=0\n",
      "    for i in range(1, n+1):\n",
      "        s += (1.0/i)*(x/(1.0+x))**i\n",
      "    value_of_sum = s\n",
      "    first_neglected_term = (1.0/(n+1))*(x/(1.0+x))**(n+1)\n",
      "    from math import log\n",
      "    exact_error = log(1+x) - value_of_sum\n",
      "    return value_of_sum, first_neglected_term, exact_error\n",
      "\n",
      "# typical call:\n",
      "print L(x, 100)"
     ],
     "language": "python",
     "metadata": {},
     "outputs": [
      {
       "output_type": "stream",
       "stream": "stdout",
       "text": [
        "(2.397888684738808, 6.531567587892148e-07, 6.588059562773196e-06)\n"
       ]
      }
     ],
     "prompt_number": 10
    },
    {
     "cell_type": "heading",
     "level": 3,
     "metadata": {},
     "source": [
      "3.1.5 Functions with No Return Values"
     ]
    },
    {
     "cell_type": "code",
     "collapsed": false,
     "input": [
      "def table(x):\n",
      "    print '\\nx=%g, ln(1+x)=%g' % (x, log(1+x))\n",
      "    for n in [1, 2, 10, 100, 500]:\n",
      "        value, next, error = L(x, n)\n",
      "        print 'n=%-4d %-8g next term: %8.2e error: %8.2e' % (n, value, next, error)\n",
      "\n",
      "table(10)\n",
      "table(1000)"
     ],
     "language": "python",
     "metadata": {},
     "outputs": [
      {
       "output_type": "stream",
       "stream": "stdout",
       "text": [
        "\n",
        "x=10, ln(1+x)=2.3979\n",
        "n=1    0.909091 next term: 4.13e-01 error: 1.49e+00\n",
        "n=2    1.32231  next term: 2.50e-01 error: 1.08e+00\n",
        "n=10   2.17907  next term: 3.19e-02 error: 2.19e-01\n",
        "n=100  2.39789  next term: 6.53e-07 error: 6.59e-06\n",
        "n=500  2.3979   next term: 3.65e-24 error: 6.22e-15\n",
        "\n",
        "x=1000, ln(1+x)=6.90875\n",
        "n=1    0.999001 next term: 4.99e-01 error: 5.91e+00\n",
        "n=2    1.498    next term: 3.32e-01 error: 5.41e+00\n",
        "n=10   2.919    next term: 8.99e-02 error: 3.99e+00\n",
        "n=100  5.08989  next term: 8.95e-03 error: 1.82e+00\n",
        "n=500  6.34928  next term: 1.21e-03 error: 5.59e-01\n"
       ]
      }
     ],
     "prompt_number": 17
    },
    {
     "cell_type": "heading",
     "level": 3,
     "metadata": {},
     "source": [
      "3.1.6 Keyword Arguments"
     ]
    },
    {
     "cell_type": "code",
     "collapsed": false,
     "input": [
      "def somefunc(arg1, arg2, kwarg1=True, kwarg2=0):\n",
      "    print arg1, arg2, kwarg1, kwarg2\n",
      "\n",
      "somefunc('Hello', [1,2])\n",
      "somefunc('Hello', [1,2], kwarg1='Hi')\n",
      "somefunc('Hello', [1,2], kwarg2='Hi')\n",
      "somefunc('Hello', [1,2], kwarg2='Hi', kwarg1=6)\n",
      "somefunc(kwarg2='Hello', arg1='Hi', kwarg1=6, arg2=[1,2],)"
     ],
     "language": "python",
     "metadata": {},
     "outputs": [
      {
       "output_type": "stream",
       "stream": "stdout",
       "text": [
        "Hello [1, 2] True 0\n",
        "Hello [1, 2] Hi 0\n",
        "Hello [1, 2] True Hi\n",
        "Hello [1, 2] 6 Hi\n",
        "Hi [1, 2] 6 Hello\n"
       ]
      }
     ],
     "prompt_number": 2
    },
    {
     "cell_type": "code",
     "collapsed": false,
     "input": [
      "from math import pi, exp, sin\n",
      "\n",
      "def f(t, A=1, a=1, omega=2*pi):\n",
      "    return A*exp(-a*t)*sin(omega*t)\n",
      "\n",
      "print f(0.2)\n",
      "print f(0.2, omega=1)\n",
      "print f(1, A=5, omega=pi, a=pi**2)\n",
      "print f(A=5, a=2, t=0.01, omega=0.1)\n",
      "print f(0.2, 0.5, 1, 1)"
     ],
     "language": "python",
     "metadata": {},
     "outputs": [
      {
       "output_type": "stream",
       "stream": "stdout",
       "text": [
        "0.778659217806\n",
        "0.162656690815\n",
        "3.16713172131e-20\n",
        "0.0049009925497\n",
        "0.0813283454077\n"
       ]
      }
     ],
     "prompt_number": 4
    },
    {
     "cell_type": "code",
     "collapsed": false,
     "input": [
      "def L2(x, epsilon=1.0E-6):\n",
      "    x = float(x)\n",
      "    i = 1\n",
      "    term = (1.0/i)*(x/(1+x))**i\n",
      "    s = term\n",
      "    while abs(term) > epsilon: # abs(x) is |x|\n",
      "        i += 1\n",
      "        term = (1.0/i)*(x/(1+x))**i\n",
      "        s += term\n",
      "    return s, i\n",
      "\n",
      "from math import log\n",
      "x = 10\n",
      "for k in range(4, 14, 2):\n",
      "    epsilon = 10**(-k)\n",
      "    approx, n = L2(x, epsilon=epsilon)\n",
      "    exact = log(1+x)\n",
      "    exact_error = exact - approx\n",
      "    print 'epsilon: %5.0e, exact error: %8.2e, n=%d' % (epsilon, exact_error, n)"
     ],
     "language": "python",
     "metadata": {},
     "outputs": [
      {
       "output_type": "stream",
       "stream": "stdout",
       "text": [
        "epsilon: 1e-04, exact error: 8.18e-04, n=55\n",
        "epsilon: 1e-06, exact error: 9.02e-06, n=97\n",
        "epsilon: 1e-08, exact error: 8.70e-08, n=142\n",
        "epsilon: 1e-10, exact error: 9.20e-10, n=187\n",
        "epsilon: 1e-12, exact error: 9.31e-12, n=233\n"
       ]
      }
     ],
     "prompt_number": 1
    },
    {
     "cell_type": "heading",
     "level": 3,
     "metadata": {},
     "source": [
      "3.1.7 Doc Strings"
     ]
    },
    {
     "cell_type": "code",
     "collapsed": false,
     "input": [
      "def C2F(C):\n",
      "    \"\"\"Convert Celsius degrees (C) to Fahrenheit.\"\"\"\n",
      "    return (9.0/5)*C + 32\n",
      "\n",
      "def line(x0, y0, x1, y1):\n",
      "    \"\"\"\n",
      "    Compute the coefficients a and b in the mathematical\n",
      "    expression for a straight line y = a*x + b that goes\n",
      "    through two points (x0, y0) and (x1, y1).\n",
      "    \n",
      "    x0, y0: a point on the line (floats).\n",
      "    x1, y1: another point on the line (floats).\n",
      "    return: coefficients a, b (floats) for the line (y=a*x+b).\n",
      "    \"\"\"\n",
      "    a = (y1 - y0)/float(x1 - x0)\n",
      "    b = y0 - a*x0\n",
      "    return a, b\n",
      "\n",
      "print line.__doc__"
     ],
     "language": "python",
     "metadata": {},
     "outputs": [
      {
       "output_type": "stream",
       "stream": "stdout",
       "text": [
        "\n",
        "    Compute the coefficients a and b in the mathematical\n",
        "    expression for a straight line y = a*x + b that goes\n",
        "    through two points (x0, y0) and (x1, y1).\n",
        "    \n",
        "    x0, y0: a point on the line (floats).\n",
        "    x1, y1: another point on the line (floats).\n",
        "    return: coefficients a, b (floats) for the line (y=a*x+b).\n",
        "    \n"
       ]
      }
     ],
     "prompt_number": 1
    },
    {
     "cell_type": "heading",
     "level": 3,
     "metadata": {},
     "source": [
      "3.1.8 Function Input and Output"
     ]
    },
    {
     "cell_type": "heading",
     "level": 3,
     "metadata": {},
     "source": [
      "3.1.9 Functions as Arguments to Functions"
     ]
    },
    {
     "cell_type": "code",
     "collapsed": false,
     "input": [
      "def diff2(f, x, h=1E-6):\n",
      "    r = (f(x-h) - 2*f(x) + f(x+h))/float(h*h)\n",
      "    return r\n",
      "\n",
      "def g(t):\n",
      "    return t**(-6)\n",
      "\n",
      "t = 1.2\n",
      "d2g = diff2(g, t)\n",
      "print 'g\"(%g)=%g' % (t, d2g)"
     ],
     "language": "python",
     "metadata": {},
     "outputs": [
      {
       "output_type": "stream",
       "stream": "stdout",
       "text": [
        "g\"(1.2)=9.7678\n"
       ]
      }
     ],
     "prompt_number": 3
    },
    {
     "cell_type": "code",
     "collapsed": false,
     "input": [
      "for k in range(1,15):\n",
      "    h = 10**(-k)\n",
      "    d2g = diff2(g, 1, h)\n",
      "    print 'h=%.0e: %17.5f' % (h, d2g)"
     ],
     "language": "python",
     "metadata": {},
     "outputs": [
      {
       "output_type": "stream",
       "stream": "stdout",
       "text": [
        "h=1e-01:          44.61504\n",
        "h=1e-02:          42.02521\n",
        "h=1e-03:          42.00025\n",
        "h=1e-04:          42.00000\n",
        "h=1e-05:          41.99999\n",
        "h=1e-06:          42.00074\n",
        "h=1e-07:          41.94423\n",
        "h=1e-08:          47.73959\n",
        "h=1e-09:        -666.13381\n",
        "h=1e-10:           0.00000\n",
        "h=1e-11:           0.00000\n",
        "h=1e-12:  -666133814.77509\n",
        "h=1e-13: 66613381477.50939\n",
        "h=1e-14:           0.00000\n"
       ]
      }
     ],
     "prompt_number": 14
    },
    {
     "cell_type": "code",
     "collapsed": false,
     "input": [
      "import decimal                  # floats with arbitrarily many digits\n",
      "decimal.getcontext().prec = 25  # use 25 digits\n",
      "D = decimal.Decimal             # short form for new float type\n",
      "\n",
      "def diff2(f, x, h=1E-9):\n",
      "    x = D(str(x));  h = D(str(h))  # convert to high precision\n",
      "    r = (f(x-h) - 2*f(x) + f(x+h))/(h*h)\n",
      "    return r\n",
      "\n",
      "def g(t):\n",
      "    return t**(-6)\n",
      "\n",
      "for k in range(1,15):\n",
      "    h = 10**(-k)\n",
      "    print 'h=%.0e %24.20f' % (h, diff2(g, 1, h))"
     ],
     "language": "python",
     "metadata": {},
     "outputs": [
      {
       "output_type": "stream",
       "stream": "stdout",
       "text": [
        "h=1e-01  44.61503532126981497186\n",
        "h=1e-02  42.02520924257460421813\n",
        "h=1e-03  42.00025200092400012863\n",
        "h=1e-04  42.00000252000009481890\n",
        "h=1e-05  42.00000002519999497963\n",
        "h=1e-06  42.00000000025200108666\n",
        "h=1e-07  42.00000000000000000000\n",
        "h=1e-08  42.00000000000000000000\n",
        "h=1e-09  41.99999989999999883139\n",
        "h=1e-10  42.00000000000000000000\n",
        "h=1e-11  42.00000000000000000000\n",
        "h=1e-12  42.00000000000000000000\n",
        "h=1e-13  20.00000000000000000000\n",
        "h=1e-14   0.00000000000000000000\n"
       ]
      }
     ],
     "prompt_number": 15
    },
    {
     "cell_type": "heading",
     "level": 3,
     "metadata": {},
     "source": [
      "3.1.10 The Main Program"
     ]
    },
    {
     "cell_type": "code",
     "collapsed": false,
     "input": [
      "from math import *        # in main\n",
      "\n",
      "def f(x):                 # in main\n",
      "    e = exp(-0.1*x)\n",
      "    s = sin(6*pi*x)\n",
      "    return e*s\n",
      "\n",
      "x = 2                     # in main\n",
      "y = f(x)                  # in main\n",
      "print 'f(%g)=%g' % (x, y) # in main"
     ],
     "language": "python",
     "metadata": {},
     "outputs": [
      {
       "output_type": "stream",
       "stream": "stdout",
       "text": [
        "f(2)=-1.20319e-15\n"
       ]
      }
     ],
     "prompt_number": 1
    },
    {
     "cell_type": "heading",
     "level": 3,
     "metadata": {},
     "source": [
      "3.1.11 Lambda Functions"
     ]
    },
    {
     "cell_type": "code",
     "collapsed": false,
     "input": [
      "def diff2(f, x, h=1E-6):\n",
      "    r = (f(x-h) - 2*f(x) + f(x+h))/float(h*h)\n",
      "    return r\n",
      "\n",
      "t = 1.2\n",
      "g = lambda t: t**(-6)            # lambda function\n",
      "d2g = diff2(g, t)\n",
      "print 'g\"(%g)=%g' % (t, d2g)"
     ],
     "language": "python",
     "metadata": {},
     "outputs": [
      {
       "output_type": "stream",
       "stream": "stdout",
       "text": [
        "g\"(1.2)=9.7678\n"
       ]
      }
     ],
     "prompt_number": 2
    },
    {
     "cell_type": "code",
     "collapsed": false,
     "input": [
      "def diff2(f, x, h=1E-6):\n",
      "    r = (f(x-h) - 2*f(x) + f(x+h))/float(h*h)\n",
      "    return r\n",
      "\n",
      "d2g = diff2(lambda t: t**(-6), 1.2)  # lambda function\n",
      "print 'g\"(%g)=%g' % (t, d2g)"
     ],
     "language": "python",
     "metadata": {},
     "outputs": [
      {
       "output_type": "stream",
       "stream": "stdout",
       "text": [
        "g\"(1.2)=9.7678\n"
       ]
      }
     ],
     "prompt_number": 3
    },
    {
     "cell_type": "heading",
     "level": 2,
     "metadata": {},
     "source": [
      "3.2 Branching"
     ]
    },
    {
     "cell_type": "code",
     "collapsed": false,
     "input": [
      "def f(x):\n",
      "    if 0 <= x <= pi:\n",
      "        value = sin(x)\n",
      "    else:\n",
      "        value = 0\n",
      "    return value"
     ],
     "language": "python",
     "metadata": {},
     "outputs": []
    },
    {
     "cell_type": "heading",
     "level": 3,
     "metadata": {},
     "source": [
      "3.2.1 If-Else Blocks"
     ]
    },
    {
     "cell_type": "code",
     "collapsed": false,
     "input": [
      "def N(x):  # hat function\n",
      "    if 0 <= x < 1:\n",
      "        return x\n",
      "    elif 1 <= x < 2:\n",
      "        return 2 - x\n",
      "    else:\n",
      "        return 0"
     ],
     "language": "python",
     "metadata": {},
     "outputs": []
    },
    {
     "cell_type": "heading",
     "level": 3,
     "metadata": {},
     "source": [
      "3.2.2 Inline If Tests"
     ]
    },
    {
     "cell_type": "code",
     "collapsed": false,
     "input": [
      "# classical code\n",
      "if condition:\n",
      "    a = value1\n",
      "else:\n",
      "    a = value2\n",
      "\n",
      "# equivalent code\n",
      "a = (value1 if condition else value2)\n",
      "\n",
      "# inline if lambda\n",
      "f = lambda x: sin(x) if 0 <= x <= 2*pi else 0"
     ],
     "language": "python",
     "metadata": {},
     "outputs": []
    },
    {
     "cell_type": "heading",
     "level": 2,
     "metadata": {},
     "source": [
      "3.3 Mixing Loops, Branching, and Functions in Bioinformatics\n",
      "Examples"
     ]
    },
    {
     "cell_type": "heading",
     "level": 3,
     "metadata": {},
     "source": [
      "3.3.1 Counting Letters in DNA Strings"
     ]
    },
    {
     "cell_type": "code",
     "collapsed": false,
     "input": [
      "def count_v2(dna, base):\n",
      "    i = 0 # counter\n",
      "    for c in dna:\n",
      "        if c == base:\n",
      "            i += 1\n",
      "    return i\n",
      "\n",
      "dna = 'ATGCGGACCTAT'\n",
      "base = 'G'\n",
      "n = count_v2(dna, base)\n",
      "\n",
      "# printf-style formatting\n",
      "print '%s appears %d times in %s' % (base, n, dna)\n",
      "\n",
      "# or (new) format string syntax\n",
      "print '{base} appears {n} times in {dna}'.format(base=base, n=n, dna=dna)"
     ],
     "language": "python",
     "metadata": {},
     "outputs": [
      {
       "output_type": "stream",
       "stream": "stdout",
       "text": [
        "G appears 3 times in ATGCGGACCTAT\n",
        "G appears 3 times in ATGCGGACCTAT\n"
       ]
      }
     ],
     "prompt_number": 4
    },
    {
     "cell_type": "heading",
     "level": 3,
     "metadata": {},
     "source": [
      "3.3.2 Efficiency Assessment"
     ]
    },
    {
     "cell_type": "code",
     "collapsed": false,
     "input": [
      "# we need some test data, which should be a huge string \"dna\"\n",
      "\n",
      "import random\n",
      "alphabet = list('ATGC')\n",
      "dna = [random.choice(alphabet) for i in range(1000)]\n",
      "dna = ''.join(dna)\n",
      "print dna"
     ],
     "language": "python",
     "metadata": {},
     "outputs": [
      {
       "output_type": "stream",
       "stream": "stdout",
       "text": [
        "TTCTCTAGGTTCTGAGAGCGTCATGGCCTTGCGGACACACCTGAACTACTTAGCTCTCGTTGTGCAGCAGTCACGATGCTAGGCAGGTTTGAGGCCACCTCGGTTGATATGTCGGGACTTCTGGGGGGGCTGCGTATTCGTAGATGGTACTCTGCACCGGGGGACTCTGCGTGGGGGGCGGAAAGGTATTAGAAAACCTACGCGCTATACGGGCCACATTAAAGTGGGGAGTAGAATAGGAAAATACAAGGATATCTTCCGGCCGACACCTGATTGTTTAATTTTCTGGCCCCGAAACTTCTGAATATGTACCATTGGTTCACCTCAGTCCCTTGTAGGATAATCCCGCGATACGGGCGATAGCTGGCGAGGACTCGTAATCTAGTCCACGTGCTCCGTCGAATAGGCTGGTTTCGGAGTATCTCAACGGAGACTATATACGTGTGACGAAAGGAACAAGAATACAGCCGTAGATTTGTGCCGACTTATTCTAGGCCACCCATGCTTCATGCACGAGCAGGGCATGAGTCCCACCCGTAACGGCCTACATGCTCATGGACCCTGCAAGAACGGAAACGGGTGGTGCTACTGTCAATGCCCCTTGAATTAGATTATGAGTCATCTACACATCGCCATTACTTATATTACCTGCAGAGAAGGCAGCTAGGTTCTTGTCGCGGTGACGTTCAATGGCTTATCGGAGACTATGGACCTGGATTTCCACATCAGATAGAAGCGACTATATGGAGCGCACTGCCGCTGCTCTAGTGCGTGGCGGGGGCATTAAGCTGAGCTATATACCCTCAGTACATCTGGGAAGTCTCAAGCATACACTTTGAGTCAGACGGCCTATACGACAGATGAAAAGCCCCCCTGCAGGAGCCAACGGAAGAAAAGCCGTGCCGAGACGGAGAGGGGACTCTCGAGTCGACCAAGAGAGGAAGGGGCATCGCCACTGGTAGACGTGCATAAGCCGCTTCCCTCATAGGTAACTAATAAA\n"
       ]
      }
     ],
     "prompt_number": 7
    },
    {
     "cell_type": "code",
     "collapsed": false,
     "input": [
      "import random\n",
      "def generate_string(N, alphabet='ACGT'):\n",
      "    return ''.join([random.choice(alphabet) for i in xrange(N)])\n",
      "print generate_string(1000)"
     ],
     "language": "python",
     "metadata": {},
     "outputs": [
      {
       "output_type": "stream",
       "stream": "stdout",
       "text": [
        "TATCCAACCCAAACAACCACATCGCGCGTTAAATCGCGCTACAGAATGGAGGTCGCCTAAGCTATGTGAGAGGGGATTTCGACAGTGCAGTCGCAGGGAGAGTTCACATACAACGAGTTAGCGAATGGTAAGTGCGGACCACTGCTTAGGTAGCCCTAGACGCCAGGAAGGCTATGGTATTTAGGGGTTGATTGCAGAGGACCACACCATGCTACACGAATCTGCACAAGGCGGCACACCAGTGAGGGAGACGCCTGTCGTCCCAATCCTACGCGCATTTGCGCACCTCCCGAGGGGCTCTTAGGCGGACACTCGGACTTCGATGGCGTTTGGTTACGACTATGACATGCGGCCGGGGCAGGTGCTTACCCATGCAAGTCGATTGACAATTATTATTGGGTAAATTAACGGTAACCGCCATTCAGCCCTGCAACGATGATACTCAGTTTTCAATTTCCAGGTTCACGCTAAATTGTCTATCACAGACTCCTTAGACTTGCCTGAATTCGGAGGCGGACAGGCATGCTCTTGGTCAAAGGTTTTATAGTGCGTGTTTGCAGATCAGTCAATGCAAAGGTTGACTTCAATGGCTCACAACCTTATACGTGACCGCACTGTGGGATAGACCAAAAGATCGTTTCGCGGTTAATCAAATGGAATGTCCGCCATTGCATCACAGTCCCGAGTAATCACAGTCCTGCAGGGCTCGGGAGTAGGCATTGCTCCGTCTGGACGGAATCGGTGGAATGTGGCTTTAGTTCCGACCGGAGGTCACATAAAAATAACAACAAGGATTGCTGTCTGAACTAGACAACAGTCACCGATGAGGCAACATGCTTGTGGTCTAGTTTGTACAAATCAGACCGCTTACTCAACAATGGTCCTAAGCGCCTCAGATCTCGTTGTCAAGACGGCCGGAAGCCTAGCGTCGGCTCAAGATTGGACCCAGTCATTCGTCGTCGCGTACGAGACCATTTTAAGCACGACGCCCACAGCGTGA\n"
       ]
      }
     ],
     "prompt_number": 13
    },
    {
     "cell_type": "code",
     "collapsed": false,
     "input": [
      "# Measuring CPU Time\n",
      "\n",
      "# List Iteration\n",
      "def List_Iteration(dna, base):\n",
      "    dna = list(dna) # convert string to list of letters\n",
      "    i = 0 # counter\n",
      "    for c in dna:\n",
      "        if c == base:\n",
      "            i += 1\n",
      "    return i\n",
      "\n",
      "# String Iteration\n",
      "def String_Iteration(dna, base):\n",
      "    i = 0 # counter\n",
      "    for c in dna:\n",
      "        if c == base:\n",
      "            i += 1\n",
      "    return i\n",
      "\n",
      "# Index Iteration\n",
      "def Index_Iteration(dna, base):\n",
      "    i = 0 # counter\n",
      "    for j in range(len(dna)):\n",
      "        if dna[j] == base:\n",
      "            i += 1\n",
      "    return i\n",
      "\n",
      "# While Loops\n",
      "def While_Loops(dna, base):\n",
      "    i = 0 # counter\n",
      "    j = 0 # string index\n",
      "    while j < len(dna):\n",
      "        if dna[j] == base:\n",
      "            i += 1\n",
      "        j += 1\n",
      "    return i\n",
      "\n",
      "# Summing a Boolean List\n",
      "def Summing_Boolean_List(dna, base):\n",
      "    m = [] # matches for base in dna: m[i]=True if dna[i]==base\n",
      "    for c in dna:\n",
      "        if c == base:\n",
      "            m.append(True)\n",
      "        else:\n",
      "            m.append(False)\n",
      "    return sum(m)\n",
      "\n",
      "# Inline If Test\n",
      "def Inline_If_Test(dna, base):\n",
      "    m = [] # matches for base in dna: m[i]=True if dna[i]==base\n",
      "    for c in dna:\n",
      "        m.append(True if c == base else False)\n",
      "    return sum(m)\n",
      "\n",
      "# Using Boolean Values Directly\n",
      "def Using_Boolean_Values_Directly(dna, base):\n",
      "    m = [] # matches for base in dna: m[i]=True if dna[i]==base\n",
      "    for c in dna:\n",
      "        m.append(c == base)\n",
      "    return sum(m)\n",
      "\n",
      "# List Comprehensions\n",
      "def List_Comprehensions_1(dna, base):\n",
      "    m = [c == base for c in dna]\n",
      "    return sum(m)\n",
      "\n",
      "def List_Comprehensions_2(dna, base):\n",
      "    return sum([c == base for c in dna])\n",
      "\n",
      "# Using a Sum Iterator\n",
      "def Using_Sum_Iterator(dna, base):\n",
      "    return sum(c == base for c in dna)\n",
      "\n",
      "# Extracting Indices\n",
      "def Extracting_Indices(dna, base):\n",
      "    return len([i for i in range(len(dna)) if dna[i] == base])\n",
      "\n",
      "# Using Python\u2019s Library\n",
      "def Using_Python_Library(dna, base):\n",
      "    return dna.count(base)\n",
      "\n",
      "# generate test string\n",
      "import random\n",
      "def generate_string(N, alphabet='ACGT'):\n",
      "    return ''.join([random.choice(alphabet) for i in xrange(N)])\n",
      "dna = generate_string(10000000)\n",
      "\n",
      "# time measurement\n",
      "import time\n",
      "functions = [List_Iteration, String_Iteration, Index_Iteration, While_Loops,\n",
      "             Summing_Boolean_List, Inline_If_Test, Using_Boolean_Values_Directly,\n",
      "             List_Comprehensions_1, List_Comprehensions_2, Using_Sum_Iterator,\n",
      "             Extracting_Indices, Using_Python_Library]\n",
      "timings = [] # timings[i] holds CPU time for functions[i]\n",
      "for function in functions:\n",
      "    t0 = time.clock()\n",
      "    function(dna, 'A')\n",
      "    t1 = time.clock()\n",
      "    cpu_time = t1 - t0\n",
      "    timings.append(cpu_time)\n",
      "\n",
      "# printing\n",
      "for cpu_time, function in zip(timings, functions):\n",
      "    print '{f:<29s} {cpu:.2f} s'.format(f=function.func_name, cpu=cpu_time)"
     ],
     "language": "python",
     "metadata": {},
     "outputs": [
      {
       "output_type": "stream",
       "stream": "stdout",
       "text": [
        "List_Iteration                0.93 s\n",
        "String_Iteration              0.78 s\n",
        "Index_Iteration               1.57 s\n",
        "While_Loops                   2.48 s\n",
        "Summing_Boolean_List          3.02 s\n",
        "Inline_If_Test                3.09 s\n",
        "Using_Boolean_Values_Directly 2.72 s\n",
        "List_Comprehensions_1         1.63 s\n",
        "List_Comprehensions_2         1.63 s\n",
        "Using_Sum_Iterator            1.72 s\n",
        "Extracting_Indices            1.60 s\n",
        "Using_Python_Library          0.04 s\n"
       ]
      }
     ],
     "prompt_number": 3
    },
    {
     "cell_type": "heading",
     "level": 2,
     "metadata": {},
     "source": [
      "3.4 Summary"
     ]
    },
    {
     "cell_type": "heading",
     "level": 3,
     "metadata": {},
     "source": [
      "3.4.1 Chapter Topics"
     ]
    },
    {
     "cell_type": "heading",
     "level": 3,
     "metadata": {},
     "source": [
      "3.4.2 Example: Numerical Integration"
     ]
    },
    {
     "cell_type": "code",
     "collapsed": false,
     "input": [
      "from math import pi, sin\n",
      "\n",
      "def f(x):\n",
      "    return sin(x)**3\n",
      "\n",
      "def Simpson(f, a, b, n=500):\n",
      "    h = (b - a)/float(n)\n",
      "    sum1 = 0\n",
      "    for i in range(1, n/2 + 1):\n",
      "        sum1 += f(a + (2*i - 1)*h)\n",
      "    sum2 = 0\n",
      "    for i in range(1, n/2):\n",
      "        sum2 += f(a + 2*i*h)\n",
      "    return (b - a)/3./n*(f(a) + f(b) + 4*sum1 + 2*sum2)\n",
      "\n",
      "for n in 2, 6, 12, 100, 500:\n",
      "    integral = 1.5*Simpson(f, 0, pi, n)\n",
      "    print 'n = %3d, integral = %17.15f, error = %9.2E' % (n, integral, 2-integral)"
     ],
     "language": "python",
     "metadata": {},
     "outputs": [
      {
       "output_type": "stream",
       "stream": "stdout",
       "text": [
        "n =   2, integral = 3.141592653589793, error = -1.14E+00\n",
        "n =   6, integral = 1.989171700583579, error =  1.08E-02\n",
        "n =  12, integral = 1.999489233010781, error =  5.11E-04\n",
        "n = 100, integral = 1.999999902476349, error =  9.75E-08\n",
        "n = 500, integral = 1.999999999844139, error =  1.56E-10\n"
       ]
      }
     ],
     "prompt_number": 35
    }
   ],
   "metadata": {}
  }
 ]
}