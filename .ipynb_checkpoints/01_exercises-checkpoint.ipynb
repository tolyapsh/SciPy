{
 "metadata": {
  "name": "",
  "signature": "sha256:d722775743cbcfbb86cc5a0319fa78de17f9eac3da284fa7980dfc69a5a9fd13"
 },
 "nbformat": 3,
 "nbformat_minor": 0,
 "worksheets": [
  {
   "cells": [
    {
     "cell_type": "heading",
     "level": 1,
     "metadata": {},
     "source": [
      "1.0 Converting Fahrenheit to Celsius"
     ]
    },
    {
     "cell_type": "markdown",
     "metadata": {},
     "source": [
      "$C$ - \u0442\u0435\u043c\u043f\u0435\u0440\u0430\u0442\u0443\u0440\u0430 \u0432 \u0433\u0440\u0430\u0434\u0443\u0441\u0430\u0445 \u0426\u0435\u043b\u044c\u0441\u0438\u044f  \n",
      "$F$ - \u0442\u0435\u043c\u043f\u0435\u0440\u0430\u0442\u0443\u0440\u0430 \u0432 \u0433\u0440\u0430\u0434\u0443\u0441\u0430\u0445 \u0424\u0430\u0440\u0435\u043d\u0433\u0435\u0439\u0442\u0430\n",
      "\n",
      "$$C=\\frac{5}{9}(F-32)$$"
     ]
    },
    {
     "cell_type": "code",
     "collapsed": false,
     "input": [
      "F = 69.8\n",
      "C = 5.0/9*(F - 32)\n",
      "print 'C =', C"
     ],
     "language": "python",
     "metadata": {},
     "outputs": [
      {
       "output_type": "stream",
       "stream": "stdout",
       "text": [
        "C = 21.0\n"
       ]
      }
     ],
     "prompt_number": 1
    },
    {
     "cell_type": "heading",
     "level": 1,
     "metadata": {},
     "source": [
      "1.1 Compute 1+1"
     ]
    },
    {
     "cell_type": "markdown",
     "metadata": {},
     "source": [
      "The first exercise concerns some very basic mathematics and programming: assign the result of $1+1$ to a variable and print the value of that variable. Name of program file: `1plus1.py`."
     ]
    },
    {
     "cell_type": "code",
     "collapsed": false,
     "input": [
      "a = 1 + 1\n",
      "print 'a =', a"
     ],
     "language": "python",
     "metadata": {},
     "outputs": [
      {
       "output_type": "stream",
       "stream": "stdout",
       "text": [
        "a = 2\n"
       ]
      }
     ],
     "prompt_number": 2
    },
    {
     "cell_type": "heading",
     "level": 1,
     "metadata": {},
     "source": [
      "1.2 Write a \"Hello, World!\" program"
     ]
    },
    {
     "cell_type": "markdown",
     "metadata": {},
     "source": [
      "Almost all books about programming languages start with a very simple program that prints the text $Hello, World!$ on the screen. Make such a program in Python. Name of program file: `hello_world.py`."
     ]
    },
    {
     "cell_type": "code",
     "collapsed": false,
     "input": [
      "print 'Hello, World!'"
     ],
     "language": "python",
     "metadata": {},
     "outputs": [
      {
       "output_type": "stream",
       "stream": "stdout",
       "text": [
        "Hello, World!\n"
       ]
      }
     ],
     "prompt_number": 3
    },
    {
     "cell_type": "heading",
     "level": 1,
     "metadata": {},
     "source": [
      "1.3 Derive and compute a formula"
     ]
    },
    {
     "cell_type": "markdown",
     "metadata": {},
     "source": [
      "Can a newborn baby in Norway expect to live for one billion ($10^9$) seconds? Name of program file: `seconds2years.py`."
     ]
    },
    {
     "cell_type": "code",
     "collapsed": false,
     "input": [
      "seconds = 1e9\n",
      "years = seconds/365/24/60/60\n",
      "print '%d seconds is %.2f years' % (seconds, years)"
     ],
     "language": "python",
     "metadata": {},
     "outputs": [
      {
       "output_type": "stream",
       "stream": "stdout",
       "text": [
        "1000000000 seconds is 31.71 years\n"
       ]
      }
     ],
     "prompt_number": 4
    },
    {
     "cell_type": "heading",
     "level": 1,
     "metadata": {},
     "source": [
      "1.4 Convert from meters to British length units"
     ]
    },
    {
     "cell_type": "markdown",
     "metadata": {},
     "source": [
      "Make a program where you set a length given in meters and then compute and write out the corresponding length measured in inches, in feet, in yards, and in miles. Use that one inch is 2.54 cm, one foot is 12 inches, one yard is 3 feet, and one British mile is 1760 yards. As a verification, a length of 640 meters corresponds to 25196.85 inches, 2099.74 feet, 699.91 yards, or 0.3977 miles. Name of program file: `length_conversion.py`."
     ]
    },
    {
     "cell_type": "code",
     "collapsed": false,
     "input": [
      "meters = 640\n",
      "inches = meters*100/2.54\n",
      "feet = inches/12\n",
      "yards = feet/3\n",
      "miles = yards/1760\n",
      "print '%d meters is equal to:' % (meters)\n",
      "print '%.2f inches' % (inches)\n",
      "print '%.2f feet' % (feet)\n",
      "print '%.2f yards' % (yards)\n",
      "print '%.4f miles' % (miles)"
     ],
     "language": "python",
     "metadata": {},
     "outputs": [
      {
       "output_type": "stream",
       "stream": "stdout",
       "text": [
        "640 meters is equal to:\n",
        "25196.85 inches\n",
        "2099.74 feet\n",
        "699.91 yards\n",
        "0.3977 miles\n"
       ]
      }
     ],
     "prompt_number": 5
    },
    {
     "cell_type": "heading",
     "level": 1,
     "metadata": {},
     "source": [
      "1.5 Compute the mass of various substances"
     ]
    },
    {
     "cell_type": "markdown",
     "metadata": {},
     "source": [
      "The density of a substance is defined as $\\rho =m/V$, where $m$ is the mass of a volume $V$. Compute and print out the mass of one liter of each of the following substances whose densities in $g/cm^3$ are found in the file `src/files/densities.dat`:\n",
      "- air         0.0012\n",
      "- gasoline    0.67\n",
      "- ice         0.9\n",
      "- human body  1.03\n",
      "- iron        7.8\n",
      "- silver      10.5\n",
      "- platinium   21.4\n",
      "\n",
      "Name of program file: `1liter.py`."
     ]
    },
    {
     "cell_type": "code",
     "collapsed": false,
     "input": [
      "ro_air = 0.0012\n",
      "ro_gasoline = 0.67\n",
      "ro_ice = 0.9\n",
      "ro_human_body = 1.03\n",
      "ro_iron = 7.8\n",
      "ro_silver = 10.5\n",
      "ro_platinum = 21.4\n",
      "\n",
      "# 1 \u043b\u0438\u0442\u0440 = 1000 c\u043c3\n",
      "V=1e3\n",
      "\n",
      "print '\u041c\u0430\u0441\u0441\u0430 1 \u043b\u0438\u0442\u0440\u0430'\n",
      "print '\u0432\u043e\u0437\u0434\u0443\u0445\u0430 - %.1f \u0433' % (V*ro_air)\n",
      "print '\u0431\u0435\u043d\u0437\u0438\u043d\u0430 - %d \u0433' % (V*ro_gasoline)\n",
      "print '\u043b\u044c\u0434\u0430 - %d \u0433' % (V*ro_ice)\n",
      "print '\u0447\u0435\u043b\u043e\u0432\u0435\u0447\u0435\u0441\u043a\u043e\u0433\u043e \u0442\u0435\u043b\u0430 - %d \u0433' % (V*ro_human_body)\n",
      "print '\u0436\u0435\u043b\u0435\u0437\u0430 - %d \u0433' % (V*ro_iron)\n",
      "print '\u0441\u0435\u0440\u0435\u0431\u0440\u0430 - %d \u0433' % (V*ro_silver)\n",
      "print '\u043f\u043b\u0430\u0442\u0438\u043d\u044b - %d \u0433' % (V*ro_platinum)"
     ],
     "language": "python",
     "metadata": {},
     "outputs": [
      {
       "output_type": "stream",
       "stream": "stdout",
       "text": [
        "\u041c\u0430\u0441\u0441\u0430 1 \u043b\u0438\u0442\u0440\u0430\n",
        "\u0432\u043e\u0437\u0434\u0443\u0445\u0430 - 1.2 \u0433\n",
        "\u0431\u0435\u043d\u0437\u0438\u043d\u0430 - 670 \u0433\n",
        "\u043b\u044c\u0434\u0430 - 900 \u0433\n",
        "\u0447\u0435\u043b\u043e\u0432\u0435\u0447\u0435\u0441\u043a\u043e\u0433\u043e \u0442\u0435\u043b\u0430 - 1030 \u0433\n",
        "\u0436\u0435\u043b\u0435\u0437\u0430 - 7800 \u0433\n",
        "\u0441\u0435\u0440\u0435\u0431\u0440\u0430 - 10500 \u0433\n",
        "\u043f\u043b\u0430\u0442\u0438\u043d\u044b - 21400 \u0433\n"
       ]
      }
     ],
     "prompt_number": 6
    },
    {
     "cell_type": "heading",
     "level": 1,
     "metadata": {},
     "source": [
      "1.6 Compute the growth of money in a bank"
     ]
    },
    {
     "cell_type": "markdown",
     "metadata": {},
     "source": [
      "Let $p$ be a bank's interest rate in percent per year. An initial amount $A$ has then grown to $$A\\left(1+\\frac{p}{100}\\right)^n$$ after $n$ years. Make a program for computing how much money 1000 euros have grown to after three years with 5% interest rate. Name of program file: `interest_rate.py`."
     ]
    },
    {
     "cell_type": "code",
     "collapsed": false,
     "input": [
      "p = 5\n",
      "A = 1000\n",
      "n = 3\n",
      "\n",
      "A = A*(1 + p/100.)**n\n",
      "print 'After %d years you will have %.2f euros' % (n, A)"
     ],
     "language": "python",
     "metadata": {},
     "outputs": [
      {
       "output_type": "stream",
       "stream": "stdout",
       "text": [
        "After 3 years you will have 1157.63 euros\n"
       ]
      }
     ],
     "prompt_number": 7
    },
    {
     "cell_type": "heading",
     "level": 1,
     "metadata": {},
     "source": [
      "1.7 Find error"
     ]
    },
    {
     "cell_type": "markdown",
     "metadata": {},
     "source": [
      "Suppose somebody has written a simple one-line program for computing $sin(1)$:\n",
      "\n",
      "    x=1; print 'sin(%g)=%g' % (x, sin(x))\n",
      "\n",
      "Type in this program and try to run it. What is the problem?"
     ]
    },
    {
     "cell_type": "code",
     "collapsed": false,
     "input": [
      "x=1; print 'sin(%g)=%g' % (x, sin(x))"
     ],
     "language": "python",
     "metadata": {},
     "outputs": [
      {
       "ename": "NameError",
       "evalue": "name 'sin' is not defined",
       "output_type": "pyerr",
       "traceback": [
        "\u001b[1;31m---------------------------------------------------------------------------\u001b[0m\n\u001b[1;31mNameError\u001b[0m                                 Traceback (most recent call last)",
        "\u001b[1;32m<ipython-input-8-18449c03a708>\u001b[0m in \u001b[0;36m<module>\u001b[1;34m()\u001b[0m\n\u001b[1;32m----> 1\u001b[1;33m \u001b[0mx\u001b[0m\u001b[1;33m=\u001b[0m\u001b[1;36m1\u001b[0m\u001b[1;33m;\u001b[0m \u001b[1;32mprint\u001b[0m \u001b[1;34m'sin(%g)=%g'\u001b[0m \u001b[1;33m%\u001b[0m \u001b[1;33m(\u001b[0m\u001b[0mx\u001b[0m\u001b[1;33m,\u001b[0m \u001b[0msin\u001b[0m\u001b[1;33m(\u001b[0m\u001b[0mx\u001b[0m\u001b[1;33m)\u001b[0m\u001b[1;33m)\u001b[0m\u001b[1;33m\u001b[0m\u001b[0m\n\u001b[0m",
        "\u001b[1;31mNameError\u001b[0m: name 'sin' is not defined"
       ]
      }
     ],
     "prompt_number": 8
    },
    {
     "cell_type": "raw",
     "metadata": {},
     "source": [
      "\u041e\u0448\u0438\u0431\u043a\u0430 \u0432 \u0442\u043e\u043c, \u0447\u0442\u043e \u0438\u043c\u044f sin \u0432 \u043f\u0440\u043e\u0433\u0440\u0430\u043c\u043c\u0435 \u043d\u0435 \u043e\u043f\u0440\u0435\u0434\u0435\u043b\u0435\u043d\u043e.\n",
      "\u0414\u043b\u044f \u0438\u0441\u043f\u0440\u0430\u0432\u043b\u0435\u043d\u0438\u044f \u043e\u0448\u0438\u0431\u043a\u0438 \u043f\u0440\u043e\u0438\u0437\u0432\u0435\u0434\u0435\u043c \u0438\u043c\u043f\u043e\u0440\u0442 \u0444\u0443\u043d\u043a\u0446\u0438\u0438 sin() \u0438\u0437 \u043c\u043e\u0434\u0443\u043b\u044f math."
     ]
    },
    {
     "cell_type": "code",
     "collapsed": false,
     "input": [
      "from math import sin\n",
      "x=1; print 'sin(%g)=%g' % (x, sin(x))"
     ],
     "language": "python",
     "metadata": {},
     "outputs": [
      {
       "output_type": "stream",
       "stream": "stdout",
       "text": [
        "sin(1)=0.841471\n"
       ]
      }
     ],
     "prompt_number": 9
    },
    {
     "cell_type": "heading",
     "level": 1,
     "metadata": {},
     "source": [
      "1.8 Type in program text"
     ]
    },
    {
     "cell_type": "markdown",
     "metadata": {},
     "source": [
      "Type the following program in your editor and execute it. If your program does not work, check that you have copied the code correctly. Name of program file: `formulas_shapes.py`."
     ]
    },
    {
     "cell_type": "code",
     "collapsed": false,
     "input": [
      "from math import pi\n",
      "h = 5.0 # height\n",
      "b = 2.0 # base\n",
      "r = 1.5 # radius\n",
      "area_parallelogram = h*b\n",
      "print 'The area of the parallelogram is %.3f' % area_parallelogram\n",
      "area_square = b**2\n",
      "print 'The area of the square is %g' % area_square\n",
      "area_circle = pi*r**2\n",
      "print 'The area of the circle is %.3f' % area_circle\n",
      "volume_cone = 1.0/3*pi*r**2*h\n",
      "print 'The volume of the cone is %.3f' % volume_cone"
     ],
     "language": "python",
     "metadata": {},
     "outputs": [
      {
       "output_type": "stream",
       "stream": "stdout",
       "text": [
        "The area of the parallelogram is 10.000\n",
        "The area of the square is 4\n",
        "The area of the circle is 7.069\n",
        "The volume of the cone is 11.781\n"
       ]
      }
     ],
     "prompt_number": 10
    },
    {
     "cell_type": "heading",
     "level": 1,
     "metadata": {},
     "source": [
      "1.9 Type in programs and debug them"
     ]
    },
    {
     "cell_type": "markdown",
     "metadata": {},
     "source": [
      "Type these short programs in your editor and execute them. When they do not work, identify and correct the erroneous statements."
     ]
    },
    {
     "cell_type": "markdown",
     "metadata": {},
     "source": [
      "a) Does $sin2(x)+cos2(x)=1$?"
     ]
    },
    {
     "cell_type": "code",
     "collapsed": false,
     "input": [
      "from math import sin, cos\n",
      "x = pi/4\n",
      "1_val = sin^2(x) + cos^2(x)\n",
      "print 1_VAL"
     ],
     "language": "python",
     "metadata": {},
     "outputs": [
      {
       "ename": "SyntaxError",
       "evalue": "invalid syntax (<ipython-input-11-7e633df221e3>, line 3)",
       "output_type": "pyerr",
       "traceback": [
        "\u001b[1;36m  File \u001b[1;32m\"<ipython-input-11-7e633df221e3>\"\u001b[1;36m, line \u001b[1;32m3\u001b[0m\n\u001b[1;33m    1_val = sin^2(x) + cos^2(x)\u001b[0m\n\u001b[1;37m        ^\u001b[0m\n\u001b[1;31mSyntaxError\u001b[0m\u001b[1;31m:\u001b[0m invalid syntax\n"
       ]
      }
     ],
     "prompt_number": 11
    },
    {
     "cell_type": "raw",
     "metadata": {},
     "source": [
      "\u0418\u043c\u044f \u043f\u0435\u0440\u0435\u043c\u0435\u043d\u043d\u043e\u0439 \u043d\u0435 \u043c\u043e\u0436\u0435\u0442 \u043d\u0430\u0447\u0438\u043d\u0430\u0442\u044c\u0441\u044f \u0441 \u0446\u0438\u0444\u0440\u044b. \u0418\u0441\u043f\u0440\u0430\u0432\u043b\u044f\u0435\u043c 1_val \u043d\u0430 val_1.\n",
      "\u0420\u0435\u0433\u0438\u0441\u0442\u0440 \u0432 \u0438\u043c\u0435\u043d\u0430\u0445 \u043f\u0435\u0440\u0435\u043c\u0435\u043d\u043d\u044b\u0445 \u0432\u0430\u0436\u0435\u043d. \u0418\u0441\u043f\u0440\u0430\u0432\u043b\u044f\u0435\u043c 1_VAL \u0442\u0430\u043a\u0436\u0435 \u043d\u0430 val_1."
     ]
    },
    {
     "cell_type": "code",
     "collapsed": false,
     "input": [
      "from math import sin, cos\n",
      "x = pi/4\n",
      "val_1 = sin^2(x) + cos^2(x)\n",
      "print val_1"
     ],
     "language": "python",
     "metadata": {},
     "outputs": [
      {
       "ename": "TypeError",
       "evalue": "'int' object is not callable",
       "output_type": "pyerr",
       "traceback": [
        "\u001b[1;31m---------------------------------------------------------------------------\u001b[0m\n\u001b[1;31mTypeError\u001b[0m                                 Traceback (most recent call last)",
        "\u001b[1;32m<ipython-input-12-8c4f83524a4c>\u001b[0m in \u001b[0;36m<module>\u001b[1;34m()\u001b[0m\n\u001b[0;32m      1\u001b[0m \u001b[1;32mfrom\u001b[0m \u001b[0mmath\u001b[0m \u001b[1;32mimport\u001b[0m \u001b[0msin\u001b[0m\u001b[1;33m,\u001b[0m \u001b[0mcos\u001b[0m\u001b[1;33m\u001b[0m\u001b[0m\n\u001b[0;32m      2\u001b[0m \u001b[0mx\u001b[0m \u001b[1;33m=\u001b[0m \u001b[0mpi\u001b[0m\u001b[1;33m/\u001b[0m\u001b[1;36m4\u001b[0m\u001b[1;33m\u001b[0m\u001b[0m\n\u001b[1;32m----> 3\u001b[1;33m \u001b[0mval_1\u001b[0m \u001b[1;33m=\u001b[0m \u001b[0msin\u001b[0m\u001b[1;33m^\u001b[0m\u001b[1;36m2\u001b[0m\u001b[1;33m(\u001b[0m\u001b[0mx\u001b[0m\u001b[1;33m)\u001b[0m \u001b[1;33m+\u001b[0m \u001b[0mcos\u001b[0m\u001b[1;33m^\u001b[0m\u001b[1;36m2\u001b[0m\u001b[1;33m(\u001b[0m\u001b[0mx\u001b[0m\u001b[1;33m)\u001b[0m\u001b[1;33m\u001b[0m\u001b[0m\n\u001b[0m\u001b[0;32m      4\u001b[0m \u001b[1;32mprint\u001b[0m \u001b[0mval_1\u001b[0m\u001b[1;33m\u001b[0m\u001b[0m\n",
        "\u001b[1;31mTypeError\u001b[0m: 'int' object is not callable"
       ]
      }
     ],
     "prompt_number": 12
    },
    {
     "cell_type": "raw",
     "metadata": {},
     "source": [
      "\u0418\u043c\u044f pi \u043d\u0435 \u043e\u043f\u0440\u0435\u0434\u0435\u043b\u0435\u043d\u043e. \u0414\u043e\u0431\u0430\u0432\u043b\u044f\u0435\u043c \u0438\u043c\u043f\u043e\u0440\u0442 pi \u0438\u0437 \u043c\u043e\u0434\u0443\u043b\u044f math."
     ]
    },
    {
     "cell_type": "code",
     "collapsed": false,
     "input": [
      "from math import sin, cos, pi\n",
      "x = pi/4\n",
      "val_1 = sin^2(x) + cos^2(x)\n",
      "print val_1"
     ],
     "language": "python",
     "metadata": {},
     "outputs": [
      {
       "ename": "TypeError",
       "evalue": "'int' object is not callable",
       "output_type": "pyerr",
       "traceback": [
        "\u001b[1;31m---------------------------------------------------------------------------\u001b[0m\n\u001b[1;31mTypeError\u001b[0m                                 Traceback (most recent call last)",
        "\u001b[1;32m<ipython-input-13-2e18545b9221>\u001b[0m in \u001b[0;36m<module>\u001b[1;34m()\u001b[0m\n\u001b[0;32m      1\u001b[0m \u001b[1;32mfrom\u001b[0m \u001b[0mmath\u001b[0m \u001b[1;32mimport\u001b[0m \u001b[0msin\u001b[0m\u001b[1;33m,\u001b[0m \u001b[0mcos\u001b[0m\u001b[1;33m,\u001b[0m \u001b[0mpi\u001b[0m\u001b[1;33m\u001b[0m\u001b[0m\n\u001b[0;32m      2\u001b[0m \u001b[0mx\u001b[0m \u001b[1;33m=\u001b[0m \u001b[0mpi\u001b[0m\u001b[1;33m/\u001b[0m\u001b[1;36m4\u001b[0m\u001b[1;33m\u001b[0m\u001b[0m\n\u001b[1;32m----> 3\u001b[1;33m \u001b[0mval_1\u001b[0m \u001b[1;33m=\u001b[0m \u001b[0msin\u001b[0m\u001b[1;33m^\u001b[0m\u001b[1;36m2\u001b[0m\u001b[1;33m(\u001b[0m\u001b[0mx\u001b[0m\u001b[1;33m)\u001b[0m \u001b[1;33m+\u001b[0m \u001b[0mcos\u001b[0m\u001b[1;33m^\u001b[0m\u001b[1;36m2\u001b[0m\u001b[1;33m(\u001b[0m\u001b[0mx\u001b[0m\u001b[1;33m)\u001b[0m\u001b[1;33m\u001b[0m\u001b[0m\n\u001b[0m\u001b[0;32m      4\u001b[0m \u001b[1;32mprint\u001b[0m \u001b[0mval_1\u001b[0m\u001b[1;33m\u001b[0m\u001b[0m\n",
        "\u001b[1;31mTypeError\u001b[0m: 'int' object is not callable"
       ]
      }
     ],
     "prompt_number": 13
    },
    {
     "cell_type": "raw",
     "metadata": {},
     "source": [
      "\u0412\u043e\u0437\u0432\u0435\u0434\u0435\u043d\u0438\u0435 \u0432 \u0441\u0442\u0435\u043f\u0435\u043d\u044c \u043f\u0440\u043e\u0438\u0437\u0432\u043e\u0434\u0438\u0442\u0441\u044f \u0447\u0435\u0440\u0435\u0437 **"
     ]
    },
    {
     "cell_type": "code",
     "collapsed": false,
     "input": [
      "from math import sin, cos, pi\n",
      "x = pi/4\n",
      "val_1 = sin(x)**2 + cos(x)**2\n",
      "print val_1"
     ],
     "language": "python",
     "metadata": {},
     "outputs": [
      {
       "output_type": "stream",
       "stream": "stdout",
       "text": [
        "1.0\n"
       ]
      }
     ],
     "prompt_number": 14
    },
    {
     "cell_type": "markdown",
     "metadata": {},
     "source": [
      "b) Work with the expressions for movement with constant acceleration:"
     ]
    },
    {
     "cell_type": "code",
     "collapsed": false,
     "input": [
      "v0 = 3 m/s\n",
      "t=1s\n",
      "a = 2 m/s**2\n",
      "s = v0*t + 1/2 a*t**2\n",
      "print s"
     ],
     "language": "python",
     "metadata": {},
     "outputs": [
      {
       "ename": "SyntaxError",
       "evalue": "invalid syntax (<ipython-input-15-7ce8c0016951>, line 1)",
       "output_type": "pyerr",
       "traceback": [
        "\u001b[1;36m  File \u001b[1;32m\"<ipython-input-15-7ce8c0016951>\"\u001b[1;36m, line \u001b[1;32m1\u001b[0m\n\u001b[1;33m    v0 = 3 m/s\u001b[0m\n\u001b[1;37m           ^\u001b[0m\n\u001b[1;31mSyntaxError\u001b[0m\u001b[1;31m:\u001b[0m invalid syntax\n"
       ]
      }
     ],
     "prompt_number": 15
    },
    {
     "cell_type": "raw",
     "metadata": {},
     "source": [
      "\u0412\u044b\u043d\u043e\u0441\u0438\u043c \u0435\u0434\u0438\u043d\u0438\u0446\u044b \u0438\u0437\u043c\u0435\u0440\u0435\u043d\u0438\u044f \u043f\u043e\u0434 \u0437\u043d\u0430\u043a \u043a\u043e\u043c\u043c\u0435\u043d\u0442\u0430\u0440\u0438\u044f."
     ]
    },
    {
     "cell_type": "code",
     "collapsed": false,
     "input": [
      "v0 = 3 # m/s\n",
      "t = 1 # s\n",
      "a = 2 # m/s**2\n",
      "s = v0*t + 1/2 a*t**2\n",
      "print s"
     ],
     "language": "python",
     "metadata": {},
     "outputs": [
      {
       "ename": "SyntaxError",
       "evalue": "invalid syntax (<ipython-input-16-122fe2a61fd6>, line 4)",
       "output_type": "pyerr",
       "traceback": [
        "\u001b[1;36m  File \u001b[1;32m\"<ipython-input-16-122fe2a61fd6>\"\u001b[1;36m, line \u001b[1;32m4\u001b[0m\n\u001b[1;33m    s = v0*t + 1/2 a*t**2\u001b[0m\n\u001b[1;37m                   ^\u001b[0m\n\u001b[1;31mSyntaxError\u001b[0m\u001b[1;31m:\u001b[0m invalid syntax\n"
       ]
      }
     ],
     "prompt_number": 16
    },
    {
     "cell_type": "raw",
     "metadata": {},
     "source": [
      "\u041f\u0440\u043e\u043f\u0443\u0449\u0435\u043d\u043e \u0443\u043c\u043d\u043e\u0436\u0435\u043d\u0438\u0435."
     ]
    },
    {
     "cell_type": "code",
     "collapsed": false,
     "input": [
      "v0 = 3 # m/s\n",
      "t = 1 # s\n",
      "a = 2 # m/s**2\n",
      "s = v0*t + 1/2*a*t**2\n",
      "print s"
     ],
     "language": "python",
     "metadata": {},
     "outputs": [
      {
       "output_type": "stream",
       "stream": "stdout",
       "text": [
        "3\n"
       ]
      }
     ],
     "prompt_number": 17
    },
    {
     "cell_type": "raw",
     "metadata": {},
     "source": [
      "\u0412\u0442\u043e\u0440\u043e\u0435 \u0441\u043b\u0430\u0433\u0430\u0435\u043c\u043e\u0435 \u043e\u0431\u0440\u0430\u0442\u0438\u043b\u043e\u0441\u044c \u0432 0. \u0418\u0437\u0431\u0430\u0432\u043b\u044f\u0435\u043c\u0441\u044f \u043e\u0442 \u0446\u0435\u043b\u043e\u0447\u0438\u0441\u043b\u0435\u043d\u043d\u043e\u0433\u043e \u0434\u0435\u043b\u0435\u043d\u0438\u044f."
     ]
    },
    {
     "cell_type": "code",
     "collapsed": false,
     "input": [
      "v0 = 3 # m/s\n",
      "t = 1 # s\n",
      "a = 2 # m/s**2\n",
      "s = v0*t + 1./2*a*t**2\n",
      "print s"
     ],
     "language": "python",
     "metadata": {},
     "outputs": [
      {
       "output_type": "stream",
       "stream": "stdout",
       "text": [
        "4.0\n"
       ]
      }
     ],
     "prompt_number": 18
    },
    {
     "cell_type": "markdown",
     "metadata": {},
     "source": [
      "c) Verify these equations:  \n",
      "<center>$(a+b)^2 = a^2 + 2ab + b^2$  \n",
      "$(a\u2212b)^2 = a^2 \u2212 2ab + b^2$  </center>\n",
      "Name of program file: `a_pm_b_sqr.py`."
     ]
    },
    {
     "cell_type": "code",
     "collapsed": false,
     "input": [
      "a = 3,3 b = 5,3\n",
      "a2 = a**2\n",
      "b2 = b**2\n",
      "eq1_sum = a2 + 2ab + b2\n",
      "eq2_sum = a2 - 2ab + b2\n",
      "eq1_pow = (a + b)**2\n",
      "eq2_pow = (a - b)**2\n",
      "print 'First equation: %g = %g', % (eq1_sum, eq1_pow)\n",
      "print 'Second equation: %h = %h', % (eq2_pow, eq2_pow)"
     ],
     "language": "python",
     "metadata": {},
     "outputs": [
      {
       "ename": "SyntaxError",
       "evalue": "invalid syntax (<ipython-input-19-0afa466f104b>, line 1)",
       "output_type": "pyerr",
       "traceback": [
        "\u001b[1;36m  File \u001b[1;32m\"<ipython-input-19-0afa466f104b>\"\u001b[1;36m, line \u001b[1;32m1\u001b[0m\n\u001b[1;33m    a = 3,3 b = 5,3\u001b[0m\n\u001b[1;37m            ^\u001b[0m\n\u001b[1;31mSyntaxError\u001b[0m\u001b[1;31m:\u001b[0m invalid syntax\n"
       ]
      }
     ],
     "prompt_number": 19
    },
    {
     "cell_type": "raw",
     "metadata": {},
     "source": [
      "\u0421\u0442\u0440\u043e\u043a\u0438 \u043f\u0440\u043e\u0433\u0440\u0430\u043c\u043c\u044b \u043d\u0435 \u0440\u0430\u0437\u0434\u0435\u043b\u0435\u043d\u044b \u043c\u0435\u0436\u0434\u0443 \u0441\u043e\u0431\u043e\u0439. \u0414\u0435\u0441\u044f\u0442\u0438\u0447\u043d\u044b\u0439 \u0440\u0430\u0437\u0434\u0435\u043b\u0438\u0442\u0435\u043b\u044c - \u0442\u043e\u0447\u043a\u0430."
     ]
    },
    {
     "cell_type": "code",
     "collapsed": false,
     "input": [
      "a = 3.3; b = 5.3\n",
      "a2 = a**2\n",
      "b2 = b**2\n",
      "eq1_sum = a2 + 2ab + b2\n",
      "eq2_sum = a2 - 2ab + b2\n",
      "eq1_pow = (a + b)**2\n",
      "eq2_pow = (a - b)**2\n",
      "print 'First equation: %g = %g', % (eq1_sum, eq1_pow)\n",
      "print 'Second equation: %h = %h', % (eq2_pow, eq2_pow)"
     ],
     "language": "python",
     "metadata": {},
     "outputs": [
      {
       "ename": "SyntaxError",
       "evalue": "invalid syntax (<ipython-input-20-2e6b5d5dbc0e>, line 4)",
       "output_type": "pyerr",
       "traceback": [
        "\u001b[1;36m  File \u001b[1;32m\"<ipython-input-20-2e6b5d5dbc0e>\"\u001b[1;36m, line \u001b[1;32m4\u001b[0m\n\u001b[1;33m    eq1_sum = a2 + 2ab + b2\u001b[0m\n\u001b[1;37m                     ^\u001b[0m\n\u001b[1;31mSyntaxError\u001b[0m\u001b[1;31m:\u001b[0m invalid syntax\n"
       ]
      }
     ],
     "prompt_number": 20
    },
    {
     "cell_type": "raw",
     "metadata": {},
     "source": [
      "\u041f\u0440\u043e\u043f\u0443\u0449\u0435\u043d\u043e \u0443\u043c\u043d\u043e\u0436\u0435\u043d\u0438\u0435."
     ]
    },
    {
     "cell_type": "code",
     "collapsed": false,
     "input": [
      "a = 3.3; b = 5.3\n",
      "a2 = a**2\n",
      "b2 = b**2\n",
      "eq1_sum = a2 + 2*a*b + b2\n",
      "eq2_sum = a2 - 2*a*b + b2\n",
      "eq1_pow = (a + b)**2\n",
      "eq2_pow = (a - b)**2\n",
      "print 'First equation: %g = %g', % (eq1_sum, eq1_pow)\n",
      "print 'Second equation: %h = %h', % (eq2_pow, eq2_pow)"
     ],
     "language": "python",
     "metadata": {},
     "outputs": [
      {
       "ename": "SyntaxError",
       "evalue": "invalid syntax (<ipython-input-21-409a4d7e4e70>, line 8)",
       "output_type": "pyerr",
       "traceback": [
        "\u001b[1;36m  File \u001b[1;32m\"<ipython-input-21-409a4d7e4e70>\"\u001b[1;36m, line \u001b[1;32m8\u001b[0m\n\u001b[1;33m    print 'First equation: %g = %g', % (eq1_sum, eq1_pow)\u001b[0m\n\u001b[1;37m                                     ^\u001b[0m\n\u001b[1;31mSyntaxError\u001b[0m\u001b[1;31m:\u001b[0m invalid syntax\n"
       ]
      }
     ],
     "prompt_number": 21
    },
    {
     "cell_type": "raw",
     "metadata": {},
     "source": [
      "\u0423\u0431\u0438\u0440\u0430\u0435\u043c \u043b\u0438\u0448\u043d\u0438\u0435 \u0437\u0430\u043f\u044f\u0442\u044b\u0435."
     ]
    },
    {
     "cell_type": "code",
     "collapsed": false,
     "input": [
      "a = 3.3; b = 5.3\n",
      "a2 = a**2\n",
      "b2 = b**2\n",
      "eq1_sum = a2 + 2*a*b + b2\n",
      "eq2_sum = a2 - 2*a*b + b2\n",
      "eq1_pow = (a + b)**2\n",
      "eq2_pow = (a - b)**2\n",
      "print 'First equation: %g = %g' % (eq1_sum, eq1_pow)\n",
      "print 'Second equation: %h = %h' % (eq2_pow, eq2_pow)"
     ],
     "language": "python",
     "metadata": {},
     "outputs": [
      {
       "ename": "ValueError",
       "evalue": "unsupported format character ' ' (0x20) at index 19",
       "output_type": "pyerr",
       "traceback": [
        "\u001b[1;31m---------------------------------------------------------------------------\u001b[0m\n\u001b[1;31mValueError\u001b[0m                                Traceback (most recent call last)",
        "\u001b[1;32m<ipython-input-22-d373e8713f11>\u001b[0m in \u001b[0;36m<module>\u001b[1;34m()\u001b[0m\n\u001b[0;32m      7\u001b[0m \u001b[0meq2_pow\u001b[0m \u001b[1;33m=\u001b[0m \u001b[1;33m(\u001b[0m\u001b[0ma\u001b[0m \u001b[1;33m-\u001b[0m \u001b[0mb\u001b[0m\u001b[1;33m)\u001b[0m\u001b[1;33m**\u001b[0m\u001b[1;36m2\u001b[0m\u001b[1;33m\u001b[0m\u001b[0m\n\u001b[0;32m      8\u001b[0m \u001b[1;32mprint\u001b[0m \u001b[1;34m'First equation: %g = %g'\u001b[0m \u001b[1;33m%\u001b[0m \u001b[1;33m(\u001b[0m\u001b[0meq1_sum\u001b[0m\u001b[1;33m,\u001b[0m \u001b[0meq1_pow\u001b[0m\u001b[1;33m)\u001b[0m\u001b[1;33m\u001b[0m\u001b[0m\n\u001b[1;32m----> 9\u001b[1;33m \u001b[1;32mprint\u001b[0m \u001b[1;34m'Second equation: %h = %h'\u001b[0m \u001b[1;33m%\u001b[0m \u001b[1;33m(\u001b[0m\u001b[0meq2_pow\u001b[0m\u001b[1;33m,\u001b[0m \u001b[0meq2_pow\u001b[0m\u001b[1;33m)\u001b[0m\u001b[1;33m\u001b[0m\u001b[0m\n\u001b[0m",
        "\u001b[1;31mValueError\u001b[0m: unsupported format character ' ' (0x20) at index 19"
       ]
      },
      {
       "output_type": "stream",
       "stream": "stdout",
       "text": [
        "First equation: 73.96 = 73.96\n"
       ]
      }
     ],
     "prompt_number": 22
    },
    {
     "cell_type": "raw",
     "metadata": {},
     "source": [
      "\u041d\u0435\u0432\u0435\u0440\u043d\u044b\u0439 \u0438\u0434\u0435\u043d\u0442\u0438\u0444\u0438\u043a\u0430\u0442\u043e\u0440 \u0444\u043e\u0440\u043c\u0430\u0442\u0438\u0440\u043e\u0432\u0430\u043d\u0438\u044f. \u0417\u0430\u043c\u0435\u043d\u044f\u0435\u043c %h \u043d\u0430 %g."
     ]
    },
    {
     "cell_type": "code",
     "collapsed": false,
     "input": [
      "a = 3.3; b = 5.3\n",
      "a2 = a**2\n",
      "b2 = b**2\n",
      "eq1_sum = a2 + 2*a*b + b2\n",
      "eq2_sum = a2 - 2*a*b + b2\n",
      "eq1_pow = (a + b)**2\n",
      "eq2_pow = (a - b)**2\n",
      "print 'First equation: %g = %g' % (eq1_sum, eq1_pow)\n",
      "print 'Second equation: %g = %g' % (eq2_pow, eq2_pow)"
     ],
     "language": "python",
     "metadata": {},
     "outputs": [
      {
       "output_type": "stream",
       "stream": "stdout",
       "text": [
        "First equation: 73.96 = 73.96\n",
        "Second equation: 4 = 4\n"
       ]
      }
     ],
     "prompt_number": 23
    },
    {
     "cell_type": "raw",
     "metadata": {},
     "source": [
      "\u041b\u043e\u0433\u0438\u0447\u0435\u0441\u043a\u0430\u044f \u043e\u0448\u0438\u0431\u043a\u0430: \u0432\u043e \u0432\u0442\u043e\u0440\u043e\u043c print \u0432\u044b\u0432\u043e\u0434\u044f\u0442\u0441\u044f \u0434\u0432\u0435 \u043e\u0434\u0438\u043d\u0430\u043a\u043e\u0432\u044b\u0445 \u0432\u0435\u043b\u0438\u0447\u0438\u043d\u044b.\n",
      "\u0418 \u0437\u0430\u043c\u0435\u043d\u0438\u043c \u0444\u043e\u0440\u043c\u0430\u0442\u0438\u0440\u043e\u0432\u0430\u043d\u0438\u0435 \u043d\u0430 4 \u0437\u043d\u0430\u043a\u0430 \u043f\u043e\u0441\u043b\u0435 \u0437\u0430\u043f\u044f\u0442\u043e\u0439."
     ]
    },
    {
     "cell_type": "code",
     "collapsed": false,
     "input": [
      "a = 3.3; b = 5.3\n",
      "a2 = a**2\n",
      "b2 = b**2\n",
      "eq1_sum = a2 + 2*a*b + b2\n",
      "eq2_sum = a2 - 2*a*b + b2\n",
      "eq1_pow = (a + b)**2\n",
      "eq2_pow = (a - b)**2\n",
      "print 'First equation: %.4f = %.4f' % (eq1_sum, eq1_pow)\n",
      "print 'Second equation: %.4f = %.4f' % (eq2_sum, eq2_pow)"
     ],
     "language": "python",
     "metadata": {},
     "outputs": [
      {
       "output_type": "stream",
       "stream": "stdout",
       "text": [
        "First equation: 73.9600 = 73.9600\n",
        "Second equation: 4.0000 = 4.0000\n"
       ]
      }
     ],
     "prompt_number": 24
    },
    {
     "cell_type": "heading",
     "level": 1,
     "metadata": {},
     "source": [
      "1.10 Evaluate a Gaussian function"
     ]
    },
    {
     "cell_type": "markdown",
     "metadata": {},
     "source": [
      "The bell-shaped Gaussian function\n",
      "$$f(x)=\\frac{1}{\\sqrt{2\\pi}s}exp\\left[-\\frac{1}{2}\\left(\\frac{x-m}{s}\\right)^2\\right],$$\n",
      "is one of the most widely used functions in science and technology. The parameters $m$ and $s$ are real numbers, where $s$ must be greater than zero. Make a program for evaluating this function when $m=0$, $s=2$, and $x=1$. Verify the program\u2019s result by comparing with hand calculations on a calculator."
     ]
    },
    {
     "cell_type": "code",
     "collapsed": false,
     "input": [
      "from math import sqrt, pi, exp\n",
      "\n",
      "m = 0\n",
      "s = 2\n",
      "x = 1\n",
      "\n",
      "gaussian = 1/sqrt(2*pi)/s*exp(-0.5*(x-m)**2/s**2)\n",
      "print '%.4f' % (gaussian)"
     ],
     "language": "python",
     "metadata": {},
     "outputs": [
      {
       "output_type": "stream",
       "stream": "stdout",
       "text": [
        "0.1760\n"
       ]
      }
     ],
     "prompt_number": 25
    },
    {
     "cell_type": "heading",
     "level": 1,
     "metadata": {},
     "source": [
      "1.11 Compute the air resistance on a football"
     ]
    },
    {
     "cell_type": "markdown",
     "metadata": {},
     "source": [
      "The drag force, due to air resistance, on an object can be expressed as $$F_d=\\frac{1}{2}C_D\\rho AV^2,$$ where $\\rho$ is the density of the air, $V$ is the velocity of the object, $A$ is the cross-sectional area (normal to the velocity direction), and $C_D$ is the drag coefficient, which depends heavily on the shape of the object and the roughness of the surface.\n",
      "The gravity force on an object with mass $m$ is $F_g=mg$, where $g=9.81\\ ms^{-2}$.\n",
      "We can use the formulas for $F_d$ and $F_g$ to study the importance of air resistance versus gravity when kicking a football. The density of air is $\\rho=1.2\\ kg\\ m^{-3}$. We have $A=\\pi a^2$ for any ball with radius $a$. For a football $a=11\\ cm$. The mass of a football is $0.43\\ kg$, $C_D$ can be taken as 0.2.\n",
      "Make a program that computes the drag force and the gravity force on a football. Write out the forces with one decimal in units of Newton $(N=kg\\ m/s^2)$. Also print the ratio of the drag force and the gravity force. Define $C_D,\\ \\rho,\\ A,\\ V,\\ m,\\ g,\\ Fd,$ and $Fg$ as variables, and put a comment with the corresponding unit. Use the program to calculate the forces on the ball for a hard kick, $V=120\\ km/h$ and for a soft kick, $V=10\\ km/h$ (it is easy to mix inconsistent units, so make sure you compute with $V$ expressed in m/s). Name of program file: `kick.py`."
     ]
    },
    {
     "cell_type": "code",
     "collapsed": false,
     "input": [
      "from math import pi\n",
      "\n",
      "CD = 0.2\n",
      "ro = 1.2 # kg/m^3\n",
      "a = 0.11 # m\n",
      "m = 0.43 # kg\n",
      "g = 9.81 # m/s^2\n",
      "V1 = 120 # km/h\n",
      "V2 = 10 # km/h\n",
      "\n",
      "A = pi*a**2 # cross-sectional area of a ball\n",
      "V1m = V1/3.6 # m/s\n",
      "V2m = V2/3.6 # m/s\n",
      "\n",
      "Fd = 0.5*CD*ro*A*V1m**2\n",
      "Fg = m*g\n",
      "print 'At speed %3d km/h drag force %1.2f N, gravity force %1.2f N, ratio %1.2f'\\\n",
      "        % (V1, Fd, Fg, Fd/Fg)\n",
      "Fd = 0.5*CD*ro*A*V2m**2\n",
      "print 'At speed %3d km/h drag force %1.2f N, gravity force %1.2f N, ratio %1.2f'\\\n",
      "        % (V2, Fd, Fg, Fd/Fg)"
     ],
     "language": "python",
     "metadata": {},
     "outputs": [
      {
       "output_type": "stream",
       "stream": "stdout",
       "text": [
        "At speed 120 km/h drag force 5.07 N, gravity force 4.22 N, ratio 1.20\n",
        "At speed  10 km/h drag force 0.04 N, gravity force 4.22 N, ratio 0.01\n"
       ]
      }
     ],
     "prompt_number": 26
    },
    {
     "cell_type": "heading",
     "level": 1,
     "metadata": {},
     "source": [
      "1.12 How to cook the perfect egg"
     ]
    },
    {
     "cell_type": "markdown",
     "metadata": {},
     "source": [
      "As an egg cooks, the proteins first denature and then coagulate. When the temperature exceeds a critical point, reactions begin and proceed faster as the temperature increases. In the egg white the proteins start to coagulate for temperatures above $63^oC$, while in the yolk the proteins start to coagulate for temperatures above $70^oC$. For a soft boiled egg, the white needs to have been heated long enough to coagulate at a temperature above $63^oC$, but the yolk should not be heated above $70^oC$. For a hard boiled egg, the center of the yolk should be allowed to reach $70^oC$.\n",
      "The following formula expresses the time $t$ it takes (in seconds) for the center of the yolk to reach the temperature $T_y$ (in Celsius degrees):$$t=\\frac{M^{2/3}c\\rho^{1/3}}{K\\pi^2(4\\pi/3)^{2/3}}\\ln\\left[0.76\\frac{T_o-T_w}{T_y-T_w}\\right].$$\n",
      "Here, $M,\\ \\rho,\\ c,$ and $K$ are properties of the egg: $M$ is the mass, $\\rho$ is the density, $c$ is the specific heat capacity, and $K$ is thermal conductivity. Relevant values are $M=47\\ g$ for a small egg and $M=67\\ g$ for a large egg, $\\rho=1.038\\ g\\ cm^{-3},\\ c=3.7\\ Jg^{-1}K^{-1}$ and $K=5.4\\cdot10^{-3}\\ Wcm^{-1}K^{-1}$. Furthermore, $T_w$ is the temperature (in C degrees) of the boiling water, and $T_0$ is the original temperature (in C degrees) of the egg before being put in the water. Implement the formula in a program, set $T_w=100^oC$ and $T_y=70^oC$, and compute $t$ for a large egg taken from the fridge ($T_0=4^oC$) and from room temperature ($T_0=20^oC$)."
     ]
    },
    {
     "cell_type": "code",
     "collapsed": false,
     "input": [
      "from math import log, pi\n",
      "\n",
      "Tw = 100 # all T are Celcius degrees\n",
      "Ty = 70\n",
      "To1 = 4\n",
      "To2 = 20\n",
      "M = 67 # g\n",
      "ro = 1.038 # g/cm^3\n",
      "c = 3.7 # J/g/K\n",
      "K = 5.4e-3 # W/cm/K\n",
      "\n",
      "t1 = M**(2./3)*c*ro**(1./3)/K/pi**2/(4*pi/3)**(2./3)*log(0.76*(To1-Tw)/(Ty-Tw),2)\n",
      "t2 = M**(2./3)*c*ro**(1./3)/K/pi**2/(4*pi/3)**(2./3)*log(0.76*(To2-Tw)/(Ty-Tw),2)\n",
      "print 'To cook soft boiled big egg you need:'\n",
      "print '%d seconds or %.1f minutes for fridged egg' % (t1, t1/60)\n",
      "print '%d seconds or %.1f minutes for room temperature egg' % (t2, t2/60)"
     ],
     "language": "python",
     "metadata": {},
     "outputs": [
      {
       "output_type": "stream",
       "stream": "stdout",
       "text": [
        "To cook soft boiled big egg you need:\n",
        "572 seconds or 9.5 minutes for fridged egg\n",
        "454 seconds or 7.6 minutes for room temperature egg\n"
       ]
      }
     ],
     "prompt_number": 27
    },
    {
     "cell_type": "heading",
     "level": 1,
     "metadata": {},
     "source": [
      "1.14 Find errors in the coding of formulas"
     ]
    },
    {
     "cell_type": "markdown",
     "metadata": {},
     "source": [
      "Some versions of our program for calculating the formula (1.2) are listed below. Determine which versions that will not work correctly and explain why in each case.\n",
      "- C = 21; F = 9/5*C + 32; print F\n",
      "- C = 21.0; F = (9/5)*C + 32; print F\n",
      "- C = 21.0; F = 9*C/5 + 32; print F\n",
      "- C = 21.0; F = 9.*(C/5.0) + 32; print F\n",
      "- C = 21.0; F = 9.0*C/5.0 + 32; print F\n",
      "- C = 21; F = 9*C/5 + 32; print F\n",
      "- C = 21.0; F = (1/5)*9*C + 32; print F\n",
      "- C = 21; F = (1./5)*9*C + 32; print F"
     ]
    },
    {
     "cell_type": "code",
     "collapsed": false,
     "input": [
      "C = 21; F = 9/5*C + 32; print F\n",
      "C = 21.0; F = (9/5)*C + 32; print F\n",
      "C = 21.0; F = 9*C/5 + 32; print F\n",
      "C = 21.0; F = 9.*(C/5.0) + 32; print F\n",
      "C = 21.0; F = 9.0*C/5.0 + 32; print F\n",
      "C = 21; F = 9*C/5 + 32; print F\n",
      "C = 21.0; F = (1/5)*9*C + 32; print F\n",
      "C = 21; F = (1./5)*9*C + 32; print F"
     ],
     "language": "python",
     "metadata": {},
     "outputs": [
      {
       "output_type": "stream",
       "stream": "stdout",
       "text": [
        "53\n",
        "53.0\n",
        "69.8\n",
        "69.8\n",
        "69.8\n",
        "69\n",
        "32.0\n",
        "69.8\n"
       ]
      }
     ],
     "prompt_number": 28
    },
    {
     "cell_type": "raw",
     "metadata": {},
     "source": [
      "C = 21; F = 9/5*C + 32             9/5 = 1 - integer division\n",
      "C = 21.0; F = (9/5)*C + 32         9/5 = 1 - integer division\n",
      "C = 21.0; F = 9*C/5 + 32           All OK\n",
      "C = 21.0; F = 9.*(C/5.0) + 32      All OK\n",
      "C = 21.0; F = 9.0*C/5.0 + 32       All OK\n",
      "C = 21; F = 9*C/5 + 32             9*21/5 = 37 - integer division\n",
      "C = 21.0; F = (1/5)*9*C + 32       1/5 = 0 - integer division\n",
      "C = 21; F = (1./5)*9*C + 32        All OK"
     ]
    },
    {
     "cell_type": "heading",
     "level": 1,
     "metadata": {},
     "source": [
      "1.15 Explain why a program does not work"
     ]
    },
    {
     "cell_type": "markdown",
     "metadata": {},
     "source": [
      "Find out why the following program does not work:\n",
      "\n",
      "    C = A + B\n",
      "    A = 3\n",
      "    B = 2\n",
      "    print C"
     ]
    },
    {
     "cell_type": "code",
     "collapsed": false,
     "input": [
      "C = A + B\n",
      "A = 3\n",
      "B = 2\n",
      "print C"
     ],
     "language": "python",
     "metadata": {},
     "outputs": [
      {
       "ename": "NameError",
       "evalue": "name 'B' is not defined",
       "output_type": "pyerr",
       "traceback": [
        "\u001b[1;31m---------------------------------------------------------------------------\u001b[0m\n\u001b[1;31mNameError\u001b[0m                                 Traceback (most recent call last)",
        "\u001b[1;32m<ipython-input-29-b8c3247d64e7>\u001b[0m in \u001b[0;36m<module>\u001b[1;34m()\u001b[0m\n\u001b[1;32m----> 1\u001b[1;33m \u001b[0mC\u001b[0m \u001b[1;33m=\u001b[0m \u001b[0mA\u001b[0m \u001b[1;33m+\u001b[0m \u001b[0mB\u001b[0m\u001b[1;33m\u001b[0m\u001b[0m\n\u001b[0m\u001b[0;32m      2\u001b[0m \u001b[0mA\u001b[0m \u001b[1;33m=\u001b[0m \u001b[1;36m3\u001b[0m\u001b[1;33m\u001b[0m\u001b[0m\n\u001b[0;32m      3\u001b[0m \u001b[0mB\u001b[0m \u001b[1;33m=\u001b[0m \u001b[1;36m2\u001b[0m\u001b[1;33m\u001b[0m\u001b[0m\n\u001b[0;32m      4\u001b[0m \u001b[1;32mprint\u001b[0m \u001b[0mC\u001b[0m\u001b[1;33m\u001b[0m\u001b[0m\n",
        "\u001b[1;31mNameError\u001b[0m: name 'B' is not defined"
       ]
      }
     ],
     "prompt_number": 29
    },
    {
     "cell_type": "raw",
     "metadata": {},
     "source": [
      "\u041d\u0430 \u043c\u043e\u043c\u0435\u043d\u0442 \u0432\u044b\u0447\u0438\u0441\u043b\u0435\u043d\u0438\u044f C \u043f\u0435\u0440\u0435\u043c\u0435\u043d\u043d\u044b\u0435 A \u0438 B \u043d\u0435 \u043e\u043f\u0440\u0435\u0434\u0435\u043b\u0435\u043d\u044b. \u041d\u0443\u0436\u043d\u043e \u043f\u0435\u0440\u0432\u0443\u044e \u0441\u0442\u0440\u043e\u043a\u0443 \u043f\u0440\u043e\u0433\u0440\u0430\u043c\u043c\u044b \u043f\u043e\u0441\u0442\u0430\u0432\u0438\u0442\u044c \u0442\u0440\u0435\u0442\u044c\u0435\u0439 \u0441\u0442\u0440\u043e\u043a\u043e\u0439:"
     ]
    },
    {
     "cell_type": "code",
     "collapsed": false,
     "input": [
      "A = 3\n",
      "B = 2\n",
      "C = A + B\n",
      "print C"
     ],
     "language": "python",
     "metadata": {},
     "outputs": [
      {
       "output_type": "stream",
       "stream": "stdout",
       "text": [
        "5\n"
       ]
      }
     ],
     "prompt_number": 30
    },
    {
     "cell_type": "heading",
     "level": 1,
     "metadata": {},
     "source": [
      "1.16 Find errors in Python statements"
     ]
    },
    {
     "cell_type": "markdown",
     "metadata": {},
     "source": [
      "Try the following statements in an interactive Python shell. Explain why some statements fail and correct the errors.\n",
      "\n",
      "    1a = 2\n",
      "    a1 = b\n",
      "    x = 2\n",
      "    y = X + 4 # is it 6?\n",
      "    from Math import tan\n",
      "    print tan(pi)\n",
      "    pi = \"3.14159\u2019\n",
      "    print tan(pi)\n",
      "    c = 4**3**2**3\n",
      "    _ = ((c-78564)/c + 32))\n",
      "    discount = 12%\n",
      "    AMOUNT = 120.-\n",
      "    amount = 120$\n",
      "    address = hpl@simula.no\n",
      "    and = duck\n",
      "    class = \u2019INF1100, gr 2\"\n",
      "    continue_ = x > 0\n",
      "    rev = fox = True\n",
      "    Norwegian = [\u2019a human language\u2019]\n",
      "    true = fox is rev in Norwegian\n",
      "\n",
      "Hint: It might be wise to test the values of the expressions on the righthand side, and the validity of the variable names, separately before you put the left- and right-hand sides together in statements. The last two statements work, but explaining why goes beyond what is treated in this chapter."
     ]
    },
    {
     "cell_type": "code",
     "collapsed": false,
     "input": [
      "1a = 2"
     ],
     "language": "python",
     "metadata": {},
     "outputs": [
      {
       "ename": "SyntaxError",
       "evalue": "invalid syntax (<ipython-input-31-e584c2af49fe>, line 1)",
       "output_type": "pyerr",
       "traceback": [
        "\u001b[1;36m  File \u001b[1;32m\"<ipython-input-31-e584c2af49fe>\"\u001b[1;36m, line \u001b[1;32m1\u001b[0m\n\u001b[1;33m    1a = 2\u001b[0m\n\u001b[1;37m     ^\u001b[0m\n\u001b[1;31mSyntaxError\u001b[0m\u001b[1;31m:\u001b[0m invalid syntax\n"
       ]
      }
     ],
     "prompt_number": 31
    },
    {
     "cell_type": "raw",
     "metadata": {},
     "source": [
      "\u0418\u043c\u044f \u043f\u0435\u0440\u0435\u043c\u0435\u043d\u043d\u043e\u0439 \u043d\u0435 \u043c\u043e\u0436\u0435\u0442 \u043d\u0430\u0447\u0438\u043d\u0430\u0442\u044c\u0441\u044f \u0441 \u0446\u0438\u0444\u0440\u044b."
     ]
    },
    {
     "cell_type": "code",
     "collapsed": false,
     "input": [
      "# \u0418\u0441\u043f\u0440\u0430\u0432\u043b\u044f\u0435\u043c\n",
      "a1 = 2\n",
      "\n",
      "# \u041f\u0440\u043e\u0434\u043e\u043b\u0436\u0430\u0435\u043c\n",
      "a1 = b"
     ],
     "language": "python",
     "metadata": {},
     "outputs": [],
     "prompt_number": 32
    },
    {
     "cell_type": "raw",
     "metadata": {},
     "source": [
      "\u041f\u0435\u0440\u0435\u043c\u0435\u043d\u043d\u0430\u044f b \u043d\u0435 \u043e\u043f\u0440\u0435\u0434\u0435\u043b\u0435\u043d\u0430."
     ]
    },
    {
     "cell_type": "code",
     "collapsed": false,
     "input": [
      "# \u0418\u0441\u043f\u0440\u0430\u0432\u043b\u044f\u0435\u043c\n",
      "b = 3\n",
      "a1 = b\n",
      "\n",
      "# \u041f\u0440\u043e\u0434\u043e\u043b\u0436\u0430\u0435\u043c\n",
      "x = 2"
     ],
     "language": "python",
     "metadata": {},
     "outputs": [],
     "prompt_number": 33
    },
    {
     "cell_type": "code",
     "collapsed": false,
     "input": [
      "y = X + 4 # is it 6?"
     ],
     "language": "python",
     "metadata": {},
     "outputs": [
      {
       "ename": "NameError",
       "evalue": "name 'X' is not defined",
       "output_type": "pyerr",
       "traceback": [
        "\u001b[1;31m---------------------------------------------------------------------------\u001b[0m\n\u001b[1;31mNameError\u001b[0m                                 Traceback (most recent call last)",
        "\u001b[1;32m<ipython-input-34-0bb153a18c14>\u001b[0m in \u001b[0;36m<module>\u001b[1;34m()\u001b[0m\n\u001b[1;32m----> 1\u001b[1;33m \u001b[0my\u001b[0m \u001b[1;33m=\u001b[0m \u001b[0mX\u001b[0m \u001b[1;33m+\u001b[0m \u001b[1;36m4\u001b[0m \u001b[1;31m# is it 6?\u001b[0m\u001b[1;33m\u001b[0m\u001b[0m\n\u001b[0m",
        "\u001b[1;31mNameError\u001b[0m: name 'X' is not defined"
       ]
      }
     ],
     "prompt_number": 34
    },
    {
     "cell_type": "raw",
     "metadata": {},
     "source": [
      "X \u0438 x - \u0440\u0430\u0437\u043d\u044b\u0435 \u0438\u043c\u0435\u043d\u0430. \u041f\u0435\u0440\u0435\u043c\u0435\u043d\u043d\u0430\u044f X \u043d\u0435 \u043e\u043f\u0440\u0435\u0434\u0435\u043b\u0435\u043d\u0430."
     ]
    },
    {
     "cell_type": "code",
     "collapsed": false,
     "input": [
      "# \u0418\u0441\u043f\u0440\u0430\u0432\u043b\u044f\u0435\u043c\n",
      "y = x + 4 # is it 6?\n",
      "print y\n",
      "\n",
      "# \u041f\u0440\u043e\u0434\u043e\u043b\u0436\u0430\u0435\u043c\n",
      "from Math import tan"
     ],
     "language": "python",
     "metadata": {},
     "outputs": [
      {
       "ename": "ImportError",
       "evalue": "No module named Math",
       "output_type": "pyerr",
       "traceback": [
        "\u001b[1;31m---------------------------------------------------------------------------\u001b[0m\n\u001b[1;31mImportError\u001b[0m                               Traceback (most recent call last)",
        "\u001b[1;32m<ipython-input-35-70b1261e5a30>\u001b[0m in \u001b[0;36m<module>\u001b[1;34m()\u001b[0m\n\u001b[0;32m      4\u001b[0m \u001b[1;33m\u001b[0m\u001b[0m\n\u001b[0;32m      5\u001b[0m \u001b[1;31m# \u041f\u0440\u043e\u0434\u043e\u043b\u0436\u0430\u0435\u043c\u001b[0m\u001b[1;33m\u001b[0m\u001b[1;33m\u001b[0m\u001b[0m\n\u001b[1;32m----> 6\u001b[1;33m \u001b[1;32mfrom\u001b[0m \u001b[0mMath\u001b[0m \u001b[1;32mimport\u001b[0m \u001b[0mtan\u001b[0m\u001b[1;33m\u001b[0m\u001b[0m\n\u001b[0m",
        "\u001b[1;31mImportError\u001b[0m: No module named Math"
       ]
      },
      {
       "output_type": "stream",
       "stream": "stdout",
       "text": [
        "6\n"
       ]
      }
     ],
     "prompt_number": 35
    },
    {
     "cell_type": "raw",
     "metadata": {},
     "source": [
      "\u041f\u0440\u0430\u0432\u0438\u043b\u044c\u043d\u043e\u0435 \u0438\u043c\u044f \u043c\u043e\u0434\u0443\u043b\u044f - math."
     ]
    },
    {
     "cell_type": "code",
     "collapsed": false,
     "input": [
      "# \u0418\u0441\u043f\u0440\u0430\u0432\u043b\u044f\u0435\u043c\n",
      "from math import tan\n",
      "\n",
      "# \u041f\u0440\u043e\u0434\u043e\u043b\u0436\u0430\u0435\u043c\n",
      "print tan(pi)"
     ],
     "language": "python",
     "metadata": {},
     "outputs": [
      {
       "output_type": "stream",
       "stream": "stdout",
       "text": [
        "-1.22464679915e-16\n"
       ]
      }
     ],
     "prompt_number": 36
    },
    {
     "cell_type": "raw",
     "metadata": {},
     "source": [
      "\u0418\u043c\u043f\u043e\u0440\u0442\u0438\u0440\u043e\u0432\u0430\u043d\u0430 \u0442\u043e\u043b\u044c\u043a\u043e \u0444\u0443\u043d\u043a\u0446\u0438\u044f tan. \u041f\u0435\u0440\u0435\u043c\u0435\u043d\u043d\u0430\u044f pi \u043d\u0435 \u043e\u043f\u0440\u0435\u0434\u0435\u043b\u0435\u043d\u0430."
     ]
    },
    {
     "cell_type": "code",
     "collapsed": false,
     "input": [
      "# \u041f\u0440\u043e\u0434\u043e\u043b\u0436\u0430\u0435\u043c\n",
      "pi = \"3.14159'"
     ],
     "language": "python",
     "metadata": {},
     "outputs": [
      {
       "ename": "SyntaxError",
       "evalue": "EOL while scanning string literal (<ipython-input-37-474696bdff5a>, line 2)",
       "output_type": "pyerr",
       "traceback": [
        "\u001b[1;36m  File \u001b[1;32m\"<ipython-input-37-474696bdff5a>\"\u001b[1;36m, line \u001b[1;32m2\u001b[0m\n\u001b[1;33m    pi = \"3.14159'\u001b[0m\n\u001b[1;37m                 ^\u001b[0m\n\u001b[1;31mSyntaxError\u001b[0m\u001b[1;31m:\u001b[0m EOL while scanning string literal\n"
       ]
      }
     ],
     "prompt_number": 37
    },
    {
     "cell_type": "raw",
     "metadata": {},
     "source": [
      "\u041a\u0430\u0432\u044b\u0447\u043a\u0438 \u0434\u043e\u043b\u0436\u043d\u044b \u0431\u044b\u0442\u044c \u043e\u0434\u0438\u043d\u0430\u043a\u043e\u0432\u044b\u043c\u0438 \u0432 \u043d\u0430\u0447\u0430\u043b\u0435 \u0438 \u0432 \u043a\u043e\u043d\u0446\u0435 \u0441\u0442\u0440\u043e\u043a\u0438."
     ]
    },
    {
     "cell_type": "code",
     "collapsed": false,
     "input": [
      "# \u0418\u0441\u043f\u0440\u0430\u0432\u043b\u044f\u0435\u043c\n",
      "pi = \"3.14159\"\n",
      "\n",
      "# \u041f\u0440\u043e\u0434\u043e\u043b\u0436\u0430\u0435\u043c\n",
      "print tan(pi)"
     ],
     "language": "python",
     "metadata": {},
     "outputs": [
      {
       "ename": "TypeError",
       "evalue": "a float is required",
       "output_type": "pyerr",
       "traceback": [
        "\u001b[1;31m---------------------------------------------------------------------------\u001b[0m\n\u001b[1;31mTypeError\u001b[0m                                 Traceback (most recent call last)",
        "\u001b[1;32m<ipython-input-38-294c8d31ee45>\u001b[0m in \u001b[0;36m<module>\u001b[1;34m()\u001b[0m\n\u001b[0;32m      3\u001b[0m \u001b[1;33m\u001b[0m\u001b[0m\n\u001b[0;32m      4\u001b[0m \u001b[1;31m# \u041f\u0440\u043e\u0434\u043e\u043b\u0436\u0430\u0435\u043c\u001b[0m\u001b[1;33m\u001b[0m\u001b[1;33m\u001b[0m\u001b[0m\n\u001b[1;32m----> 5\u001b[1;33m \u001b[1;32mprint\u001b[0m \u001b[0mtan\u001b[0m\u001b[1;33m(\u001b[0m\u001b[0mpi\u001b[0m\u001b[1;33m)\u001b[0m\u001b[1;33m\u001b[0m\u001b[0m\n\u001b[0m",
        "\u001b[1;31mTypeError\u001b[0m: a float is required"
       ]
      }
     ],
     "prompt_number": 38
    },
    {
     "cell_type": "raw",
     "metadata": {},
     "source": [
      "\u041c\u044b \u043e\u043f\u0440\u0435\u0434\u0435\u043b\u0438\u043b\u0438 pi \u043a\u0430\u043a \u0441\u0442\u0440\u043e\u043a\u0443, \u0430 \u0444\u0443\u043d\u043a\u0446\u0438\u0438 tan \u043d\u0435\u043e\u0431\u0445\u043e\u0434\u0438\u043c \u0430\u0440\u0433\u0443\u043c\u0435\u043d\u0442 \u0442\u0438\u043f\u0430 float."
     ]
    },
    {
     "cell_type": "code",
     "collapsed": false,
     "input": [
      "# \u0418\u0441\u043f\u0440\u0430\u0432\u043b\u044f\u0435\u043c\n",
      "from math import pi\n",
      "print tan(pi)\n",
      "\n",
      "# \u041f\u0440\u043e\u0434\u043e\u043b\u0436\u0430\u0435\u043c\n",
      "c = 4**3**2**3\n",
      "print c"
     ],
     "language": "python",
     "metadata": {},
     "outputs": [
      {
       "output_type": "stream",
       "stream": "stdout",
       "text": [
        "-1.22464679915e-16\n",
        "130497773734304738645386430975283381005438803762497925495697899928454566836740531906196249321158156071400708183150199087393059051036948873154599697229779419116108396911215454331019360637097400997928706348402294627030649617873852077612186257898003509348455331221588308813824234075471424175623276107014717732843484978473577357292362887961652389236186958883218421037849602384713228121202971258425502819965182162076920222237330769769263519786315096184073352772969943582697252125323323271078014040107067988992764068162477432121612331661522251806400858248386550385563104791802697828103643168531204002326790183135765922253978727138883810116913448662430627210273161024891424481184100013610072842959145690702777781465625614042011618217972635293552785347191598359305803648504567750757893039456097319823334325108635659804059331952099380728523511447134610453553606411399257136958719310238537633960720582584824091738029447426668508276150176629891011941734070920620242220613687199590592443717827156824233617904446681813420093805949112467081783917426881873102772477430019336090633167339656498182735856693023654313901881874153815444888346990374285433797945710188087006875128782648829493957811500602410691829365100473335467094646056634013165590448767543180263204672887769478331818142104605095962370509281034650050105563761995713695076848909005670191054281937445405837529510586586105058730580590183743629025270852009295727278033895283073725995796228142672738638845918775396738213091407496483263141767185437548366045533080889088412674366126267888610545339709034360938017790645298810519921195243729291793778135633428913270740844407738375777369149026195692016567792072394719530702626331593797793817981141497297574263271143522309145329304395422894550681029447953717321767252312863856385151459035586709119224018368744383174734227195899293025887972957751112163963000215474660630260138881879657204327316430645250960399522396668206334280378934470001008648650957271969545206991759109075919336884578737967408919198494660192550870906320553305602528957365151518855075666928311952869342982923446153665743133807111342291612450011410074735935991930007342561231483799190809069239561104862475071841251954750801625219036525567234024887826216026491753309672730714809916860252431438603857694638688520180904827008620158413133684933407020449498796941573800283830124698107775385436419158005644957408064588549493139436992503347898724048919921767599681821876085910873926988457745158120624334279530683242593688680782386297034215077386355878617930403555102021643569708607383629578054520722347294138608574784023849353151681392681065344397075217568561990493984940133593224781171831375917818818338728788627453333885413133719104978999302652125390645172587786785281917269929943043827968755109495240956233512600508983627322170563047937012039999472699860669389135680112070584113602359462055145128194835550719822062174106295494345617015624257015865464611408286727004985543209259113196790713117680077466333016716365373270746378973031628223547095626084774459832030487047680338906693820317146207016060049130292857658736593383677088588315690574052658520896559148524914087263536117058344737241211205599767420268111657706427280216210723404144886277038127309247719211588691678333350495007934022518772150917303638763938093851767621514732760148025612475442843896293400914079215967511033312618921770764916587187972643234767631843533904290506586646782839667497954229499791179758250647146949089180624048455427680701901507734301697910826720603153250942989795083356085071155829570619161457938537886490341772732817598572826037729718774042122195663649888607560962169345227359775912451769824685068342472866161592012183184980317264537328681176232104909514047198247546533417904675137109445941316107478085562910464155705885151597620788632224014614827970972282736761816438045554315685096796257974161336138606655513816520982101954504224620247236178677698942802310871847087787439258487538774912053676976191461749049515315298304\n"
       ]
      }
     ],
     "prompt_number": 39
    },
    {
     "cell_type": "code",
     "collapsed": false,
     "input": [
      "# \u041f\u0440\u043e\u0434\u043e\u043b\u0436\u0430\u0435\u043c\n",
      "_ = ((c-78564)/c + 32))"
     ],
     "language": "python",
     "metadata": {},
     "outputs": [
      {
       "ename": "SyntaxError",
       "evalue": "invalid syntax (<ipython-input-40-4bfdf6c0234f>, line 2)",
       "output_type": "pyerr",
       "traceback": [
        "\u001b[1;36m  File \u001b[1;32m\"<ipython-input-40-4bfdf6c0234f>\"\u001b[1;36m, line \u001b[1;32m2\u001b[0m\n\u001b[1;33m    _ = ((c-78564)/c + 32))\u001b[0m\n\u001b[1;37m                          ^\u001b[0m\n\u001b[1;31mSyntaxError\u001b[0m\u001b[1;31m:\u001b[0m invalid syntax\n"
       ]
      }
     ],
     "prompt_number": 40
    },
    {
     "cell_type": "raw",
     "metadata": {},
     "source": [
      "\u041b\u0438\u0448\u043d\u044f\u044f \u0437\u0430\u043a\u0440\u044b\u0432\u0430\u044e\u0449\u0430\u044f \u0441\u043a\u043e\u0431\u043a\u0430."
     ]
    },
    {
     "cell_type": "code",
     "collapsed": false,
     "input": [
      "# \u0418\u0441\u043f\u0440\u0430\u0432\u043b\u044f\u0435\u043c\n",
      "_ = ((c-78564)/c + 32)\n",
      "print _"
     ],
     "language": "python",
     "metadata": {},
     "outputs": [
      {
       "output_type": "stream",
       "stream": "stdout",
       "text": [
        "32\n"
       ]
      }
     ],
     "prompt_number": 41
    },
    {
     "cell_type": "code",
     "collapsed": false,
     "input": [
      "# \u041f\u0440\u043e\u0434\u043e\u043b\u0436\u0430\u0435\u043c\n",
      "discount = 12%"
     ],
     "language": "python",
     "metadata": {},
     "outputs": [
      {
       "ename": "SyntaxError",
       "evalue": "invalid syntax (<ipython-input-42-caaca0ffd16b>, line 2)",
       "output_type": "pyerr",
       "traceback": [
        "\u001b[1;36m  File \u001b[1;32m\"<ipython-input-42-caaca0ffd16b>\"\u001b[1;36m, line \u001b[1;32m2\u001b[0m\n\u001b[1;33m    discount = 12%\u001b[0m\n\u001b[1;37m                  ^\u001b[0m\n\u001b[1;31mSyntaxError\u001b[0m\u001b[1;31m:\u001b[0m invalid syntax\n"
       ]
      }
     ],
     "prompt_number": 42
    },
    {
     "cell_type": "raw",
     "metadata": {},
     "source": [
      "\u0421\u0438\u043c\u0432\u043e\u043b \u043f\u0440\u043e\u0446\u0435\u043d\u0442\u043e\u0432 \u043d\u0430\u0434\u043e \u0432\u044b\u043d\u0435\u0441\u0442\u0438 \u0437\u0430 \u0437\u043d\u0430\u043a \u043a\u043e\u043c\u043c\u0435\u043d\u0442\u0430\u0440\u0438\u044f."
     ]
    },
    {
     "cell_type": "code",
     "collapsed": false,
     "input": [
      "# \u0418\u0441\u043f\u0440\u0430\u0432\u043b\u044f\u0435\u043c\n",
      "discount = 12 # %\n",
      "\n",
      "# \u041f\u0440\u043e\u0434\u043e\u043b\u0436\u0430\u0435\u043c\n",
      "AMOUNT = 120.-"
     ],
     "language": "python",
     "metadata": {},
     "outputs": [
      {
       "ename": "SyntaxError",
       "evalue": "invalid syntax (<ipython-input-43-45aaaf30dce2>, line 5)",
       "output_type": "pyerr",
       "traceback": [
        "\u001b[1;36m  File \u001b[1;32m\"<ipython-input-43-45aaaf30dce2>\"\u001b[1;36m, line \u001b[1;32m5\u001b[0m\n\u001b[1;33m    AMOUNT = 120.-\u001b[0m\n\u001b[1;37m                  ^\u001b[0m\n\u001b[1;31mSyntaxError\u001b[0m\u001b[1;31m:\u001b[0m invalid syntax\n"
       ]
      }
     ],
     "prompt_number": 43
    },
    {
     "cell_type": "raw",
     "metadata": {},
     "source": [
      "\u041e\u0442\u0441\u0443\u0442\u0441\u0442\u0432\u0438\u0435 \u043a\u043e\u043f\u0435\u0435\u043a \u043e\u0431\u043e\u0437\u043d\u0430\u0447\u0430\u0435\u043c \u043d\u0443\u043b\u044f\u043c\u0438."
     ]
    },
    {
     "cell_type": "code",
     "collapsed": false,
     "input": [
      "# \u0418\u0441\u043f\u0440\u0430\u0432\u043b\u044f\u0435\u043c\n",
      "AMOUNT = 120.00\n",
      "\n",
      "# \u041f\u0440\u043e\u0434\u043e\u043b\u0436\u0430\u0435\u043c\n",
      "amount = 120$"
     ],
     "language": "python",
     "metadata": {},
     "outputs": [
      {
       "ename": "SyntaxError",
       "evalue": "invalid syntax (<ipython-input-44-44f486a482e1>, line 5)",
       "output_type": "pyerr",
       "traceback": [
        "\u001b[1;36m  File \u001b[1;32m\"<ipython-input-44-44f486a482e1>\"\u001b[1;36m, line \u001b[1;32m5\u001b[0m\n\u001b[1;33m    amount = 120$\u001b[0m\n\u001b[1;37m                ^\u001b[0m\n\u001b[1;31mSyntaxError\u001b[0m\u001b[1;31m:\u001b[0m invalid syntax\n"
       ]
      }
     ],
     "prompt_number": 44
    },
    {
     "cell_type": "raw",
     "metadata": {},
     "source": [
      "\u0421\u0438\u043c\u0432\u043e\u043b \u0432\u0430\u043b\u044e\u0442\u044b \u043d\u0430\u0434\u043e \u0432\u044b\u043d\u0435\u0441\u0442\u0438 \u0437\u0430 \u0437\u043d\u0430\u043a \u043a\u043e\u043c\u043c\u0435\u043d\u0442\u0430\u0440\u0438\u044f."
     ]
    },
    {
     "cell_type": "code",
     "collapsed": false,
     "input": [
      "# \u0418\u0441\u043f\u0440\u0430\u0432\u043b\u044f\u0435\u043c\n",
      "amount = 120 # $\n",
      "\n",
      "# \u041f\u0440\u043e\u0434\u043e\u043b\u0436\u0430\u0435\u043c\n",
      "address = hpl@simula.no"
     ],
     "language": "python",
     "metadata": {},
     "outputs": [
      {
       "ename": "SyntaxError",
       "evalue": "invalid syntax (<ipython-input-45-14d95f6a200d>, line 5)",
       "output_type": "pyerr",
       "traceback": [
        "\u001b[1;36m  File \u001b[1;32m\"<ipython-input-45-14d95f6a200d>\"\u001b[1;36m, line \u001b[1;32m5\u001b[0m\n\u001b[1;33m    address = hpl@simula.no\u001b[0m\n\u001b[1;37m                 ^\u001b[0m\n\u001b[1;31mSyntaxError\u001b[0m\u001b[1;31m:\u001b[0m invalid syntax\n"
       ]
      }
     ],
     "prompt_number": 45
    },
    {
     "cell_type": "raw",
     "metadata": {},
     "source": [
      "\u0421\u0442\u0440\u043e\u043a\u0438 \u0434\u043e\u043b\u0436\u043d\u044b \u0437\u0430\u043a\u043b\u044e\u0447\u0430\u0442\u044c\u0441\u044f \u0432 \u043a\u0430\u0432\u044b\u0447\u043a\u0438."
     ]
    },
    {
     "cell_type": "code",
     "collapsed": false,
     "input": [
      "# \u0418\u0441\u043f\u0440\u0430\u0432\u043b\u044f\u0435\u043c\n",
      "address = \"hpl@simula.no\"\n",
      "\n",
      "# \u041f\u0440\u043e\u0434\u043e\u043b\u0436\u0430\u0435\u043c\n",
      "and = duck"
     ],
     "language": "python",
     "metadata": {},
     "outputs": [
      {
       "ename": "SyntaxError",
       "evalue": "invalid syntax (<ipython-input-46-ef9ae485494e>, line 5)",
       "output_type": "pyerr",
       "traceback": [
        "\u001b[1;36m  File \u001b[1;32m\"<ipython-input-46-ef9ae485494e>\"\u001b[1;36m, line \u001b[1;32m5\u001b[0m\n\u001b[1;33m    and = duck\u001b[0m\n\u001b[1;37m      ^\u001b[0m\n\u001b[1;31mSyntaxError\u001b[0m\u001b[1;31m:\u001b[0m invalid syntax\n"
       ]
      }
     ],
     "prompt_number": 46
    },
    {
     "cell_type": "raw",
     "metadata": {},
     "source": [
      "\u041d\u0435\u043b\u044c\u0437\u044f \u0438\u0441\u043f\u043e\u043b\u044c\u0437\u043e\u0432\u0430\u0442\u044c \u0437\u0430\u0440\u0435\u0437\u0435\u0440\u0432\u0438\u0440\u043e\u0432\u0430\u043d\u043d\u044b\u0435 \u0441\u043b\u043e\u0432\u0430 \u0432 \u043a\u0430\u0447\u0435\u0441\u0442\u0432\u0435 \u0438\u043c\u0435\u043d\u0438 \u043f\u0435\u0440\u0435\u043c\u0435\u043d\u043d\u043e\u0439."
     ]
    },
    {
     "cell_type": "code",
     "collapsed": false,
     "input": [
      "# \u0418\u0441\u043f\u0440\u0430\u0432\u043b\u044f\u0435\u043c\n",
      "and1 = duck\n",
      "\n",
      "# \u041f\u0440\u043e\u0434\u043e\u043b\u0436\u0430\u0435\u043c\n",
      "class = 'INF1100, gr 2\""
     ],
     "language": "python",
     "metadata": {},
     "outputs": [
      {
       "ename": "SyntaxError",
       "evalue": "invalid syntax (<ipython-input-47-b968474ca9fb>, line 5)",
       "output_type": "pyerr",
       "traceback": [
        "\u001b[1;36m  File \u001b[1;32m\"<ipython-input-47-b968474ca9fb>\"\u001b[1;36m, line \u001b[1;32m5\u001b[0m\n\u001b[1;33m    class = 'INF1100, gr 2\"\u001b[0m\n\u001b[1;37m          ^\u001b[0m\n\u001b[1;31mSyntaxError\u001b[0m\u001b[1;31m:\u001b[0m invalid syntax\n"
       ]
      }
     ],
     "prompt_number": 47
    },
    {
     "cell_type": "raw",
     "metadata": {},
     "source": [
      "\u041d\u0435\u043b\u044c\u0437\u044f \u0438\u0441\u043f\u043e\u043b\u044c\u0437\u043e\u0432\u0430\u0442\u044c \u0437\u0430\u0440\u0435\u0437\u0435\u0440\u0432\u0438\u0440\u043e\u0432\u0430\u043d\u043d\u044b\u0435 \u0441\u043b\u043e\u0432\u0430 \u0432 \u043a\u0430\u0447\u0435\u0441\u0442\u0432\u0435 \u0438\u043c\u0435\u043d\u0438 \u043f\u0435\u0440\u0435\u043c\u0435\u043d\u043d\u043e\u0439.\n",
      "\u041a\u0430\u0432\u044b\u0447\u043a\u0438 \u0432 \u043d\u0430\u0447\u0430\u043b\u0435 \u0438 \u0432 \u043a\u043e\u043d\u0446\u0435 \u0441\u0442\u0440\u043e\u043a\u0438 \u0434\u043e\u043b\u0436\u043d\u044b \u0431\u044b\u0442\u044c \u043e\u0434\u043d\u043e\u0433\u043e \u0442\u0438\u043f\u0430."
     ]
    },
    {
     "cell_type": "code",
     "collapsed": false,
     "input": [
      "# \u0418\u0441\u043f\u0440\u0430\u0432\u043b\u044f\u0435\u043c\n",
      "class1 = 'INF1100, gr 2'\n",
      "\n",
      "# \u041f\u0440\u043e\u0434\u043e\u043b\u0436\u0430\u0435\u043c\n",
      "continue_ = x > 0\n",
      "print x\n",
      "print continue_"
     ],
     "language": "python",
     "metadata": {},
     "outputs": [
      {
       "output_type": "stream",
       "stream": "stdout",
       "text": [
        "2\n",
        "True\n"
       ]
      }
     ],
     "prompt_number": 48
    },
    {
     "cell_type": "raw",
     "metadata": {},
     "source": [
      "\u041f\u0435\u0440\u0435\u043c\u0435\u043d\u043d\u043e\u0439 \u043f\u0440\u0438\u0441\u0432\u043e\u0435\u043d \u0440\u0435\u0437\u0443\u043b\u044c\u0442\u0430\u0442 \u0432\u044b\u043f\u043e\u043b\u043d\u0435\u043d\u0438\u044f \u043e\u043f\u0435\u0440\u0430\u0446\u0438\u0438 \u0441\u0440\u0430\u0432\u043d\u0435\u043d\u0438\u044f: 2 > 0 = True"
     ]
    },
    {
     "cell_type": "code",
     "collapsed": false,
     "input": [
      "rev = fox = True\n",
      "print fox\n",
      "print rev"
     ],
     "language": "python",
     "metadata": {},
     "outputs": [
      {
       "output_type": "stream",
       "stream": "stdout",
       "text": [
        "True\n",
        "True\n"
       ]
      }
     ],
     "prompt_number": 49
    },
    {
     "cell_type": "code",
     "collapsed": false,
     "input": [
      "Norwegian = ['a human language']\n",
      "print Norwegian"
     ],
     "language": "python",
     "metadata": {},
     "outputs": [
      {
       "output_type": "stream",
       "stream": "stdout",
       "text": [
        "['a human language']\n"
       ]
      }
     ],
     "prompt_number": 50
    },
    {
     "cell_type": "code",
     "collapsed": false,
     "input": [
      "true = fox is rev in Norwegian\n",
      "print true"
     ],
     "language": "python",
     "metadata": {},
     "outputs": [
      {
       "output_type": "stream",
       "stream": "stdout",
       "text": [
        "False\n"
       ]
      }
     ],
     "prompt_number": 51
    },
    {
     "cell_type": "heading",
     "level": 1,
     "metadata": {},
     "source": [
      "1.17 Find errors in the coding of a formula"
     ]
    },
    {
     "cell_type": "markdown",
     "metadata": {},
     "source": [
      "Given a quadratic equation $$ax^2+bx+c=0,$$ the two roots are $$x_1=\\frac{\u2212b+\\sqrt{b^2\u22124ac}}{2a},\\  x_2=\\frac{\u2212b\u2212\\sqrt{b^2\u22124ac}}{2a}\\tag{1.17}$$\n",
      "\n",
      "What are the problems with the following program?\n",
      "\n",
      "    a = 2; b = 1; c = 2\n",
      "    from math import sqrt\n",
      "    q = sqrt(b*b - 4*a*c)\n",
      "    x1 = (-b + q)/2*a\n",
      "    x2 = (-b - q)/2*a\n",
      "    print x1, x2\n",
      "\n",
      "Hint: Compute all terms in (1.17) with the aid of a calculator, and compare with the corresponding intermediate results computed in the program (you need to add some print statements to see the result of $q,\\ -b+q,$ and $2a$)."
     ]
    },
    {
     "cell_type": "code",
     "collapsed": false,
     "input": [
      "a = 2; b = 1; c = 2\n",
      "from math import sqrt\n",
      "q = sqrt(b*b - 4*a*c)\n",
      "x1 = (-b + q)/2*a\n",
      "x2 = (-b - q)/2*a\n",
      "print x1, x2"
     ],
     "language": "python",
     "metadata": {},
     "outputs": [
      {
       "ename": "ValueError",
       "evalue": "math domain error",
       "output_type": "pyerr",
       "traceback": [
        "\u001b[1;31m---------------------------------------------------------------------------\u001b[0m\n\u001b[1;31mValueError\u001b[0m                                Traceback (most recent call last)",
        "\u001b[1;32m<ipython-input-52-f7e0d7ce3ef0>\u001b[0m in \u001b[0;36m<module>\u001b[1;34m()\u001b[0m\n\u001b[0;32m      1\u001b[0m \u001b[0ma\u001b[0m \u001b[1;33m=\u001b[0m \u001b[1;36m2\u001b[0m\u001b[1;33m;\u001b[0m \u001b[0mb\u001b[0m \u001b[1;33m=\u001b[0m \u001b[1;36m1\u001b[0m\u001b[1;33m;\u001b[0m \u001b[0mc\u001b[0m \u001b[1;33m=\u001b[0m \u001b[1;36m2\u001b[0m\u001b[1;33m\u001b[0m\u001b[0m\n\u001b[0;32m      2\u001b[0m \u001b[1;32mfrom\u001b[0m \u001b[0mmath\u001b[0m \u001b[1;32mimport\u001b[0m \u001b[0msqrt\u001b[0m\u001b[1;33m\u001b[0m\u001b[0m\n\u001b[1;32m----> 3\u001b[1;33m \u001b[0mq\u001b[0m \u001b[1;33m=\u001b[0m \u001b[0msqrt\u001b[0m\u001b[1;33m(\u001b[0m\u001b[0mb\u001b[0m\u001b[1;33m*\u001b[0m\u001b[0mb\u001b[0m \u001b[1;33m-\u001b[0m \u001b[1;36m4\u001b[0m\u001b[1;33m*\u001b[0m\u001b[0ma\u001b[0m\u001b[1;33m*\u001b[0m\u001b[0mc\u001b[0m\u001b[1;33m)\u001b[0m\u001b[1;33m\u001b[0m\u001b[0m\n\u001b[0m\u001b[0;32m      4\u001b[0m \u001b[0mx1\u001b[0m \u001b[1;33m=\u001b[0m \u001b[1;33m(\u001b[0m\u001b[1;33m-\u001b[0m\u001b[0mb\u001b[0m \u001b[1;33m+\u001b[0m \u001b[0mq\u001b[0m\u001b[1;33m)\u001b[0m\u001b[1;33m/\u001b[0m\u001b[1;36m2\u001b[0m\u001b[1;33m*\u001b[0m\u001b[0ma\u001b[0m\u001b[1;33m\u001b[0m\u001b[0m\n\u001b[0;32m      5\u001b[0m \u001b[0mx2\u001b[0m \u001b[1;33m=\u001b[0m \u001b[1;33m(\u001b[0m\u001b[1;33m-\u001b[0m\u001b[0mb\u001b[0m \u001b[1;33m-\u001b[0m \u001b[0mq\u001b[0m\u001b[1;33m)\u001b[0m\u001b[1;33m/\u001b[0m\u001b[1;36m2\u001b[0m\u001b[1;33m*\u001b[0m\u001b[0ma\u001b[0m\u001b[1;33m\u001b[0m\u001b[0m\n",
        "\u001b[1;31mValueError\u001b[0m: math domain error"
       ]
      }
     ],
     "prompt_number": 52
    },
    {
     "cell_type": "code",
     "collapsed": false,
     "input": [
      "print b*b - 4*a*c"
     ],
     "language": "python",
     "metadata": {},
     "outputs": [
      {
       "output_type": "stream",
       "stream": "stdout",
       "text": [
        "-15\n"
       ]
      }
     ],
     "prompt_number": 53
    },
    {
     "cell_type": "raw",
     "metadata": {},
     "source": [
      "\u0414\u0438\u0441\u043a\u0440\u0438\u043c\u0438\u043d\u0430\u043d\u0442 \u0443\u0440\u0430\u0432\u043d\u0435\u043d\u0438\u044f \u043e\u0442\u0440\u0438\u0446\u0430\u0442\u0435\u043b\u0435\u043d. \u041d\u0430\u0434\u043e \u0438\u0441\u043f\u043e\u043b\u044c\u0437\u043e\u0432\u0430\u0442\u044c \u0432\u0435\u0440\u0441\u0438\u044e sqrt \u0434\u043b\u044f \u043a\u043e\u043c\u043f\u043b\u0435\u043a\u0441\u043d\u044b\u0445 \u0447\u0438\u0441\u0435\u043b \u0438\u0437 \u043c\u043e\u0434\u0443\u043b\u044f cmath."
     ]
    },
    {
     "cell_type": "code",
     "collapsed": false,
     "input": [
      "a = 2; b = 1; c = 2\n",
      "from cmath import sqrt # \u0438\u043c\u043f\u043e\u0440\u0442 \u0438\u0437 \u043c\u043e\u0434\u0443\u043b\u044f \u0434\u043b\u044f \u0440\u0430\u0431\u043e\u0442\u044b \u0441 \u043a\u043e\u043c\u043f\u043b\u0435\u043a\u0441\u043d\u044b\u043c\u0438 \u0447\u0438\u0441\u043b\u0430\u043c\u0438\n",
      "q = sqrt(b*b - 4*a*c)\n",
      "x1 = (-b + q)/2*a\n",
      "x2 = (-b - q)/2*a\n",
      "print x1, x2"
     ],
     "language": "python",
     "metadata": {},
     "outputs": [
      {
       "output_type": "stream",
       "stream": "stdout",
       "text": [
        "(-1+3.87298334621j) (-1-3.87298334621j)\n"
       ]
      }
     ],
     "prompt_number": 54
    }
   ],
   "metadata": {}
  }
 ]
}