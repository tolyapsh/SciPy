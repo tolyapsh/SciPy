{
 "metadata": {
  "name": "",
  "signature": "sha256:1dca508e5d1cc148bd898c53b5885181037c728b57fc458089e8337b987dca7f"
 },
 "nbformat": 3,
 "nbformat_minor": 0,
 "worksheets": [
  {
   "cells": [
    {
     "cell_type": "heading",
     "level": 1,
     "metadata": {},
     "source": [
      "4.1 Make an interactive program"
     ]
    },
    {
     "cell_type": "markdown",
     "metadata": {},
     "source": [
      "Make a program that\n",
      "- asks the user for a temperature in Fahrenheit degrees and reads the number\n",
      "- computes the corresponding temperature in Celsius degrees\n",
      "- prints out the temperature in the Celsius scale.\n",
      "\n",
      "Name of program file: `f2c_qa.py`."
     ]
    },
    {
     "cell_type": "code",
     "collapsed": false,
     "input": [
      "F = raw_input('F = ? ')\n",
      "F = float(F)\n",
      "C = (F-32)*5/9\n",
      "print 'C =', C"
     ],
     "language": "python",
     "metadata": {},
     "outputs": [
      {
       "name": "stdout",
       "output_type": "stream",
       "stream": "stdout",
       "text": [
        "F = ? 97.88\n"
       ]
      },
      {
       "output_type": "stream",
       "stream": "stdout",
       "text": [
        "C = 36.6\n"
       ]
      }
     ],
     "prompt_number": 7
    },
    {
     "cell_type": "heading",
     "level": 1,
     "metadata": {},
     "source": [
      "4.2 Read from the command line in Exer. 4.1"
     ]
    },
    {
     "cell_type": "markdown",
     "metadata": {},
     "source": [
      "Modify the program from Exercise 4.1 such that the Fahrenheit temperature is read from the command line. Name of program file: `f2c_cml.py`."
     ]
    },
    {
     "cell_type": "code",
     "collapsed": false,
     "input": [
      "import sys\n",
      "\n",
      "F = float(sys.argv[1])\n",
      "C = (F-32)*5/9\n",
      "print C"
     ],
     "language": "python",
     "metadata": {},
     "outputs": []
    },
    {
     "cell_type": "heading",
     "level": 1,
     "metadata": {},
     "source": [
      "4.3 Use exceptions in Exer. 4.2"
     ]
    },
    {
     "cell_type": "markdown",
     "metadata": {},
     "source": [
      "Extend the program from Exercise 4.2 with a `try-except` block to handle the potential error that the Fahrenheit temperature is missing on the command line. Name of program file:`f2c_cml_exc.py`."
     ]
    },
    {
     "cell_type": "code",
     "collapsed": false,
     "input": [
      "import sys\n",
      "\n",
      "if len(sys.argv) < 2:\n",
      "    print 'Provide an argument on the command line!'\n",
      "    sys.exit(1)\n",
      "F = float(sys.argv[1])\n",
      "C = (F-32)*5/9\n",
      "print C"
     ],
     "language": "python",
     "metadata": {},
     "outputs": []
    },
    {
     "cell_type": "heading",
     "level": 1,
     "metadata": {},
     "source": [
      "4.4 Read input from the keyboard"
     ]
    },
    {
     "cell_type": "markdown",
     "metadata": {},
     "source": [
      "Make a program that asks for input from the user, applies `eval` to this input, and prints out the type of the resulting object and its value. Test the program by providing five types of input: an integer, a real number, a complex number, a list, and a tuple. Name of program file: `objects_qa.py`."
     ]
    },
    {
     "cell_type": "code",
     "collapsed": false,
     "input": [
      "for i in range(6):\n",
      "    a = eval(raw_input('Input value of any type: '))\n",
      "    print type(a)\n",
      "    print a\n",
      "    print"
     ],
     "language": "python",
     "metadata": {},
     "outputs": [
      {
       "name": "stdout",
       "output_type": "stream",
       "stream": "stdout",
       "text": [
        "Input value of any type: 1\n"
       ]
      },
      {
       "output_type": "stream",
       "stream": "stdout",
       "text": [
        "<type 'int'>\n",
        "1\n",
        "\n"
       ]
      },
      {
       "name": "stdout",
       "output_type": "stream",
       "stream": "stdout",
       "text": [
        "Input value of any type: 1.2\n"
       ]
      },
      {
       "output_type": "stream",
       "stream": "stdout",
       "text": [
        "<type 'float'>\n",
        "1.2\n",
        "\n"
       ]
      },
      {
       "name": "stdout",
       "output_type": "stream",
       "stream": "stdout",
       "text": [
        "Input value of any type: 1+2j\n"
       ]
      },
      {
       "output_type": "stream",
       "stream": "stdout",
       "text": [
        "<type 'complex'>\n",
        "(1+2j)\n",
        "\n"
       ]
      },
      {
       "name": "stdout",
       "output_type": "stream",
       "stream": "stdout",
       "text": [
        "Input value of any type: [1, 2, 3]\n"
       ]
      },
      {
       "output_type": "stream",
       "stream": "stdout",
       "text": [
        "<type 'list'>\n",
        "[1, 2, 3]\n",
        "\n"
       ]
      },
      {
       "name": "stdout",
       "output_type": "stream",
       "stream": "stdout",
       "text": [
        "Input value of any type: 1, 2, 3\n"
       ]
      },
      {
       "output_type": "stream",
       "stream": "stdout",
       "text": [
        "<type 'tuple'>\n",
        "(1, 2, 3)\n",
        "\n"
       ]
      },
      {
       "name": "stdout",
       "output_type": "stream",
       "stream": "stdout",
       "text": [
        "Input value of any type: \"tree\"\n"
       ]
      },
      {
       "output_type": "stream",
       "stream": "stdout",
       "text": [
        "<type 'str'>\n",
        "tree\n",
        "\n"
       ]
      }
     ],
     "prompt_number": 13
    },
    {
     "cell_type": "heading",
     "level": 1,
     "metadata": {},
     "source": [
      "4.5 Read input from the command line"
     ]
    },
    {
     "cell_type": "markdown",
     "metadata": {},
     "source": [
      "Let a program store the result of applying the `eval` function to the first command-line argument. Print out the resulting object and its type. Run the program with different input: an integer, a real number, a list, and a tuple. (On Unix systems you need to surround the tuple expressions in quotes on the command line to avoid error message from the Unix shell.) Try the string `\"this is a string\"` as a commandline argument. Why does this string cause problems and what is the remedy? Name of program file: `objects_cml.py`."
     ]
    },
    {
     "cell_type": "code",
     "collapsed": false,
     "input": [
      "import sys\n",
      "\n",
      "if len(sys.argv) < 2:\n",
      "    print 'Provide an argument on the command line!'\n",
      "    sys.exit(1)\n",
      "a = eval(sys.argv[1])\n",
      "print a, 'is a', type(a)"
     ],
     "language": "python",
     "metadata": {},
     "outputs": []
    },
    {
     "cell_type": "heading",
     "level": 1,
     "metadata": {},
     "source": [
      "4.6 Prompt the user for input to a formula"
     ]
    },
    {
     "cell_type": "markdown",
     "metadata": {},
     "source": [
      "Consider the simplest program for evaluating the formula $y(t)=v_0t\u22120.5gt^2$:\n",
      "\n",
      "    v0 = 3; g = 9.81; t = 0.6\n",
      "    y = v0*t - 0.5*g*t**2\n",
      "    print y\n",
      "\n",
      "Modify this code so that the program asks the user questions `t=?` and `v0=?`, and then gets `t` and `v0` from the user's input through the keyboard. Name of program file: `ball_qa.py`."
     ]
    },
    {
     "cell_type": "code",
     "collapsed": false,
     "input": [
      "g = 9.81\n",
      "t = float (raw_input('t=? '))\n",
      "v0 = float(raw_input('v0=? '))\n",
      "print 'y =', v0*t - 0.5*g*t**2"
     ],
     "language": "python",
     "metadata": {},
     "outputs": [
      {
       "name": "stdout",
       "output_type": "stream",
       "stream": "stdout",
       "text": [
        "t=? 2\n"
       ]
      },
      {
       "name": "stdout",
       "output_type": "stream",
       "stream": "stdout",
       "text": [
        "v0=? 1\n"
       ]
      },
      {
       "output_type": "stream",
       "stream": "stdout",
       "text": [
        "y = -17.62\n"
       ]
      }
     ],
     "prompt_number": 3
    },
    {
     "cell_type": "heading",
     "level": 1,
     "metadata": {},
     "source": [
      "4.7 Read command line input a formula"
     ]
    },
    {
     "cell_type": "markdown",
     "metadata": {},
     "source": [
      "Modify the program listed in Exercise 4.6 such that `v0` and `t` are read from the command line. Name of program file: `ball_cml.py`."
     ]
    },
    {
     "cell_type": "code",
     "collapsed": false,
     "input": [
      "import sys\n",
      "g = 9.81\n",
      "t = float (sys.argv[1])\n",
      "v0 = float(sys.argv[2])\n",
      "print 'y =', v0*t - 0.5*g*t**2"
     ],
     "language": "python",
     "metadata": {},
     "outputs": []
    },
    {
     "cell_type": "heading",
     "level": 1,
     "metadata": {},
     "source": [
      "4.8 Make the program from Exer. 4.7 safer"
     ]
    },
    {
     "cell_type": "markdown",
     "metadata": {},
     "source": [
      "The program from Exercise 4.7 reads input from the command line. Extend that program with exception handling such that missing command-line arguments are detected. In the `except IndexError` block, use the `raw_input` function to ask the user for missing input data. Name of program file: `ball_cml_qa.py`."
     ]
    },
    {
     "cell_type": "code",
     "collapsed": false,
     "input": [
      "import sys\n",
      "if len(sys.argv) < 3:\n",
      "    print 'Bad arquments!'\n",
      "    print 'Usage: python ball_cml.py t v0'\n",
      "    print 'Example: python ball_cml.py 1 2'\n",
      "    sys.exit(1)\n",
      "g = 9.81\n",
      "t = float (sys.argv[1])\n",
      "v0 = float(sys.argv[2])\n",
      "print 'y =', v0*t - 0.5*g*t**2"
     ],
     "language": "python",
     "metadata": {},
     "outputs": []
    },
    {
     "cell_type": "heading",
     "level": 1,
     "metadata": {},
     "source": [
      "4.9 Test more in the program from Exer. 4.7"
     ]
    },
    {
     "cell_type": "markdown",
     "metadata": {},
     "source": [
      "Test if the `t` value read in the program from Exercise 4.7 lies between\n",
      "$0$ and $2v_0/g$. If not, print a message and abort execution. Name of\n",
      "program file: `ball_cml_errorcheck.py`."
     ]
    },
    {
     "cell_type": "code",
     "collapsed": false,
     "input": [
      "import sys\n",
      "if len(sys.argv) < 3:\n",
      "    print 'Bad arquments!'\n",
      "    print 'Usage: python ball_cml.py t v0'\n",
      "    print 'Example: python ball_cml.py 1 2'\n",
      "    sys.exit(1)\n",
      "g = 9.81\n",
      "t = float (sys.argv[1])\n",
      "v0 = float(sys.argv[2])\n",
      "if (t > 0) and (t < 2*v0/g):\n",
      "    print 'y =', v0*t - 0.5*g*t**2\n",
      "else:\n",
      "    print 'Bad t argument!'\n",
      "    print 't must be between 0 and 2v0/g. Abort.'\n",
      "    sys.exit(1)"
     ],
     "language": "python",
     "metadata": {},
     "outputs": []
    },
    {
     "cell_type": "heading",
     "level": 1,
     "metadata": {},
     "source": [
      "4.10 Raise an exception in Exer. 4.9"
     ]
    },
    {
     "cell_type": "markdown",
     "metadata": {},
     "source": [
      "Instead of printing an error message and aborting the program explicitly, raise a `ValueError` exception in the `if` test on legal `t` values in\n",
      "the program from Exercise 4.9. Include the legal interval for $t$ in the exception message. Name of program file: `ball_cml_ValueError.py`."
     ]
    },
    {
     "cell_type": "code",
     "collapsed": false,
     "input": [
      "import sys\n",
      "if len(sys.argv) < 3:\n",
      "    print 'Bad arquments!'\n",
      "    print 'Usage: python ball_cml.py t v0'\n",
      "    print 'Example: python ball_cml.py 1 2'\n",
      "    sys.exit(1)\n",
      "g = 9.81\n",
      "t = float (sys.argv[1])\n",
      "v0 = float(sys.argv[2])\n",
      "try:\n",
      "    if (t > 0) and (t < 2*v0/g):\n",
      "        print 'y =', v0*t - 0.5*g*t**2\n",
      "    else:\n",
      "        raise ValueError('Bad t argument! t must be between 0 and 2*v0/g')\n",
      "except Exception, e:\n",
      "    print e\n",
      "    sys.exit(1)"
     ],
     "language": "python",
     "metadata": {},
     "outputs": []
    },
    {
     "cell_type": "heading",
     "level": 1,
     "metadata": {},
     "source": [
      "4.11 Compute the distance it takes to stop a car"
     ]
    },
    {
     "cell_type": "markdown",
     "metadata": {},
     "source": [
      "A car driver, driving at velocity $v_0$, suddenly puts on the brake. What braking distance $d$ is needed to stop the car? One can derive, using Newton\u2019s second law of motion or a corresponding energy equation, that $$d=\\frac{1}{2}\\frac{v_0^2}{\u03bcg}\\tag{4.7}$$\n",
      "Make a program for computing $d$ in (4.7) when the initial car velocity $v_0$ and the friction coefficient $\u03bc$ are given on the command line. Run the program for two cases: $v_0=120$ and $v_0=50$ km/h, both with $\u03bc=0.3$ ($\u03bc$ is dimensionless). (Remember to convert the velocity from km/h to m/s before inserting the value in the formula!) Name of program file: `stopping_length.py`."
     ]
    },
    {
     "cell_type": "code",
     "collapsed": false,
     "input": [
      "import sys\n",
      "g = 9.81\n",
      "v0 = float(sys.argv[1])/3.6\n",
      "mu = float(sys.argv[2])\n",
      "d = v0**2/mu/g/2\n",
      "print 'd = %.0f m' % d"
     ],
     "language": "python",
     "metadata": {},
     "outputs": []
    },
    {
     "cell_type": "heading",
     "level": 1,
     "metadata": {},
     "source": [
      "4.12 Look up calendar functionality"
     ]
    },
    {
     "cell_type": "markdown",
     "metadata": {},
     "source": [
      "The purpose of this exercise is to make a program which takes a date, consisting of year (4 digits), month (2 digits), and day (1\u201331) on the command line and prints the corresponding name of the weekday\n",
      "(Monday, Tuesday, etc.). Python has a module `calendar`, which you must look up in the Python Library Reference (see Chapter 2.6.3), for calculating the weekday of a date. Name of program file: `weekday.py`."
     ]
    },
    {
     "cell_type": "code",
     "collapsed": false,
     "input": [
      "import calendar\n",
      "year = 2014\n",
      "month = 5\n",
      "day = 31\n",
      "print '%d-%d-%d is %s' % (year, month, day, calendar.day_name[calendar.weekday(year, month, day)])"
     ],
     "language": "python",
     "metadata": {},
     "outputs": [
      {
       "output_type": "stream",
       "stream": "stdout",
       "text": [
        "2014-5-31 is Saturday\n"
       ]
      }
     ],
     "prompt_number": 16
    },
    {
     "cell_type": "heading",
     "level": 1,
     "metadata": {},
     "source": [
      "4.13 Use the `StringFunction` tool"
     ]
    },
    {
     "cell_type": "markdown",
     "metadata": {},
     "source": [
      "Make the program `user_formula.py` from Chapter 4.1.3 shorter by using the convenient `StringFunction` tool from Chapter 4.1.4. Name of program file: `user_formula2.py`."
     ]
    },
    {
     "cell_type": "code",
     "collapsed": false,
     "input": [
      "from math import *\n",
      "from scitools.StringFunction import StringFunction\n",
      "formula = raw_input('Write a formula involving x: ')\n",
      "f = StringFunction(formula)\n",
      "x = 0\n",
      "while x is not None: \n",
      "    x = eval(raw_input('Give x (None to quit): '))\n",
      "    if x is not None:\n",
      "        print 'f(%g)=%g' % (x, f(x))"
     ],
     "language": "python",
     "metadata": {},
     "outputs": [
      {
       "name": "stdout",
       "output_type": "stream",
       "stream": "stdout",
       "text": [
        "Write a formula involving x: cos(x)\n"
       ]
      },
      {
       "name": "stdout",
       "output_type": "stream",
       "stream": "stdout",
       "text": [
        "Give x (None to quit): 2\n"
       ]
      },
      {
       "output_type": "stream",
       "stream": "stdout",
       "text": [
        "f(2)=-0.416147\n"
       ]
      },
      {
       "name": "stdout",
       "output_type": "stream",
       "stream": "stdout",
       "text": [
        "Give x (None to quit): 3\n"
       ]
      },
      {
       "output_type": "stream",
       "stream": "stdout",
       "text": [
        "f(3)=-0.989992\n"
       ]
      },
      {
       "name": "stdout",
       "output_type": "stream",
       "stream": "stdout",
       "text": [
        "Give x (None to quit): 3.1415926\n"
       ]
      },
      {
       "output_type": "stream",
       "stream": "stdout",
       "text": [
        "f(3.14159)=-1\n"
       ]
      },
      {
       "name": "stdout",
       "output_type": "stream",
       "stream": "stdout",
       "text": [
        "Give x (None to quit): None\n"
       ]
      }
     ],
     "prompt_number": 4
    },
    {
     "cell_type": "heading",
     "level": 1,
     "metadata": {},
     "source": [
      "4.14 Extend a program from Chapter 4.2.1"
     ]
    },
    {
     "cell_type": "markdown",
     "metadata": {},
     "source": [
      "How can you modify the `add_cml.py` program from the end of Chapter 4.2.1 such that it accepts input like `sqrt(2)` and `sin(1.2)`? In this case the output should be\n",
      "\n",
      "    <type 'float'> + <type 'float'> becomes <type 'float'>\n",
      "    with value 2.34625264834\n",
      "\n",
      "Hint: Mathematical functions like `sqrt` and `sin` must be defined in the program before using `eval`. Furthermore, Unix (`bash`) does not like the parentheses on the command line so you need to put quotes around the command-line arguments. Name of program file: `add_cml2.py`."
     ]
    },
    {
     "cell_type": "code",
     "collapsed": false,
     "input": [
      "import sys\n",
      "from math import *\n",
      "\n",
      "sys.argv = [0, 'sqrt(2)', 'sin(1.2)']\n",
      "\n",
      "i1 = eval(sys.argv[1])\n",
      "i2 = eval(sys.argv[2])\n",
      "r = i1 + i2\n",
      "print '%s + %s becomes %s\\nwith value %s' % (type(i1), type(i2), type(r), r)"
     ],
     "language": "python",
     "metadata": {},
     "outputs": [
      {
       "output_type": "stream",
       "stream": "stdout",
       "text": [
        "<type 'float'> + <type 'float'> becomes <type 'float'>\n",
        "with value 2.34625264834\n"
       ]
      }
     ],
     "prompt_number": 1
    },
    {
     "cell_type": "heading",
     "level": 1,
     "metadata": {},
     "source": [
      "4.15 Why we test for specific exception types"
     ]
    },
    {
     "cell_type": "markdown",
     "metadata": {},
     "source": [
      "The simplest way of writing a `try-except` block is to test for *any* exception, for example,\n",
      "\n",
      "    try:\n",
      "        C = float(sys.arg[1])\n",
      "    except:\n",
      "        print 'C must be provided as command-line argument'\n",
      "        sys.exit(1)\n",
      "\n",
      "Write the above statements in a program and test the program. What is the problem? The fact that a user can forget to supply a command-line argument when running the program was the original reason for using a `try` block. Find out what kind of exception that is relevant for this error and test\n",
      "for this specific exception and re-run the program. What is the problem now? Correct the program. Name of program file: `cml_exception.py`."
     ]
    },
    {
     "cell_type": "code",
     "collapsed": false,
     "input": [
      "import sys\n",
      "\n",
      "#sys.argv = ['filename', 98.7]\n",
      "#sys.argv = ['filename']\n",
      "sys.argv = ['filename', 'abc']\n",
      "\n",
      "try:\n",
      "    F = float(sys.argv[1])\n",
      "except IndexError:\n",
      "    print 'F must be provided as command-line argument'\n",
      "    sys.exit(1)\n",
      "except ValueError:\n",
      "    print 'F must be pure number'\n",
      "    sys.exit(1)\n",
      "C = (F-32)*5/9\n",
      "print 'C =', C"
     ],
     "language": "python",
     "metadata": {},
     "outputs": [
      {
       "output_type": "stream",
       "stream": "stdout",
       "text": [
        "F must be pure number\n"
       ]
      },
      {
       "ename": "SystemExit",
       "evalue": "1",
       "output_type": "pyerr",
       "traceback": [
        "An exception has occurred, use %tb to see the full traceback.\n",
        "\u001b[1;31mSystemExit\u001b[0m\u001b[1;31m:\u001b[0m 1\n"
       ]
      },
      {
       "output_type": "stream",
       "stream": "stderr",
       "text": [
        "To exit: use 'exit', 'quit', or Ctrl-D.\n"
       ]
      }
     ],
     "prompt_number": 11
    },
    {
     "cell_type": "heading",
     "level": 1,
     "metadata": {},
     "source": [
      "4.16 Make a simple module"
     ]
    },
    {
     "cell_type": "markdown",
     "metadata": {},
     "source": [
      "Make six conversion functions between temperatures in Celsius, Kelvin, and Fahrenheit: `C2F`, `F2C`, `C2K`, `K2C`, `F2K`, and `K2F`. Collect these functions in a module `convert_temp`. Import the module in an interactive Python shell and demonstrate some sample calls on temperature conversions. Name of program file: `convert_temp.py`."
     ]
    },
    {
     "cell_type": "code",
     "collapsed": false,
     "input": [
      "def c2f(C):\n",
      "    return 1.8*C + 32\n",
      "\n",
      "def f2c(F):\n",
      "    return (F - 32)/1.8\n",
      "\n",
      "def c2k(C):\n",
      "    return C + 273.15\n",
      "\n",
      "def k2c(K):\n",
      "    return K - 273.15\n",
      "\n",
      "def f2k(F):\n",
      "    return (F - 32)/1.8 + 273.15\n",
      "\n",
      "def k2f(K):\n",
      "    return 1.8*(K - 273.15) + 32"
     ],
     "language": "python",
     "metadata": {},
     "outputs": [],
     "prompt_number": 12
    },
    {
     "cell_type": "heading",
     "level": 1,
     "metadata": {},
     "source": [
      "4.17 Make a useful main program for Exer. 4.16"
     ]
    },
    {
     "cell_type": "markdown",
     "metadata": {},
     "source": [
      "Extend the module made in Exercise 4.16 with a main program in the test block. This main program should read the first commandline argument as a numerical value of a temperature and the second\n",
      "argument as a temperature scale: `C`, `K`, or `F`. Write out the temperature in the other two scales. For example, if `21.3 C` is given on the command line, the output should be `70.34 F 294.45 K`. Name of program file: `convert_temp2.py`."
     ]
    },
    {
     "cell_type": "code",
     "collapsed": false,
     "input": [
      "def c2f(C):\n",
      "    return 1.8*C + 32\n",
      "\n",
      "def f2c(F):\n",
      "    return (F - 32)/1.8\n",
      "\n",
      "def c2k(C):\n",
      "    return C + 273.15\n",
      "\n",
      "def k2c(K):\n",
      "    return K - 273.15\n",
      "\n",
      "def f2k(F):\n",
      "    return (F - 32)/1.8 + 273.15\n",
      "\n",
      "def k2f(K):\n",
      "    return 1.8*(K - 273.15) + 32\n",
      "\n",
      "if __name__ == '__main__':\n",
      "    import sys\n",
      "    T = float(sys.argv[1])\n",
      "    scale = sys.argv[2]\n",
      "    if scale == 'C':\n",
      "        print c2f(T), 'F', c2k(T), 'K'\n",
      "    elif scale == 'F':\n",
      "        print f2c(T), 'C', f2k(T), 'K'\n",
      "    elif scale == 'K':\n",
      "        print k2f(T), 'F', k2c(T), 'C'\n",
      "    else:\n",
      "        print 'Scale must be C, F or K only.'"
     ],
     "language": "python",
     "metadata": {},
     "outputs": []
    },
    {
     "cell_type": "heading",
     "level": 1,
     "metadata": {},
     "source": [
      "4.18 Make a module in Exer. 3.13"
     ]
    },
    {
     "cell_type": "markdown",
     "metadata": {},
     "source": [
      "Collect the `f` and `S` functions in the program from Exercise 3.13 in a separate file such that this file becomes a module. Put the statements making the table (i.e., the main program from Exercise 3.13) in a separate function `table(n_values, alpha_values, T)`, and call this function only if the module file is run as a program (i.e., call `table` from a test block, see Chapter 4.5.2). Name of program file: `sinesum2.py`."
     ]
    },
    {
     "cell_type": "code",
     "collapsed": false,
     "input": [
      "from math import sin, pi\n",
      "\n",
      "def f(t, T):\n",
      "    if t<T/2.:\n",
      "        return 1\n",
      "    elif t==T/2.:\n",
      "        return 0\n",
      "    else:\n",
      "        return -1\n",
      "    \n",
      "def S(t, n, T):\n",
      "    sum = 0\n",
      "    for i in range(1, n+1):\n",
      "        ii = 2*i - 1\n",
      "        sum += sin(2*ii*t*pi/T)/ii\n",
      "    return sum*4/pi\n",
      "\n",
      "def table(n_values = [1, 5, 10, 50, 99], alpha_values = [0.01, 0.25, 0.49], T = 2*pi):\n",
      "    for alpha in alpha_values:\n",
      "        t = alpha*T\n",
      "        print 'alpha =', alpha\n",
      "        print ' n |   f  |  approx | error'\n",
      "        print '---|------|---------|------'\n",
      "        for n in n_values:\n",
      "            fi = f(t, T)\n",
      "            si = S(t, n, T)\n",
      "            print '%2d | %4.1f | %7.4f | %.3f' % (n, fi, si, abs(fi-si))\n",
      "        print\n",
      "        \n",
      "if __name__ == '__main__':\n",
      "    table()"
     ],
     "language": "python",
     "metadata": {},
     "outputs": []
    },
    {
     "cell_type": "heading",
     "level": 1,
     "metadata": {},
     "source": [
      "4.19 Extend the module from Exer. 4.18"
     ]
    },
    {
     "cell_type": "markdown",
     "metadata": {},
     "source": [
      "Extend the program from Exercise 4.18 such that $T$ and a series of $n$ and $\u03b1$ values are read from the command line. The extended program should import the `table` function from the module `sinesum2` (and not copy any code from the module file). Name of program file: `sinesum3.py`."
     ]
    },
    {
     "cell_type": "code",
     "collapsed": false,
     "input": [
      "import sys\n",
      "from sinesum2 import table\n",
      "\n",
      "n_values = eval(sys.argv[1])\n",
      "print '\\nn     =', n_values\n",
      "alpha_values = eval(sys.argv[2])\n",
      "print 'alpha =', alpha_values\n",
      "T = float(sys.argv[3])\n",
      "print 'T     =', T, '\\n'\n",
      "table(n_values, alpha_values, T)"
     ],
     "language": "python",
     "metadata": {},
     "outputs": []
    }
   ],
   "metadata": {}
  }
 ]
}